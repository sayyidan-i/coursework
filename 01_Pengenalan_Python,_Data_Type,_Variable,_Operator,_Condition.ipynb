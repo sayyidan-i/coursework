{
  "nbformat": 4,
  "nbformat_minor": 0,
  "metadata": {
    "kernelspec": {
      "display_name": "Python 3",
      "language": "python",
      "name": "python3"
    },
    "language_info": {
      "codemirror_mode": {
        "name": "ipython",
        "version": 3
      },
      "file_extension": ".py",
      "mimetype": "text/x-python",
      "name": "python",
      "nbconvert_exporter": "python",
      "pygments_lexer": "ipython3",
      "version": "3.8.5"
    },
    "colab": {
      "provenance": [],
      "include_colab_link": true
    }
  },
  "cells": [
    {
      "cell_type": "markdown",
      "metadata": {
        "id": "view-in-github",
        "colab_type": "text"
      },
      "source": [
        "<a href=\"https://colab.research.google.com/github/sayyidan-i/coursework/blob/main/01_Pengenalan_Python%2C_Data_Type%2C_Variable%2C_Operator%2C_Condition.ipynb\" target=\"_parent\"><img src=\"https://colab.research.google.com/assets/colab-badge.svg\" alt=\"Open In Colab\"/></a>"
      ]
    },
    {
      "cell_type": "markdown",
      "metadata": {
        "id": "w-zL3EK857Lc"
      },
      "source": [
        "# DIGITAL TALENT\n",
        "\n",
        "Setelah mengikuti materi pertama ini peserta diharapkan dapat:\n",
        "1. Menjalankan sintaks dasar python\n",
        "2. Mengenal variabel serta mampu menggunakan variabel\n",
        "3. Mengetahui jenis-jenis tipe data dalam python\n",
        "4. Mengetahui jenis-jenis operator\n",
        "5. Dapat menggunakan operator aritmetika, assignment, perbandingan, serta logika\n",
        "6. Memahami algoritma dari statement kondisi\n",
        "7. Dapat menggunakan statement kondisi dalam kasus pemrograman"
      ]
    },
    {
      "cell_type": "markdown",
      "metadata": {
        "id": "-FIU6ycM57Le"
      },
      "source": [
        "## Hello World !"
      ]
    },
    {
      "cell_type": "code",
      "metadata": {
        "colab": {
          "base_uri": "https://localhost:8080/"
        },
        "id": "wEYmaUnX57Lf",
        "outputId": "c70ccd41-b829-48bb-d09b-03dbcc112e40"
      },
      "source": [
        "print(\"Hai\") #ctrl+<enter>"
      ],
      "execution_count": null,
      "outputs": [
        {
          "output_type": "stream",
          "text": [
            "Hai\n"
          ],
          "name": "stdout"
        }
      ]
    },
    {
      "cell_type": "markdown",
      "metadata": {
        "id": "11q6burq57Lf"
      },
      "source": [
        "## Variabel\n",
        "Variabel adalah tempat menyimpan nilai sementara. Berikut adalah cara mendeklarasikan, menginisialisasi variabel dan memanggil variabel dalam python:\n"
      ]
    },
    {
      "cell_type": "code",
      "metadata": {
        "colab": {
          "base_uri": "https://localhost:8080/"
        },
        "id": "VjhIeV6V57Lf",
        "outputId": "6c53a79a-0ec1-40b5-e814-25ac85d4d680"
      },
      "source": [
        "# dynamic typing\n",
        "var_i = 1\n",
        "var_f = 5.0\n",
        "a,b,c = 2,3,\"hello\"\n",
        "\n",
        "print(var_i, type(var_i))\n",
        "\n",
        "print(var_f, type(var_f))\n",
        "\n",
        "print(a,b,c)"
      ],
      "execution_count": null,
      "outputs": [
        {
          "output_type": "stream",
          "text": [
            "1 <class 'int'>\n",
            "5.0 <class 'float'>\n",
            "2 3 hello\n"
          ],
          "name": "stdout"
        }
      ]
    },
    {
      "cell_type": "code",
      "metadata": {
        "colab": {
          "base_uri": "https://localhost:8080/"
        },
        "id": "-xWRFkqz8ktl",
        "outputId": "20df862d-d59a-46a3-a0ea-d3c045fb0e48"
      },
      "source": [
        "s = 'ha\"i'\n",
        "ss = \"ha'i\"\n",
        "print(s,ss)"
      ],
      "execution_count": null,
      "outputs": [
        {
          "output_type": "stream",
          "text": [
            "ha\"i ha'i\n"
          ],
          "name": "stdout"
        }
      ]
    },
    {
      "cell_type": "code",
      "metadata": {
        "id": "5_8cXiPE8krj"
      },
      "source": [],
      "execution_count": null,
      "outputs": []
    },
    {
      "cell_type": "markdown",
      "metadata": {
        "id": "x8yrhHp257Lg"
      },
      "source": [
        "## TIPE DATA\n",
        "Dalam setiap nilai di variabel, terdapat sebuah tipe data tertentu. Pada python, terdapat beberapa tipe data:\n",
        "\n",
        "- Numbers\n",
        "- Strings\n",
        "- Boolean\n",
        "- List\n",
        "- Tuple\n",
        "- Set\n",
        "- Dictionary"
      ]
    },
    {
      "cell_type": "markdown",
      "metadata": {
        "id": "HUs7U-DB57Lg"
      },
      "source": [
        "### Numbers\n",
        "- Integer : Angka tanpa koma\n",
        "- Float : Angka dengan Koma"
      ]
    },
    {
      "cell_type": "code",
      "metadata": {
        "colab": {
          "base_uri": "https://localhost:8080/"
        },
        "id": "sX1dLkmD57Lg",
        "outputId": "6b67bbf4-5e95-4c35-9e41-2f2b4efe8d0f"
      },
      "source": [
        "i = 4\n",
        "f = 3.4\n",
        "print(type(i),type(3.4))"
      ],
      "execution_count": null,
      "outputs": [
        {
          "output_type": "stream",
          "text": [
            "<class 'int'> <class 'float'>\n"
          ],
          "name": "stdout"
        }
      ]
    },
    {
      "cell_type": "markdown",
      "metadata": {
        "id": "vu3b3BFm57Lg"
      },
      "source": [
        "### Boolean\n",
        "Benar atau Salah?"
      ]
    },
    {
      "cell_type": "code",
      "metadata": {
        "colab": {
          "base_uri": "https://localhost:8080/"
        },
        "id": "moaPLMBr57Lh",
        "outputId": "308824f0-41ec-49ee-9f89-ea0e3765362a"
      },
      "source": [
        "boolt = True\n",
        "boolf = False\n",
        "print(type(boolt))"
      ],
      "execution_count": null,
      "outputs": [
        {
          "output_type": "stream",
          "text": [
            "<class 'bool'>\n"
          ],
          "name": "stdout"
        }
      ]
    },
    {
      "cell_type": "markdown",
      "metadata": {
        "id": "NnPX1waT57Lh"
      },
      "source": [
        "### String\n",
        "Kumpulan karakter"
      ]
    },
    {
      "cell_type": "code",
      "metadata": {
        "colab": {
          "base_uri": "https://localhost:8080/"
        },
        "id": "_lzLSEbt57Lh",
        "outputId": "e5a0e82a-ba20-49e9-cf94-cac52b05b19b"
      },
      "source": [
        "s = 'hai '\n",
        "ss = \"ha'i\"\n",
        "print(s,ss)"
      ],
      "execution_count": null,
      "outputs": [
        {
          "output_type": "stream",
          "text": [
            "hai  ha'i\n"
          ],
          "name": "stdout"
        }
      ]
    },
    {
      "cell_type": "code",
      "metadata": {
        "colab": {
          "base_uri": "https://localhost:8080/"
        },
        "id": "4CfQeKLc9sci",
        "outputId": "e4ec76cd-e792-4837-cc06-6813ad1cb96c"
      },
      "source": [
        "slong = s*4\n",
        "print(slong)"
      ],
      "execution_count": null,
      "outputs": [
        {
          "output_type": "stream",
          "text": [
            "hai hai hai hai \n"
          ],
          "name": "stdout"
        }
      ]
    },
    {
      "cell_type": "markdown",
      "metadata": {
        "id": "vWt7sxm557Lh"
      },
      "source": [
        "### List & Tuple & Dictionary\n",
        "dibahas minggu depan"
      ]
    },
    {
      "cell_type": "markdown",
      "metadata": {
        "id": "0d__b3Ri57Li"
      },
      "source": [
        "## Operator"
      ]
    },
    {
      "cell_type": "markdown",
      "metadata": {
        "id": "CPVIJpu857Li"
      },
      "source": [
        "### 1. Operator Aritmetika\n",
        "\n",
        "| Operator | Arti                                                                                          | Contoh                  |\n",
        "|----------|--------------------------------------------------------------------------------------------------|--------------------------|\n",
        "| +        | Penambahan                                                                   | x + y                 |\n",
        "| -        | Pengurangan                                              | x - y                  |\n",
        "| *        | Perkalian                                                                            | x * y                    |\n",
        "| /        | Pembagian                                 | x / y                    |\n",
        "| %        | Modulo - Sisa Pembagian                                 | x % y (sisa pembagian of x/y) |\n",
        "| //       | Pembagian dan dibulatkan ke bawah | x // y                   |\n",
        "| **       | Eksponen - Pangkat                                             | x**y (x pangkat y)  |"
      ]
    },
    {
      "cell_type": "code",
      "metadata": {
        "colab": {
          "base_uri": "https://localhost:8080/"
        },
        "id": "x544zxdb57Li",
        "outputId": "b300ec89-3aa9-47dd-c6d3-32bae30cf3f6"
      },
      "source": [
        "x = 5\n",
        "y = 4\n",
        "\n",
        "print(x+y)\n",
        "print(x/y)\n",
        "print(x//y)\n",
        "print(x*y)\n",
        "print(x**y)\n"
      ],
      "execution_count": null,
      "outputs": [
        {
          "output_type": "stream",
          "text": [
            "9\n",
            "1.25\n",
            "1\n",
            "20\n",
            "625\n"
          ],
          "name": "stdout"
        }
      ]
    },
    {
      "cell_type": "markdown",
      "metadata": {
        "id": "Opn2zy6S57Li"
      },
      "source": [
        "### 2. Operator Assignment\n",
        "Pemberian Nilai, Updating Nilai"
      ]
    },
    {
      "cell_type": "code",
      "metadata": {
        "colab": {
          "base_uri": "https://localhost:8080/"
        },
        "id": "zI4gmZuC57Lj",
        "outputId": "79ae489e-34b6-49ea-9266-1f1037bbbc51"
      },
      "source": [
        "x=x+4\n",
        "print(x)"
      ],
      "execution_count": null,
      "outputs": [
        {
          "output_type": "stream",
          "text": [
            "9\n"
          ],
          "name": "stdout"
        }
      ]
    },
    {
      "cell_type": "markdown",
      "metadata": {
        "id": "P3U1Hp0E57Lj"
      },
      "source": [
        "![alt text](https://www.freeiconspng.com/uploads/book-store-icon-31.png \"Bookstore\")\n",
        "\n",
        "## LATIHAN\n",
        "\n",
        "\n",
        "#### Pada keluaran buku terbaru, Harry Potter harga buku adalah Rp 100.000, tetapi toko buku mendapatkan diskon 40%. Pengiriman biaya Rp 9.000 untuk salinan pertama dan Rp 3.000 untuk setiap salinan tambahan. Berapa total biaya keseluruhan untuk pengiriman buku 60 eksemplar?"
      ]
    },
    {
      "cell_type": "code",
      "metadata": {
        "colab": {
          "base_uri": "https://localhost:8080/"
        },
        "id": "JuQAmdj957Lj",
        "outputId": "b161a61e-27c0-40b9-a6a8-d69f783d84e5"
      },
      "source": [
        "\n",
        "harga_buku = 100000\n",
        "diskon =(4/10)*harga_buku\n",
        "ongkir1 =9000\n",
        "ongkir2 = 3000\n",
        "\n",
        "harga_total = 60*(harga_buku-diskon) + ongkir1 +ongkir2*59\n",
        "print(harga_total)"
      ],
      "execution_count": null,
      "outputs": [
        {
          "output_type": "stream",
          "text": [
            "3786000.0\n"
          ],
          "name": "stdout"
        }
      ]
    },
    {
      "cell_type": "markdown",
      "metadata": {
        "id": "tT4CCd2A57Lj"
      },
      "source": [
        "### 3. Operator Perbandingan\n",
        "| Operator | Meaning                 | Example |\n",
        "|----------|-------------------------|---------|\n",
        "| >        | Lebih Dari              | x > y   |\n",
        "| <        | Kurang Dari             | x < y   |\n",
        "| ==       | Sama Dengan             | x == y  |\n",
        "| !=       | Tidak Sama Dengan        | x != y  |\n",
        "| >=       | Lebih dari sama dengan  | x >= y  |\n",
        "| <=       | Kurang dari sama dengan | x <= y  |"
      ]
    },
    {
      "cell_type": "code",
      "metadata": {
        "colab": {
          "base_uri": "https://localhost:8080/"
        },
        "id": "jOlxqskF57Lj",
        "outputId": "3a89c455-500c-4fe6-d98e-3b2b82eab490"
      },
      "source": [
        "x = 10\n",
        "y = 12\n",
        "\n",
        "print('x > y  is',x>y) #False\n",
        "\n",
        "print('x < y  is',x<y)\n",
        "\n",
        "print('x == y is',x==y)\n",
        "\n",
        "print('x != y is',x!=y)\n",
        "\n",
        "print('x >= y is',x>=y)\n",
        "\n",
        "print('x <= y is',x<=y)"
      ],
      "execution_count": null,
      "outputs": [
        {
          "output_type": "stream",
          "text": [
            "x > y  is False\n",
            "x < y  is True\n",
            "x == y is False\n",
            "x != y is True\n",
            "x >= y is False\n",
            "x <= y is True\n"
          ],
          "name": "stdout"
        }
      ]
    },
    {
      "cell_type": "markdown",
      "metadata": {
        "id": "3j9V1Kf157Lj"
      },
      "source": [
        "### 4. Operator Logika\n",
        "\n",
        "| Operator | Keterangan                         | Contoh  |\n",
        "|----------|------------------------------------|---------|\n",
        "| and      | True jika keduanya True            | x and y |\n",
        "| or       | True jika salah satunya True       | x or y  |\n",
        "| not      | not False = True; not True = False | not x   |"
      ]
    },
    {
      "cell_type": "code",
      "metadata": {
        "colab": {
          "base_uri": "https://localhost:8080/"
        },
        "id": "0yRRGVAM57Lk",
        "outputId": "1e73b1b7-bca2-41f2-b33b-40aa92e6c02c"
      },
      "source": [
        "x = 5 == 5\n",
        "y = 1 > 2\n",
        "\n",
        "\n",
        "print('x and y is',x and y)\n",
        "\n",
        "print('x or y is',x or y)\n",
        "\n",
        "print('not x is',not x)"
      ],
      "execution_count": null,
      "outputs": [
        {
          "output_type": "stream",
          "text": [
            "x and y is False\n",
            "x or y is True\n",
            "not x is False\n"
          ],
          "name": "stdout"
        }
      ]
    },
    {
      "cell_type": "markdown",
      "metadata": {
        "id": "3HMrZftk57Lk"
      },
      "source": [
        "# Statement Kondisi / Percabangan\n",
        "Dalam pembuatan program, seringkali kita memiliki kondisi, jika..maka, contohnya: jika nilai hasil ujian > 90, maka calon peserta digital talent berhak mengikuti program beasiswa. Kondisi seperti ini dapat digambarkan dengan Flowchart seperti dibawah ini:"
      ]
    },
    {
      "cell_type": "markdown",
      "metadata": {
        "id": "6deO6EQ157Lk"
      },
      "source": [
        "![alt text](https://cdn.programiz.com/sites/tutorial2program/files/Python_if_statement.jpg \"If Statement\")\n"
      ]
    },
    {
      "cell_type": "markdown",
      "metadata": {
        "id": "SFmiiIsU57Lk"
      },
      "source": [
        "Berikut adalah sintaks dari kode program kondisional / percabangan.\n",
        "Perhatikan Indentasi yang ada pada sintaks tersebut."
      ]
    },
    {
      "cell_type": "code",
      "metadata": {
        "colab": {
          "base_uri": "https://localhost:8080/"
        },
        "id": "RxvFFY4357Ll",
        "outputId": "d11eddce-ad1f-4540-c24b-ef31669755c1"
      },
      "source": [
        "# single if -> komentar\n",
        "\n",
        "if 5<4:\n",
        "   print('masuk if')\n",
        "   pass\n",
        "   pass\n",
        "   pass\n",
        "   print('akhir if')\n",
        "\n",
        "print('sudah selesai')\n"
      ],
      "execution_count": null,
      "outputs": [
        {
          "output_type": "stream",
          "text": [
            "sudah selesai\n"
          ],
          "name": "stdout"
        }
      ]
    },
    {
      "cell_type": "markdown",
      "metadata": {
        "id": "gn8ThVqc57Ll"
      },
      "source": [
        "Dalam bahasa pemrograman Python, Indentasi sangatlah penting untuk menentukan blok kode sebuah program.\n",
        "\n",
        "Selanjutnya, terdapat bentuk yang sedikit lebih kompleks, yaitu dengan menggunakan else:"
      ]
    },
    {
      "cell_type": "markdown",
      "metadata": {
        "id": "0RGAGg6757Ll"
      },
      "source": [
        "![alt text](https://cdn.programiz.com/sites/tutorial2program/files/Python_if_else_statement.jpg \"If Else Statement\")"
      ]
    },
    {
      "cell_type": "code",
      "metadata": {
        "colab": {
          "base_uri": "https://localhost:8080/"
        },
        "id": "56XlBVZ-57Ll",
        "outputId": "d273056a-221b-476f-f18c-9af1cddc5c2d"
      },
      "source": [
        "# if else\n",
        "if 5<4:\n",
        "  print('masuk if') # blok kode\n",
        "else:\n",
        "  print('masuk else') #blok else\n",
        "\n",
        "print('blok luar')"
      ],
      "execution_count": null,
      "outputs": [
        {
          "output_type": "stream",
          "text": [
            "masuk else\n",
            "blok luar\n"
          ],
          "name": "stdout"
        }
      ]
    },
    {
      "cell_type": "markdown",
      "metadata": {
        "id": "fOwK3eFd57Lm"
      },
      "source": [
        "Jika terdapat lebih dari satu kondisi dapat menggunakan elif (else if):"
      ]
    },
    {
      "cell_type": "markdown",
      "metadata": {
        "id": "cEE0Boi857Lm"
      },
      "source": [
        "![alt text](https://cdn.programiz.com/sites/tutorial2program/files/Python_if_elif_else_statement.jpg \"If Else If Statement\")\n"
      ]
    },
    {
      "cell_type": "code",
      "metadata": {
        "id": "1hW_Mp8J57Lm"
      },
      "source": [
        "# if elif else\n",
        "\n",
        "if kondisi:\n",
        "  pass\n",
        "elif kondisi2:\n",
        "  pass\n",
        "else:\n",
        "  pass"
      ],
      "execution_count": null,
      "outputs": []
    },
    {
      "cell_type": "markdown",
      "metadata": {
        "id": "r3m36XTt57Lm"
      },
      "source": [
        "Percabangan juga bisa disarangkan pada percabangan, contoh:"
      ]
    },
    {
      "cell_type": "code",
      "metadata": {
        "colab": {
          "base_uri": "https://localhost:8080/"
        },
        "id": "mEMO5KPX57Lm",
        "outputId": "084509c1-ba3d-445d-faf2-95faeead5661"
      },
      "source": [
        "if 5>3:\n",
        "  if 3>4:\n",
        "    print('nested')\n",
        "elif 4>3:\n",
        "  print('elif')\n",
        "else:\n",
        "  print('else')\n",
        "\n",
        "print('keluar')"
      ],
      "execution_count": null,
      "outputs": [
        {
          "output_type": "stream",
          "text": [
            "keluar\n"
          ],
          "name": "stdout"
        }
      ]
    },
    {
      "cell_type": "code",
      "metadata": {
        "colab": {
          "base_uri": "https://localhost:8080/"
        },
        "id": "Mnxm9yZWENa9",
        "outputId": "d6975a8f-3b3f-4c8a-ac01-2c5fdd75e9b4"
      },
      "source": [
        "nilai =75\n",
        "\n",
        "if nilai>80:\n",
        "  print(\"A\")\n",
        "elif nilai >60:\n",
        "  print('B')\n",
        "else:\n",
        "  print('C')"
      ],
      "execution_count": null,
      "outputs": [
        {
          "output_type": "stream",
          "text": [
            "B\n"
          ],
          "name": "stdout"
        }
      ]
    },
    {
      "cell_type": "markdown",
      "metadata": {
        "id": "vEdSPu0D57Lm"
      },
      "source": [
        "![alt text](https://cdn.iconscout.com/icon/free/png-256/human-body-458026.png \"Body\")"
      ]
    },
    {
      "cell_type": "markdown",
      "metadata": {
        "id": "qOKB8Iaq57Ln"
      },
      "source": [
        "## LATIHAN\n",
        "\n",
        "\n",
        "Body Mass Index (BMI) menentukan sebuah keidealan berat badan terhadap tinggi badan. Berikut adalah formula dari BMI : BMI = weight (kg) ÷ height^2 (m^2)\n",
        "\n",
        "Berikut adalah kategorisasi BMI\n",
        "\n",
        "| BMI                 | Kategori BMI             |   |\n",
        "|---------------------|---------------------------|---|\n",
        "| Kurang dari 15        | Very severely underweight |   |\n",
        "| Diantara 15 dan 16   | Severely underweight      |   |\n",
        "| Diantara 16 dan 18.5 | Underweight               |   |\n",
        "| Diantara 18.5 dan 25 | Normal (healthy weight)   |   |\n",
        "| Diantara 25 dan 30   | Overweight                |   |\n",
        "| Diantara 30 dan 35   | Moderately obese          |   |\n",
        "| Diantara 35 dan 40   | Severely obese            |   |\n",
        "| Over 40             | Very severely obese       |   |\n",
        "\n",
        "Buatlah sebuah program yang memiliki dua variabel berat badan dengan satuan KG, dan tinggi badan dengan satuan CM, kemudian keluaran dari program adalah Kategori BMI"
      ]
    },
    {
      "cell_type": "code",
      "metadata": {
        "id": "y9Ws4aSb57Ln"
      },
      "source": [],
      "execution_count": null,
      "outputs": []
    }
  ]
}