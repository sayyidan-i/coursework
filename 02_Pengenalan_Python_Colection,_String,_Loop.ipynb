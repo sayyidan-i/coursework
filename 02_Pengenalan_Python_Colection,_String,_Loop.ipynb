{
  "nbformat": 4,
  "nbformat_minor": 0,
  "metadata": {
    "kernelspec": {
      "display_name": "Python 3",
      "language": "python",
      "name": "python3"
    },
    "language_info": {
      "codemirror_mode": {
        "name": "ipython",
        "version": 3
      },
      "file_extension": ".py",
      "mimetype": "text/x-python",
      "name": "python",
      "nbconvert_exporter": "python",
      "pygments_lexer": "ipython3",
      "version": "3.8.5"
    },
    "colab": {
      "provenance": [],
      "include_colab_link": true
    }
  },
  "cells": [
    {
      "cell_type": "markdown",
      "metadata": {
        "id": "view-in-github",
        "colab_type": "text"
      },
      "source": [
        "<a href=\"https://colab.research.google.com/github/sayyidan-i/coursework/blob/main/02_Pengenalan_Python_Colection%2C_String%2C_Loop.ipynb\" target=\"_parent\"><img src=\"https://colab.research.google.com/assets/colab-badge.svg\" alt=\"Open In Colab\"/></a>"
      ]
    },
    {
      "cell_type": "markdown",
      "metadata": {
        "id": "66ogThsPEvqB"
      },
      "source": [
        "# 1. Perulangan / Looping\n",
        "Sintaks yang digunakan untuk menjalankan sebuah kode program secara berulang kali hingga step yang ditentukan"
      ]
    },
    {
      "cell_type": "code",
      "metadata": {
        "colab": {
          "base_uri": "https://localhost:8080/"
        },
        "id": "0m9Hq8aFEvqD",
        "outputId": "8ad0f060-7538-450d-84ee-dd7374febbb7"
      },
      "source": [
        "#SINTAKS FOR -> kita gunakan untuk mengiterasi sesuatu yang iterable\n",
        "for i in range(10):\n",
        "  print(i)\n"
      ],
      "execution_count": null,
      "outputs": [
        {
          "output_type": "stream",
          "text": [
            "0\n",
            "1\n",
            "2\n",
            "3\n",
            "4\n",
            "5\n",
            "6\n",
            "7\n",
            "8\n",
            "9\n"
          ],
          "name": "stdout"
        }
      ]
    },
    {
      "cell_type": "code",
      "metadata": {
        "colab": {
          "base_uri": "https://localhost:8080/"
        },
        "id": "JhS6O0-JEvqE",
        "outputId": "86ca31f1-01ef-4522-887b-f827a46350eb"
      },
      "source": [
        "#SINTAKS WHILE -> pure loop / asal kondisinya terpenuhi\n",
        "i = 0\n",
        "while i <10:\n",
        "  print(i)\n",
        "  i=i+1\n",
        "\n",
        "print('keluar')\n"
      ],
      "execution_count": null,
      "outputs": [
        {
          "output_type": "stream",
          "text": [
            "0\n",
            "1\n",
            "2\n",
            "3\n",
            "4\n",
            "5\n",
            "6\n",
            "7\n",
            "8\n",
            "9\n",
            "keluar\n"
          ],
          "name": "stdout"
        }
      ]
    },
    {
      "cell_type": "markdown",
      "metadata": {
        "id": "I7WmMjMKEvqE"
      },
      "source": [
        "# 2. List\n",
        "Tipe data yang digunakan untuk menyimpan beberapa nilai dalam satu variabel"
      ]
    },
    {
      "cell_type": "code",
      "metadata": {
        "colab": {
          "base_uri": "https://localhost:8080/"
        },
        "id": "1Ph3MV9hEvqE",
        "outputId": "56735f5f-f4c7-4436-98de-a1bf392a2748"
      },
      "source": [
        "# Deklarasi List\n",
        "\n",
        "#Dapat Berisi Angka\n",
        "nilai = [30,40,50,60,70,80,90]\n",
        "print(nilai)\n",
        "\n",
        "#Dapat berisi String\n",
        "peserta = ['Ani','Budi','Catra','Desi']\n",
        "print(peserta)\n",
        "\n",
        "#Dapat juga berisi campuran tipe data\n",
        "campuran = ['Big',2.5, 90, 'Data']\n",
        "print(campuran)"
      ],
      "execution_count": null,
      "outputs": [
        {
          "output_type": "stream",
          "text": [
            "[30, 40, 50, 60, 70, 80, 90]\n",
            "['Ani', 'Budi', 'Catra', 'Desi']\n",
            "['Big', 2.5, 90, 'Data']\n"
          ],
          "name": "stdout"
        }
      ]
    },
    {
      "cell_type": "markdown",
      "metadata": {
        "id": "1xuAI1tlEvqF"
      },
      "source": [
        "## 2.1 List Index\n",
        "Untuk mengakses elemen tertentu di dalam list, kita dapat menggunakan list index. Index list dimulai dari 0. Index di dalam python juga dapat dibuat negatif, yang artinya index akan ditelusuri dari belakang\n",
        "\n",
        "| 30 | 40 | 50 | 60 | 70 | 80 | 90 |\n",
        "|----|----|----|----|----|----|----|\n",
        "| 0 | 1 | 2 | 3 | 4 | 5 | 6 | 7 |"
      ]
    },
    {
      "cell_type": "code",
      "metadata": {
        "colab": {
          "base_uri": "https://localhost:8080/"
        },
        "id": "7Rvch1s0EvqF",
        "outputId": "d218b6d3-ff51-4cf7-a428-d2458f5fb39e"
      },
      "source": [
        "# indexing\n",
        "print(nilai[-2])\n",
        "print(nilai[0])\n",
        "print(nilai[5])"
      ],
      "execution_count": null,
      "outputs": [
        {
          "output_type": "stream",
          "text": [
            "80\n",
            "30\n",
            "80\n"
          ],
          "name": "stdout"
        }
      ]
    },
    {
      "cell_type": "markdown",
      "metadata": {
        "id": "OQp6dgn6EvqF"
      },
      "source": [
        "## 2.2 Menambah Elemen ke Dalam List"
      ]
    },
    {
      "cell_type": "code",
      "metadata": {
        "colab": {
          "base_uri": "https://localhost:8080/"
        },
        "id": "K3XZC3KnEvqG",
        "outputId": "8cefa371-2d8c-4219-a443-083e6c7107e3"
      },
      "source": [
        "# append, extend, delete, len\n",
        "nilai.append([100,20,40])\n",
        "print(nilai)"
      ],
      "execution_count": null,
      "outputs": [
        {
          "output_type": "stream",
          "text": [
            "[30, 40, 50, 60, 70, 80, 90, 10, 100, 100, 20, 40, [100, 20, 40]]\n"
          ],
          "name": "stdout"
        }
      ]
    },
    {
      "cell_type": "code",
      "metadata": {
        "colab": {
          "base_uri": "https://localhost:8080/"
        },
        "id": "vqcfq7VtHPA1",
        "outputId": "3004732f-e77d-4387-f6e2-50ca270b548d"
      },
      "source": [
        "nilai.extend([100,20,40])\n",
        "print(nilai)"
      ],
      "execution_count": null,
      "outputs": [
        {
          "output_type": "stream",
          "text": [
            "[30, 40, 50, 60, 70, 80, 90, 10, 100, 100, 20, 40]\n"
          ],
          "name": "stdout"
        }
      ]
    },
    {
      "cell_type": "markdown",
      "metadata": {
        "id": "3XT10ePLEvqG"
      },
      "source": [
        "## 2.3 Slicing List\n",
        "Slicing digunakan untuk memilih beberapa kelompok nilai dari list dengan memanfaatkan range index"
      ]
    },
    {
      "cell_type": "code",
      "metadata": {
        "colab": {
          "base_uri": "https://localhost:8080/"
        },
        "id": "DrHVdl4REvqG",
        "outputId": "a1ad9b7c-8787-4687-cfd4-4049cd8eb2a1"
      },
      "source": [
        "print(nilai)\n",
        "\n",
        "# elemen ke 3 sampai ke 5\n",
        "print(nilai[2:5])\n",
        "\n",
        "# ...\n",
        "print(nilai[:-2])\n",
        "\n",
        "# ...\n",
        "print(nilai[5:])\n",
        "\n",
        "# ...\n",
        "print(nilai[:])"
      ],
      "execution_count": null,
      "outputs": [
        {
          "output_type": "stream",
          "text": [
            "[30, 40, 50, 60, 70, 80, 90, 10, 100, 100, 20, 40, [100, 20, 40]]\n",
            "[50, 60, 70]\n",
            "[30, 40, 50, 60, 70, 80, 90, 10, 100, 100, 20]\n",
            "[80, 90, 10, 100, 100, 20, 40, [100, 20, 40]]\n",
            "[30, 40, 50, 60, 70, 80, 90, 10, 100, 100, 20, 40, [100, 20, 40]]\n"
          ],
          "name": "stdout"
        }
      ]
    },
    {
      "cell_type": "code",
      "metadata": {
        "colab": {
          "base_uri": "https://localhost:8080/"
        },
        "id": "LnC2PESbH1MD",
        "outputId": "052ca823-0f17-429c-898a-242c9f5ced46"
      },
      "source": [
        "print(nilai[2:8:2])"
      ],
      "execution_count": null,
      "outputs": [
        {
          "output_type": "stream",
          "text": [
            "[50, 70, 90]\n"
          ],
          "name": "stdout"
        }
      ]
    },
    {
      "cell_type": "code",
      "metadata": {
        "colab": {
          "base_uri": "https://localhost:8080/"
        },
        "id": "TyaNMCjoIQeM",
        "outputId": "4730ff29-e8bc-4e83-c6ad-f8738fc7d1e6"
      },
      "source": [
        "del nilai[-1]\n",
        "print(nilai)"
      ],
      "execution_count": null,
      "outputs": [
        {
          "output_type": "stream",
          "text": [
            "[30, 40, 50, 60, 70, 80, 90, 10, 100, 100, 20, 40]\n"
          ],
          "name": "stdout"
        }
      ]
    },
    {
      "cell_type": "code",
      "metadata": {
        "colab": {
          "base_uri": "https://localhost:8080/"
        },
        "id": "hk6GQbOVIZHE",
        "outputId": "8ce80ec6-c284-4a5e-fc9a-809cb6bf050a"
      },
      "source": [
        "len(nilai)"
      ],
      "execution_count": null,
      "outputs": [
        {
          "output_type": "execute_result",
          "data": {
            "text/plain": [
              "12"
            ]
          },
          "metadata": {
            "tags": []
          },
          "execution_count": 17
        }
      ]
    },
    {
      "cell_type": "markdown",
      "metadata": {
        "id": "0F4Qu0McEvqG"
      },
      "source": [
        "## 2.4 Perulangan dalam List\n",
        "Dalam mengakses setiap elemen dalam list, kita dapat menggunakan sintaks perulangan for yang telah kita pelajari sebelumnya"
      ]
    },
    {
      "cell_type": "code",
      "metadata": {
        "colab": {
          "base_uri": "https://localhost:8080/"
        },
        "id": "ttLBUZlREvqH",
        "outputId": "1700b69d-8dd6-49f5-b72b-2f713408cff7"
      },
      "source": [
        "# every collection is iterable\n",
        "for item in nilai:\n",
        "  print(item)\n"
      ],
      "execution_count": null,
      "outputs": [
        {
          "output_type": "stream",
          "text": [
            "30\n",
            "40\n",
            "50\n",
            "60\n",
            "70\n",
            "80\n",
            "90\n",
            "10\n",
            "100\n",
            "100\n",
            "20\n",
            "40\n"
          ],
          "name": "stdout"
        }
      ]
    },
    {
      "cell_type": "code",
      "metadata": {
        "colab": {
          "base_uri": "https://localhost:8080/"
        },
        "id": "SarQI6BhJKnD",
        "outputId": "8ceec54e-d63b-42f3-99f0-cf22cfe23f8c"
      },
      "source": [
        "print(nilai)\n",
        "nilai[0] = 100\n",
        "print(nilai)"
      ],
      "execution_count": null,
      "outputs": [
        {
          "output_type": "stream",
          "text": [
            "[30, 40, 50, 60, 70, 80, 90, 10, 100, 100, 20, 40]\n",
            "[100, 40, 50, 60, 70, 80, 90, 10, 100, 100, 20, 40]\n"
          ],
          "name": "stdout"
        }
      ]
    },
    {
      "cell_type": "code",
      "metadata": {
        "colab": {
          "base_uri": "https://localhost:8080/"
        },
        "id": "QWB5iMtBJebV",
        "outputId": "451b851a-0e98-410d-f7ca-cc5390daf01f"
      },
      "source": [
        "print(nilai + nilai)"
      ],
      "execution_count": null,
      "outputs": [
        {
          "output_type": "stream",
          "text": [
            "[100, 40, 50, 60, 70, 80, 90, 10, 100, 100, 20, 40, 100, 40, 50, 60, 70, 80, 90, 10, 100, 100, 20, 40]\n"
          ],
          "name": "stdout"
        }
      ]
    },
    {
      "cell_type": "markdown",
      "metadata": {
        "id": "7OhOXn34EvqH"
      },
      "source": [
        "### Contoh\n",
        "Berapakah rata-rata nilai dari list tersebut?"
      ]
    },
    {
      "cell_type": "code",
      "metadata": {
        "id": "te0OzbVwEvqH"
      },
      "source": [
        "# ALGORITMA RATA-RATA\n",
        "\n"
      ],
      "execution_count": null,
      "outputs": []
    },
    {
      "cell_type": "markdown",
      "metadata": {
        "id": "jn2O5QHNEvqH"
      },
      "source": [
        "## Lookup Nilai dalam List"
      ]
    },
    {
      "cell_type": "code",
      "metadata": {
        "colab": {
          "base_uri": "https://localhost:8080/"
        },
        "id": "Fnv_w7kdEvqH",
        "outputId": "ef13158c-0fd9-44d8-834f-f5c7ea654359"
      },
      "source": [
        "# keanggotaan\n",
        "\n",
        "print(1000 in nilai)"
      ],
      "execution_count": null,
      "outputs": [
        {
          "output_type": "stream",
          "text": [
            "False\n"
          ],
          "name": "stdout"
        }
      ]
    },
    {
      "cell_type": "markdown",
      "metadata": {
        "id": "caPlt9DqEvqI"
      },
      "source": [
        "## 2.5 Latihan\n",
        "Tampilkan Nilai dari list nilai yang Lebih dari sama dengan (>=) rata-ratanya.\n",
        "\n",
        "tugas = [66,77,88,99,55,54]\n",
        "\n",
        "Tampilkan nilai dari list tugas yang Genap"
      ]
    },
    {
      "cell_type": "code",
      "metadata": {
        "id": "huzPEI9tEvqI"
      },
      "source": [
        "tugas = [66,77,88,99,55,54]\n"
      ],
      "execution_count": null,
      "outputs": []
    },
    {
      "cell_type": "markdown",
      "metadata": {
        "id": "6cOp0DFnEvqI"
      },
      "source": [
        "# 3. Tuple\n",
        "Tuple merupakan tipe data yang mirip dengan list, namun berifat immutable atau tidak dapat ditambah dan diubah nilainya. Keuntungan dari penggunaan tuple adalah, pengaksesan datanya lebih cepat."
      ]
    },
    {
      "cell_type": "code",
      "metadata": {
        "colab": {
          "base_uri": "https://localhost:8080/"
        },
        "id": "-9qrEP7aEvqI",
        "outputId": "bc657f03-c722-4be6-b4b0-2e3af1b70468"
      },
      "source": [
        "# Deklarasi Tuple\n",
        "bulan = (\"Januari\",\"Februari\",\"Maret\",\"April\",\"Mei\",\"Juni\",\"Juli\",\"Agustus\",\"September\",\"Oktober\",\"November\",\"Desember\")\n",
        "print(bulan)\n",
        "print(type(bulan))"
      ],
      "execution_count": null,
      "outputs": [
        {
          "output_type": "stream",
          "text": [
            "('Januari', 'Februari', 'Maret', 'April', 'Mei', 'Juni', 'Juli', 'Agustus', 'September', 'Oktober', 'November', 'Desember')\n",
            "<class 'tuple'>\n"
          ],
          "name": "stdout"
        }
      ]
    },
    {
      "cell_type": "code",
      "metadata": {
        "id": "zjvrPLqgJXZd"
      },
      "source": [
        "bulan= ('agustus',)  + bulan[1:]"
      ],
      "execution_count": null,
      "outputs": []
    },
    {
      "cell_type": "code",
      "metadata": {
        "colab": {
          "base_uri": "https://localhost:8080/"
        },
        "id": "VzPqB1EJKCB0",
        "outputId": "bb89328b-07d2-42ed-d080-d82c5f69bcc4"
      },
      "source": [
        "print(bulan)"
      ],
      "execution_count": null,
      "outputs": [
        {
          "output_type": "stream",
          "text": [
            "('agustus', 'Februari', 'Maret', 'April', 'Mei', 'Juni', 'Juli', 'Agustus', 'September', 'Oktober', 'November', 'Desember')\n"
          ],
          "name": "stdout"
        }
      ]
    },
    {
      "cell_type": "markdown",
      "metadata": {
        "id": "vErwOizWEvqI"
      },
      "source": [
        "## 3.1 Akses Elemen dan Slicing\n",
        "Konsep dalam melakukan akses elemen dan slicing sama persis dengan di list"
      ]
    },
    {
      "cell_type": "code",
      "metadata": {
        "id": "K585a0aTEvqJ"
      },
      "source": [
        "print(bulan[0])\n",
        "print(bulan[4])\n",
        "print(bulan[-1])\n",
        "print(bulan[-3])"
      ],
      "execution_count": null,
      "outputs": []
    },
    {
      "cell_type": "code",
      "metadata": {
        "id": "zsASvx9wEvqJ"
      },
      "source": [
        "print(bulan[2:5])\n",
        "\n",
        "print(bulan[:-5])\n",
        "\n",
        "print(bulan[5:])\n",
        "\n",
        "print(bulan[:])"
      ],
      "execution_count": null,
      "outputs": []
    },
    {
      "cell_type": "markdown",
      "metadata": {
        "id": "LMhwUnfkEvqJ"
      },
      "source": [
        "## 3.2 Perulangan dalam Tuple\n",
        "Konsep perulangan juga sama dengan list"
      ]
    },
    {
      "cell_type": "code",
      "metadata": {
        "colab": {
          "base_uri": "https://localhost:8080/"
        },
        "id": "f84h4CV9EvqJ",
        "outputId": "2d41d606-a8be-41f0-8caa-45de30b29758"
      },
      "source": [
        "for i in bulan:\n",
        "  print(i)"
      ],
      "execution_count": null,
      "outputs": [
        {
          "output_type": "stream",
          "text": [
            "agustus\n",
            "Februari\n",
            "Maret\n",
            "April\n",
            "Mei\n",
            "Juni\n",
            "Juli\n",
            "Agustus\n",
            "September\n",
            "Oktober\n",
            "November\n",
            "Desember\n"
          ],
          "name": "stdout"
        }
      ]
    },
    {
      "cell_type": "markdown",
      "metadata": {
        "id": "u7_BhPSREvqJ"
      },
      "source": [
        "# 4. Dictionary\n",
        "Dictionary dalam Python berbeda dengan List ataupun Tuple. Karena setiap urutanya berisi key dan value. Setiap key dipisahkan dari value-nya oleh titik dua (:), item dipisahkan oleh koma, dan semuanya tertutup dalam kurung kurawal. Dictionary kosong tanpa barang ditulis hanya dengan dua kurung kurawal, seperti ini: {}."
      ]
    },
    {
      "cell_type": "markdown",
      "metadata": {
        "id": "Zp-WLRRIEvqJ"
      },
      "source": [
        "## 4.1 Membuat dan Mengakses Dictionary"
      ]
    },
    {
      "cell_type": "code",
      "metadata": {
        "colab": {
          "base_uri": "https://localhost:8080/"
        },
        "id": "EDW1gskwEvqK",
        "outputId": "584ac671-5fce-430d-fa87-51bfe75fbf9e"
      },
      "source": [
        "dc = {1:'satu', 2:'dua'}\n",
        "print(type(dc))\n",
        "print(dc)"
      ],
      "execution_count": null,
      "outputs": [
        {
          "output_type": "stream",
          "text": [
            "<class 'dict'>\n",
            "{1: 'satu', 2: 'dua'}\n"
          ],
          "name": "stdout"
        }
      ]
    },
    {
      "cell_type": "code",
      "metadata": {
        "colab": {
          "base_uri": "https://localhost:8080/",
          "height": 35
        },
        "id": "yDJmR0BiEvqK",
        "outputId": "afbb9b96-47d2-408c-d4eb-e1d3e5236b01"
      },
      "source": [
        "value = dc[key]"
      ],
      "execution_count": null,
      "outputs": [
        {
          "output_type": "execute_result",
          "data": {
            "application/vnd.google.colaboratory.intrinsic+json": {
              "type": "string"
            },
            "text/plain": [
              "'satu'"
            ]
          },
          "metadata": {
            "tags": []
          },
          "execution_count": 33
        }
      ]
    },
    {
      "cell_type": "markdown",
      "metadata": {
        "id": "Vy7ra4IBEvqK"
      },
      "source": [
        "## 4.2 Mengubah nilai Dictionary"
      ]
    },
    {
      "cell_type": "code",
      "metadata": {
        "colab": {
          "base_uri": "https://localhost:8080/"
        },
        "id": "g5aBQxn_EvqK",
        "outputId": "f89e5e2a-49de-4b42-8f51-e635ab28d78b"
      },
      "source": [
        "dc[1] ='seratus'\n",
        "print(dc)"
      ],
      "execution_count": null,
      "outputs": [
        {
          "output_type": "stream",
          "text": [
            "{1: 'seratus', 2: 'dua'}\n"
          ],
          "name": "stdout"
        }
      ]
    },
    {
      "cell_type": "markdown",
      "metadata": {
        "id": "aVL6bwbbEvqK"
      },
      "source": [
        "# 4.3 Menambahkan Elemen"
      ]
    },
    {
      "cell_type": "code",
      "metadata": {
        "colab": {
          "base_uri": "https://localhost:8080/"
        },
        "id": "itTh3XTeEvqK",
        "outputId": "5c0a714a-9ead-4ed3-8d78-2c8ce5b57f34"
      },
      "source": [
        "dc[3] = 'tiga'\n",
        "print(dc)"
      ],
      "execution_count": null,
      "outputs": [
        {
          "output_type": "stream",
          "text": [
            "{1: 'seratus', 2: 'dua', 3: 'tiga'}\n"
          ],
          "name": "stdout"
        }
      ]
    },
    {
      "cell_type": "code",
      "metadata": {
        "id": "ZHDPysFTEvqK"
      },
      "source": [],
      "execution_count": null,
      "outputs": []
    },
    {
      "cell_type": "code",
      "metadata": {
        "id": "eHK4nSy3EvqK"
      },
      "source": [],
      "execution_count": null,
      "outputs": []
    },
    {
      "cell_type": "markdown",
      "metadata": {
        "id": "hiMaqcT2EvqK"
      },
      "source": [
        "# 5. Operasi String\n",
        "Pada pertemuan sebelumnya telah dijelaskan mengenai string. Dalam python cukup banyak operasi yang dikenakan pada string, yang akan berguna dalam analisis data.\n",
        "\n",
        "## 5.1 Slicing dan Akses per Karakter"
      ]
    },
    {
      "cell_type": "code",
      "metadata": {
        "colab": {
          "base_uri": "https://localhost:8080/"
        },
        "id": "AurY_87REvqL",
        "outputId": "e8064ed2-a1b3-4b9d-d095-843461a4e3e2"
      },
      "source": [
        "nama = \"Tutorial Bahasa Pemrograman Python\"\n",
        "print(nama[0])"
      ],
      "execution_count": null,
      "outputs": [
        {
          "output_type": "stream",
          "text": [
            "T\n"
          ],
          "name": "stdout"
        }
      ]
    },
    {
      "cell_type": "code",
      "metadata": {
        "colab": {
          "base_uri": "https://localhost:8080/",
          "height": 171
        },
        "id": "53E0x1PtLDl9",
        "outputId": "ad63adf3-d693-4e06-c9d7-6f8ff12dba47"
      },
      "source": [
        "nama[0]='y'"
      ],
      "execution_count": null,
      "outputs": [
        {
          "output_type": "error",
          "ename": "TypeError",
          "evalue": "ignored",
          "traceback": [
            "\u001b[0;31m---------------------------------------------------------------------------\u001b[0m",
            "\u001b[0;31mTypeError\u001b[0m                                 Traceback (most recent call last)",
            "\u001b[0;32m<ipython-input-38-3b99b26fd568>\u001b[0m in \u001b[0;36m<module>\u001b[0;34m()\u001b[0m\n\u001b[0;32m----> 1\u001b[0;31m \u001b[0mnama\u001b[0m\u001b[0;34m[\u001b[0m\u001b[0;36m0\u001b[0m\u001b[0;34m]\u001b[0m\u001b[0;34m=\u001b[0m\u001b[0;34m'y'\u001b[0m\u001b[0;34m\u001b[0m\u001b[0;34m\u001b[0m\u001b[0m\n\u001b[0m",
            "\u001b[0;31mTypeError\u001b[0m: 'str' object does not support item assignment"
          ]
        }
      ]
    },
    {
      "cell_type": "code",
      "metadata": {
        "colab": {
          "base_uri": "https://localhost:8080/"
        },
        "id": "RQ1O4HJhEvqL",
        "outputId": "5f891def-2d90-4cfa-93d5-6eb91720bb43"
      },
      "source": [
        "# string juga iterable tp imutable\n",
        "for n in nama:\n",
        "    print(n)"
      ],
      "execution_count": null,
      "outputs": [
        {
          "output_type": "stream",
          "text": [
            "T\n",
            "u\n",
            "t\n",
            "o\n",
            "r\n",
            "i\n",
            "a\n",
            "l\n",
            " \n",
            "B\n",
            "a\n",
            "h\n",
            "a\n",
            "s\n",
            "a\n",
            " \n",
            "P\n",
            "e\n",
            "m\n",
            "r\n",
            "o\n",
            "g\n",
            "r\n",
            "a\n",
            "m\n",
            "a\n",
            "n\n",
            " \n",
            "P\n",
            "y\n",
            "t\n",
            "h\n",
            "o\n",
            "n\n"
          ],
          "name": "stdout"
        }
      ]
    },
    {
      "cell_type": "markdown",
      "metadata": {
        "id": "8c5WjdfdEvqL"
      },
      "source": [
        "## 5.2 Merubah String menjadi list Kata\n",
        "Menggunakan fungsi split. Fungsi split dapat diberikan parameter berupa karakter pemisahnya. Jika tidak diberikan parameter maka secara default, pemisahnya adalah spasi."
      ]
    },
    {
      "cell_type": "code",
      "metadata": {
        "colab": {
          "base_uri": "https://localhost:8080/"
        },
        "id": "BAi53O0CEvqL",
        "outputId": "b0e771d4-0891-4ced-952f-88fe2f94e624"
      },
      "source": [
        "list_kata = nama.split('a')\n",
        "print(nama)\n",
        "print(list_kata)"
      ],
      "execution_count": null,
      "outputs": [
        {
          "output_type": "stream",
          "text": [
            "Tutorial Bahasa Pemrograman Python\n",
            "['Tutori', 'l B', 'h', 's', ' Pemrogr', 'm', 'n Python']\n"
          ],
          "name": "stdout"
        }
      ]
    },
    {
      "cell_type": "code",
      "metadata": {
        "colab": {
          "base_uri": "https://localhost:8080/"
        },
        "id": "v8VUIbP2LnEN",
        "outputId": "3c363b06-6f17-47c5-b6ae-0ed657c2c26c"
      },
      "source": [
        "nama = \"Tutorial Bahasa. Pemrograman Python\"\n",
        "list_kalimat = nama.split('.')\n",
        "l_kata = []\n",
        "for item in list_kalimat:\n",
        "  l_kata.extend(item.split())\n",
        "\n",
        "print(l_kata)"
      ],
      "execution_count": null,
      "outputs": [
        {
          "output_type": "stream",
          "text": [
            "['Tutorial', 'Bahasa', 'Pemrograman', 'Python']\n"
          ],
          "name": "stdout"
        }
      ]
    },
    {
      "cell_type": "markdown",
      "metadata": {
        "id": "enXYXzV0EvqL"
      },
      "source": [
        "## 5.3 Pencarian kata dalam String"
      ]
    },
    {
      "cell_type": "code",
      "metadata": {
        "colab": {
          "base_uri": "https://localhost:8080/"
        },
        "id": "Jf1KGuK7EvqL",
        "outputId": "33a44c07-4675-4195-ed4c-47062565f24b"
      },
      "source": [
        "print('asa' in nama)"
      ],
      "execution_count": null,
      "outputs": [
        {
          "output_type": "stream",
          "text": [
            "True\n"
          ],
          "name": "stdout"
        }
      ]
    },
    {
      "cell_type": "markdown",
      "metadata": {
        "id": "DW_SuJKFEvqL"
      },
      "source": [
        "# 5.4 Replace String"
      ]
    },
    {
      "cell_type": "code",
      "metadata": {
        "colab": {
          "base_uri": "https://localhost:8080/"
        },
        "id": "motbtInUEvqM",
        "outputId": "5cadd9df-f7a0-4661-a49e-ac7746e1dcff"
      },
      "source": [
        "nama = nama.replace('.','')\n",
        "print(nama)"
      ],
      "execution_count": null,
      "outputs": [
        {
          "output_type": "stream",
          "text": [
            "Tutorial Bahasa Pemrograman Python\n"
          ],
          "name": "stdout"
        }
      ]
    },
    {
      "cell_type": "code",
      "metadata": {
        "colab": {
          "base_uri": "https://localhost:8080/"
        },
        "id": "JAC1ij_eMgZ1",
        "outputId": "fb5b790f-e2de-4e14-ce4f-bb3d6fd6469c"
      },
      "source": [
        "list_kata = nama.split()\n",
        "print(nama)"
      ],
      "execution_count": null,
      "outputs": [
        {
          "output_type": "stream",
          "text": [
            "Tutorial Bahasa Pemrograman Python\n"
          ],
          "name": "stdout"
        }
      ]
    },
    {
      "cell_type": "markdown",
      "metadata": {
        "id": "KuOs8kfeEvqM"
      },
      "source": [
        "# 5.5 Panjang String, Lowercase, Uppercase"
      ]
    },
    {
      "cell_type": "code",
      "metadata": {
        "colab": {
          "base_uri": "https://localhost:8080/"
        },
        "id": "PHZRhdcKEvqM",
        "outputId": "4a63758e-3946-4b74-f5b9-73be83737426"
      },
      "source": [
        "print(nama.lower())"
      ],
      "execution_count": null,
      "outputs": [
        {
          "output_type": "stream",
          "text": [
            "tutorial bahasa pemrograman python\n"
          ],
          "name": "stdout"
        }
      ]
    },
    {
      "cell_type": "markdown",
      "metadata": {
        "id": "6_DG7qhLEvqM"
      },
      "source": [
        "# LATIHAN 2 - Tugas List Nilai\n",
        "\n",
        "Diberikan sekumpulan Nilai Random antara 0 sampai dengan 100 sebanyak 250 nilai. Buatlah program untuk melakukan hal berikut:\n",
        "1. Tampilkan Angka Ganjil dari ke 250 nilai tersebut\n",
        "2. Tampilkan berapa banyak yang mendapatkan nilai lebih dari 70\n",
        "3. Tampilkan standar deviasi dari sekumpulan nilai tersebut\n",
        "4. Tampilkan nilai maksimum dan minimum\n",
        "5. Tampilkan modus dari sekumpulan nilai tersebut"
      ]
    },
    {
      "cell_type": "code",
      "metadata": {
        "id": "rBIDpLMYEvqM"
      },
      "source": [
        "import random\n",
        "\n",
        "# GENERATE RANDOM\n",
        "nilaiTugas = []\n",
        "for i in range(250):\n",
        "    nilaiTugas.append(random.randrange(1,100,1))\n",
        "\n",
        "print(nilaiTugas)\n",
        "\n",
        "# TAMPILKAN:\n",
        "# ganjil\n",
        "# nilai > 70\n",
        "# standar deviasi\n",
        "# maksimum\n",
        "# minimum\n",
        "# modus"
      ],
      "execution_count": null,
      "outputs": []
    },
    {
      "cell_type": "markdown",
      "metadata": {
        "id": "j0jDhOPuEvqM"
      },
      "source": [
        "# LATIHAN 3 - Word Count\n",
        "Diberikan sebuah paragraf, hitunglah banyak kemunculan masing-masing kata.\n",
        "Contoh : \"Presiden pagi ini melakukan kunjungan ke Jogja\"\n",
        "\n",
        "- presiden: 1\n",
        "- pagi: 1\n",
        "- ini: 1\n",
        "- melakukan: 1\n",
        "- kunjungan: 1\n",
        "- ke: 1\n",
        "- jogja: 1\n",
        "\n",
        "hints: Gunakan Dictionary dalam menyimpan word count. Gunakan kata sebagai key, dan jumlah kemunculan sebagai value"
      ]
    },
    {
      "cell_type": "code",
      "metadata": {
        "id": "1YJnmgcoEvqN"
      },
      "source": [
        "paragraf = \"Barcelona berhasil merebut posisi puncak klasemen La Liga Spanyol seusai menang 4-2 atas Sevilla pada pertandingan pekan kesembilan di Stadion Camp Nou, Sabtu (20/10/2018) atau Minggu dini hari WIB. Barcelona membuka keunggulan pada menit ke-2 melalui gol yang dicetak oleh Philippe Coutinho. Lionel Messi menggandakan keunggulan Barcelona, 10 menit berselang.  Namun, nahas bagi Barcelona, karena Messi harus ditarik keluar pada menit ke-26 setelah mengalami cedera. Tanpa Messi, skor 2-0 bertahan hingga babak pertama berakhir.\"\n",
        "paragraf = paragraf.replace(\"/\",\" \")\n",
        "paragraf = paragraf.replace(\"(\",\" \")\n",
        "paragraf = paragraf.replace(\")\",\" \")\n",
        "paragraf = paragraf.replace(\"-\",\" \")\n",
        "print(paragraf.split())"
      ],
      "execution_count": null,
      "outputs": []
    },
    {
      "cell_type": "code",
      "metadata": {
        "id": "sKGV755TEvqN"
      },
      "source": [],
      "execution_count": null,
      "outputs": []
    }
  ]
}