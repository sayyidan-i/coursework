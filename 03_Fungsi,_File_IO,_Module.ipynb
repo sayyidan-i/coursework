{
  "nbformat": 4,
  "nbformat_minor": 0,
  "metadata": {
    "kernelspec": {
      "display_name": "Python 3",
      "language": "python",
      "name": "python3"
    },
    "language_info": {
      "codemirror_mode": {
        "name": "ipython",
        "version": 3
      },
      "file_extension": ".py",
      "mimetype": "text/x-python",
      "name": "python",
      "nbconvert_exporter": "python",
      "pygments_lexer": "ipython3",
      "version": "3.8.5"
    },
    "colab": {
      "provenance": [],
      "include_colab_link": true
    }
  },
  "cells": [
    {
      "cell_type": "markdown",
      "metadata": {
        "id": "view-in-github",
        "colab_type": "text"
      },
      "source": [
        "<a href=\"https://colab.research.google.com/github/sayyidan-i/coursework/blob/main/03_Fungsi%2C_File_IO%2C_Module.ipynb\" target=\"_parent\"><img src=\"https://colab.research.google.com/assets/colab-badge.svg\" alt=\"Open In Colab\"/></a>"
      ]
    },
    {
      "cell_type": "markdown",
      "metadata": {
        "id": "yOWJ2ZzCNEgo"
      },
      "source": [
        "# 1. Fungsi / Subprogram\n",
        "Fungsi / Subprogram digunakan untuk mengelompokkan beberapa syntaks dalam satu kelompok statement. Pada umumnya kelompok statement ini sering dikerjakan berulang kali. Ketika program kita sudah cukup besar, fungsi dapat digunakan untuk mem breakdown potongan-potongan kode agar menjadi beberapa kesatuan kecil.\n",
        "\n",
        "## 1.1 Deklarasi Fungsi\n",
        "Berikut diberikan contoh untuk mendeklarasikan fungsi bernama hello, yang menerima parameter berupa bilangan n. Tujuan dari fungsi ini akan mengoutputkan kata \"hello\" sebanyak n kali"
      ]
    },
    {
      "cell_type": "code",
      "metadata": {
        "id": "2dUFSZvCNEgs"
      },
      "source": [
        "def hello(n):\n",
        "  for _ in range(n):\n",
        "    print('hello')\n",
        "  # return None\n"
      ],
      "execution_count": null,
      "outputs": []
    },
    {
      "cell_type": "markdown",
      "metadata": {
        "id": "bSjMCGkdNEgs"
      },
      "source": [
        "## 1.2 Pemanggilan Fungsi"
      ]
    },
    {
      "cell_type": "code",
      "metadata": {
        "colab": {
          "base_uri": "https://localhost:8080/"
        },
        "id": "GM_xaaYgNEgs",
        "outputId": "7bfa8de2-0b4a-4cc2-f95f-6b589e6e35cf"
      },
      "source": [
        "hello(3)"
      ],
      "execution_count": null,
      "outputs": [
        {
          "output_type": "stream",
          "text": [
            "hello\n",
            "hello\n",
            "hello\n"
          ],
          "name": "stdout"
        }
      ]
    },
    {
      "cell_type": "markdown",
      "metadata": {
        "id": "9L5orPf2NEgt"
      },
      "source": [
        "## 1.3 Fungsi yang Mengirimkan Kembalian Nilai\n",
        "Dalam contoh fungsi yang pertama, fungsi tersebut hanya menjalankan sebuah perintah. Namun fungsi juga seringkali digunakan untuk melakukan perhitungan dan kemudian nilainya dipergunakan dalam proses selanjutnya. seperti contoh berikut:"
      ]
    },
    {
      "cell_type": "code",
      "metadata": {
        "id": "9e6NsIa8NEgt"
      },
      "source": [
        "def tambah(a,b):\n",
        "  return a+b"
      ],
      "execution_count": null,
      "outputs": []
    },
    {
      "cell_type": "code",
      "metadata": {
        "colab": {
          "base_uri": "https://localhost:8080/"
        },
        "id": "QMdMRz33NEgt",
        "outputId": "7b87ea19-acf3-411b-da80-db674d6426d6"
      },
      "source": [
        "var = tambah(2,3)\n",
        "print(var)"
      ],
      "execution_count": null,
      "outputs": [
        {
          "output_type": "stream",
          "text": [
            "5\n"
          ],
          "name": "stdout"
        }
      ]
    },
    {
      "cell_type": "code",
      "metadata": {
        "id": "rK4J85ipOVKA"
      },
      "source": [
        "# keyword argumen\n",
        "def tambah2(a,c,d,b=10):\n",
        "  return a+b\n"
      ],
      "execution_count": null,
      "outputs": []
    },
    {
      "cell_type": "code",
      "metadata": {
        "colab": {
          "base_uri": "https://localhost:8080/"
        },
        "id": "fYslNDwDOc2B",
        "outputId": "70566e5a-bf7c-4b5a-8a98-08e6aed4c4a4"
      },
      "source": [
        "# print(tambah2(1,2,3))"
      ],
      "execution_count": null,
      "outputs": [
        {
          "output_type": "stream",
          "text": [
            "12\n"
          ],
          "name": "stdout"
        }
      ]
    },
    {
      "cell_type": "markdown",
      "metadata": {
        "id": "yQaVlIxtNEgu"
      },
      "source": [
        "# 2. FILE INPUT OUTPUT\n",
        "Seringkali kita ingin menyimpan hasil output dari program ke dalam sebuah File, ataupun membaca data yang ada dari file. Python menyediakan fungsi untuk hal ini\n",
        "\n",
        "# 2.1 Menulis ke File\n",
        "Dalam penulisan ke file, awalnya kita harus membuat / membuka sebuah file dengan mode 'w' atau write. Kemudian kita bisa memasukkan teks ke dalam file tersebut. Setelah selesai menulis, kita bisa close file tersebut. Kalian bisa mengeceknya dalam folder yang sama dengan ipynb ini, apakah file sudah terbuat"
      ]
    },
    {
      "cell_type": "code",
      "metadata": {
        "id": "wHQnhzFaNEgu"
      },
      "source": [
        "f = open('data.txt','w')\n",
        "f.write('Hello World! \\nHello Again \\n')\n",
        "f.write(\"This is our new text file \\n\")\n",
        "f.write(\"and this is another line \\n\")\n",
        "f.write(\"Why? Because we can\")\n",
        "f.close()"
      ],
      "execution_count": null,
      "outputs": []
    },
    {
      "cell_type": "markdown",
      "metadata": {
        "id": "Hl5772xTNEgu"
      },
      "source": [
        "## 2.2 Membaca dari File"
      ]
    },
    {
      "cell_type": "code",
      "metadata": {
        "id": "vGjPuNgINEgv"
      },
      "source": [
        "fo = open('data.txt','r')\n",
        "print(fo.read())\n",
        "fo.close()"
      ],
      "execution_count": null,
      "outputs": []
    },
    {
      "cell_type": "code",
      "metadata": {
        "id": "ZdGGsU2MNEgv"
      },
      "source": [
        "fo = open('data.txt','r')\n",
        "for line in fo:\n",
        "    print(\"===\")\n",
        "    print(line.upper())\n",
        "fo.close()"
      ],
      "execution_count": null,
      "outputs": []
    },
    {
      "cell_type": "markdown",
      "metadata": {
        "id": "ZRgwIYNmNEgv"
      },
      "source": [
        "# 3. Import"
      ]
    },
    {
      "cell_type": "markdown",
      "metadata": {
        "id": "NdPrCtelNEgw"
      },
      "source": [
        "Seringkali kita tidak perlu melakukan implementasi ulang terhadap banyak kasus seperti analisa statistik sederhana, melakukan random, fungsi matematika sederhana sampai yang kompleks, dan lain sebagainya. Kita bisa menggunakan module / library yang telah disediakan oleh python ataupun library yang telah dibuat oleh orang"
      ]
    },
    {
      "cell_type": "markdown",
      "metadata": {
        "id": "g5wvjU2BNEgw"
      },
      "source": [
        "## 3.1 Modul Random"
      ]
    },
    {
      "cell_type": "code",
      "metadata": {
        "colab": {
          "base_uri": "https://localhost:8080/"
        },
        "id": "VJsX4Do6NEgw",
        "outputId": "2b5ba391-44ce-4a2b-fe3e-0b64de5b5904"
      },
      "source": [
        "import random\n",
        "\n",
        "r = random.random()\n",
        "print(r)\n",
        "r = random.randint(50,100)\n",
        "print(r)"
      ],
      "execution_count": null,
      "outputs": [
        {
          "output_type": "stream",
          "text": [
            "0.3995908899783962\n",
            "75\n"
          ],
          "name": "stdout"
        }
      ]
    },
    {
      "cell_type": "code",
      "metadata": {
        "colab": {
          "base_uri": "https://localhost:8080/"
        },
        "id": "SD2GDnbnNEgw",
        "outputId": "bb2ee063-b209-4793-e02e-1f05758c56b3"
      },
      "source": [
        "import math\n",
        "dir(math)"
      ],
      "execution_count": null,
      "outputs": [
        {
          "output_type": "execute_result",
          "data": {
            "text/plain": [
              "['__doc__',\n",
              " '__loader__',\n",
              " '__name__',\n",
              " '__package__',\n",
              " '__spec__',\n",
              " 'acos',\n",
              " 'acosh',\n",
              " 'asin',\n",
              " 'asinh',\n",
              " 'atan',\n",
              " 'atan2',\n",
              " 'atanh',\n",
              " 'ceil',\n",
              " 'copysign',\n",
              " 'cos',\n",
              " 'cosh',\n",
              " 'degrees',\n",
              " 'e',\n",
              " 'erf',\n",
              " 'erfc',\n",
              " 'exp',\n",
              " 'expm1',\n",
              " 'fabs',\n",
              " 'factorial',\n",
              " 'floor',\n",
              " 'fmod',\n",
              " 'frexp',\n",
              " 'fsum',\n",
              " 'gamma',\n",
              " 'gcd',\n",
              " 'hypot',\n",
              " 'inf',\n",
              " 'isclose',\n",
              " 'isfinite',\n",
              " 'isinf',\n",
              " 'isnan',\n",
              " 'ldexp',\n",
              " 'lgamma',\n",
              " 'log',\n",
              " 'log10',\n",
              " 'log1p',\n",
              " 'log2',\n",
              " 'modf',\n",
              " 'nan',\n",
              " 'pi',\n",
              " 'pow',\n",
              " 'radians',\n",
              " 'remainder',\n",
              " 'sin',\n",
              " 'sinh',\n",
              " 'sqrt',\n",
              " 'tan',\n",
              " 'tanh',\n",
              " 'tau',\n",
              " 'trunc']"
            ]
          },
          "metadata": {
            "tags": []
          },
          "execution_count": 16
        }
      ]
    },
    {
      "cell_type": "markdown",
      "metadata": {
        "id": "-F0FGUXJNEgw"
      },
      "source": [
        "## 3.2 Modul Statistics"
      ]
    },
    {
      "cell_type": "code",
      "metadata": {
        "colab": {
          "base_uri": "https://localhost:8080/"
        },
        "id": "EKBFEqGgNEgx",
        "outputId": "90493aa7-61ef-468f-b5bb-734de012e81b"
      },
      "source": [
        "import statistics as sta\n",
        "\n",
        "a = [0, 1, 1, 3, 4, 9, 15]\n",
        "\n",
        "b = sta.mean(a)\n",
        "c = sta.median(a)\n",
        "d = sta.mode(a)\n",
        "e = sta.stdev(a)\n",
        "f = sta.variance(a)\n",
        "\n",
        "print(b,c,d,e,f)"
      ],
      "execution_count": null,
      "outputs": [
        {
          "output_type": "stream",
          "text": [
            "4.714285714285714 3 1 5.437961803049794 29.571428571428566\n"
          ],
          "name": "stdout"
        }
      ]
    },
    {
      "cell_type": "code",
      "metadata": {
        "colab": {
          "base_uri": "https://localhost:8080/"
        },
        "id": "9Ih0r4FQNEgx",
        "outputId": "f4ce7d7d-a315-4b37-8779-f2cec2433d6c"
      },
      "source": [
        "dir(sta)"
      ],
      "execution_count": null,
      "outputs": [
        {
          "output_type": "execute_result",
          "data": {
            "text/plain": [
              "['Decimal',\n",
              " 'Fraction',\n",
              " 'StatisticsError',\n",
              " '__all__',\n",
              " '__builtins__',\n",
              " '__cached__',\n",
              " '__doc__',\n",
              " '__file__',\n",
              " '__loader__',\n",
              " '__name__',\n",
              " '__package__',\n",
              " '__spec__',\n",
              " '_coerce',\n",
              " '_convert',\n",
              " '_counts',\n",
              " '_exact_ratio',\n",
              " '_fail_neg',\n",
              " '_find_lteq',\n",
              " '_find_rteq',\n",
              " '_isfinite',\n",
              " '_ss',\n",
              " '_sum',\n",
              " 'bisect_left',\n",
              " 'bisect_right',\n",
              " 'collections',\n",
              " 'groupby',\n",
              " 'harmonic_mean',\n",
              " 'math',\n",
              " 'mean',\n",
              " 'median',\n",
              " 'median_grouped',\n",
              " 'median_high',\n",
              " 'median_low',\n",
              " 'mode',\n",
              " 'numbers',\n",
              " 'pstdev',\n",
              " 'pvariance',\n",
              " 'stdev',\n",
              " 'variance']"
            ]
          },
          "metadata": {
            "tags": []
          },
          "execution_count": 19
        }
      ]
    },
    {
      "cell_type": "markdown",
      "metadata": {
        "id": "JYY9_n-yNEgx"
      },
      "source": [
        "Jika gagal import, maka package tersebut belum ada dalam library di komputer lokal kita.\n",
        "Kita harus mendownload nya dari package manager python.\n",
        "package manager : pip, conda"
      ]
    },
    {
      "cell_type": "markdown",
      "metadata": {
        "id": "HI844eCGNEgx"
      },
      "source": [
        "## 3.3 Modul Math"
      ]
    },
    {
      "cell_type": "code",
      "metadata": {
        "id": "MLloUGHTNEgx"
      },
      "source": [
        "import math\n",
        "\n",
        "a = math.factorial(5)\n",
        "b = math.pi\n",
        "c = math.sqrt(5)\n",
        "d = math.log(256, 2)\n",
        "\n",
        "print(a,b,c,d)"
      ],
      "execution_count": null,
      "outputs": []
    },
    {
      "cell_type": "markdown",
      "metadata": {
        "id": "oeyivvfuNEgy"
      },
      "source": [
        "## 3.4 Modul CSV"
      ]
    },
    {
      "cell_type": "code",
      "metadata": {
        "id": "tXAn3KRaNEgy"
      },
      "source": [
        "import csv,os\n",
        "print(os.getcwd())\n",
        "with open('data-bencana-kekeringan-2012-2013.csv') as csvfile:\n",
        "    my_csv_file = csv.reader(csvfile, delimiter=',',quotechar=\"'\")\n",
        "    for row in my_csv_file:\n",
        "        kolom_tanggal = row[2]\n",
        "        print(row)\n",
        "        print(\"=================\")"
      ],
      "execution_count": null,
      "outputs": []
    },
    {
      "cell_type": "markdown",
      "metadata": {
        "id": "8xcyTglNNEgy"
      },
      "source": [
        "# 4. Numpy\n",
        "Numpy memiliki kegunaan untuk operasi vektor dan matriks. Fiturnya hampir sama dengan MATLAB dalam mengelola array dan array multidimensi."
      ]
    },
    {
      "cell_type": "markdown",
      "metadata": {
        "id": "Mw7QuEAgNEgy"
      },
      "source": [
        "## 4.1 Numpy Array"
      ]
    },
    {
      "cell_type": "code",
      "metadata": {
        "colab": {
          "base_uri": "https://localhost:8080/",
          "height": 244
        },
        "id": "GbhUU2gdNEgy",
        "outputId": "dd0d2143-9273-4b16-e01f-34f8fabecb59"
      },
      "source": [
        "import numpy as np\n",
        "\n",
        "# a = np.array([1, 2, 3])\n",
        "# print(a)\n",
        "# print(type(a))\n",
        "# print(a.shape)\n",
        "# print(a[0], a[1], a[2])\n",
        "# a[0] = 5\n",
        "# print(a)\n",
        "b\n",
        "b = np.array([[1,2,3],[4,5,6]])\n",
        "print(b)\n",
        "print(b.shape)\n",
        "print(b[0, 0], b[0, 1], b[1, 0])"
      ],
      "execution_count": null,
      "outputs": [
        {
          "output_type": "error",
          "ename": "NameError",
          "evalue": "ignored",
          "traceback": [
            "\u001b[0;31m---------------------------------------------------------------------------\u001b[0m",
            "\u001b[0;31mNameError\u001b[0m                                 Traceback (most recent call last)",
            "\u001b[0;32m<ipython-input-1-82837e1e1280>\u001b[0m in \u001b[0;36m<module>\u001b[0;34m()\u001b[0m\n\u001b[1;32m      8\u001b[0m \u001b[0;31m# a[0] = 5\u001b[0m\u001b[0;34m\u001b[0m\u001b[0;34m\u001b[0m\u001b[0;34m\u001b[0m\u001b[0m\n\u001b[1;32m      9\u001b[0m \u001b[0;31m# print(a)\u001b[0m\u001b[0;34m\u001b[0m\u001b[0;34m\u001b[0m\u001b[0;34m\u001b[0m\u001b[0m\n\u001b[0;32m---> 10\u001b[0;31m \u001b[0mb\u001b[0m\u001b[0;34m\u001b[0m\u001b[0;34m\u001b[0m\u001b[0m\n\u001b[0m\u001b[1;32m     11\u001b[0m \u001b[0mb\u001b[0m \u001b[0;34m=\u001b[0m \u001b[0mnp\u001b[0m\u001b[0;34m.\u001b[0m\u001b[0marray\u001b[0m\u001b[0;34m(\u001b[0m\u001b[0;34m[\u001b[0m\u001b[0;34m[\u001b[0m\u001b[0;36m1\u001b[0m\u001b[0;34m,\u001b[0m\u001b[0;36m2\u001b[0m\u001b[0;34m,\u001b[0m\u001b[0;36m3\u001b[0m\u001b[0;34m]\u001b[0m\u001b[0;34m,\u001b[0m\u001b[0;34m[\u001b[0m\u001b[0;36m4\u001b[0m\u001b[0;34m,\u001b[0m\u001b[0;36m5\u001b[0m\u001b[0;34m,\u001b[0m\u001b[0;36m6\u001b[0m\u001b[0;34m]\u001b[0m\u001b[0;34m]\u001b[0m\u001b[0;34m)\u001b[0m\u001b[0;34m\u001b[0m\u001b[0;34m\u001b[0m\u001b[0m\n\u001b[1;32m     12\u001b[0m \u001b[0mprint\u001b[0m\u001b[0;34m(\u001b[0m\u001b[0mb\u001b[0m\u001b[0;34m)\u001b[0m\u001b[0;34m\u001b[0m\u001b[0;34m\u001b[0m\u001b[0m\n",
            "\u001b[0;31mNameError\u001b[0m: name 'b' is not defined"
          ]
        }
      ]
    },
    {
      "cell_type": "code",
      "metadata": {
        "colab": {
          "base_uri": "https://localhost:8080/"
        },
        "id": "sJ5gi7VnQYyE",
        "outputId": "f5de6748-6297-4849-9439-d071a69b0234"
      },
      "source": [
        "a=list(range(100))\n",
        "print(a)\n",
        "a_np = np.arange(100)\n",
        "print(a_np)"
      ],
      "execution_count": null,
      "outputs": [
        {
          "output_type": "stream",
          "text": [
            "[0, 1, 2, 3, 4, 5, 6, 7, 8, 9, 10, 11, 12, 13, 14, 15, 16, 17, 18, 19, 20, 21, 22, 23, 24, 25, 26, 27, 28, 29, 30, 31, 32, 33, 34, 35, 36, 37, 38, 39, 40, 41, 42, 43, 44, 45, 46, 47, 48, 49, 50, 51, 52, 53, 54, 55, 56, 57, 58, 59, 60, 61, 62, 63, 64, 65, 66, 67, 68, 69, 70, 71, 72, 73, 74, 75, 76, 77, 78, 79, 80, 81, 82, 83, 84, 85, 86, 87, 88, 89, 90, 91, 92, 93, 94, 95, 96, 97, 98, 99]\n",
            "[ 0  1  2  3  4  5  6  7  8  9 10 11 12 13 14 15 16 17 18 19 20 21 22 23\n",
            " 24 25 26 27 28 29 30 31 32 33 34 35 36 37 38 39 40 41 42 43 44 45 46 47\n",
            " 48 49 50 51 52 53 54 55 56 57 58 59 60 61 62 63 64 65 66 67 68 69 70 71\n",
            " 72 73 74 75 76 77 78 79 80 81 82 83 84 85 86 87 88 89 90 91 92 93 94 95\n",
            " 96 97 98 99]\n"
          ],
          "name": "stdout"
        }
      ]
    },
    {
      "cell_type": "code",
      "metadata": {
        "id": "OQthc-_9QtcB"
      },
      "source": [
        "for i in a:\n",
        "  a[i]*=2\n",
        "\n",
        "a_np*=2"
      ],
      "execution_count": null,
      "outputs": []
    },
    {
      "cell_type": "code",
      "metadata": {
        "colab": {
          "base_uri": "https://localhost:8080/",
          "height": 189
        },
        "id": "GpyILDMYRAuW",
        "outputId": "e24f459e-e6f1-4efe-b930-4a383f4ae575"
      },
      "source": [
        "\n",
        "print(a,a_np)"
      ],
      "execution_count": null,
      "outputs": [
        {
          "output_type": "error",
          "ename": "NameError",
          "evalue": "ignored",
          "traceback": [
            "\u001b[0;31m---------------------------------------------------------------------------\u001b[0m",
            "\u001b[0;31mNameError\u001b[0m                                 Traceback (most recent call last)",
            "\u001b[0;32m<ipython-input-3-ddd3d9acb433>\u001b[0m in \u001b[0;36m<module>\u001b[0;34m()\u001b[0m\n\u001b[1;32m      1\u001b[0m \u001b[0;34m\u001b[0m\u001b[0m\n\u001b[0;32m----> 2\u001b[0;31m \u001b[0mprint\u001b[0m\u001b[0;34m(\u001b[0m\u001b[0ma\u001b[0m\u001b[0;34m,\u001b[0m\u001b[0ma_np\u001b[0m\u001b[0;34m)\u001b[0m\u001b[0;34m\u001b[0m\u001b[0;34m\u001b[0m\u001b[0m\n\u001b[0m",
            "\u001b[0;31mNameError\u001b[0m: name 'a' is not defined"
          ]
        }
      ]
    },
    {
      "cell_type": "code",
      "metadata": {
        "id": "r-b9i2YARIIe"
      },
      "source": [
        "def list_biasa(a):\n",
        "  for i in range(len(a)):\n",
        "    a[i]*=2\n",
        "\n",
        "def np_list(a):\n",
        "  a *=2\n",
        "\n"
      ],
      "execution_count": null,
      "outputs": []
    },
    {
      "cell_type": "code",
      "metadata": {
        "colab": {
          "base_uri": "https://localhost:8080/"
        },
        "id": "eg0JDqk7RZBw",
        "outputId": "33555a05-3215-48fe-ca4b-49ec33dc5d53"
      },
      "source": [
        "%timeit list_biasa(a)"
      ],
      "execution_count": null,
      "outputs": [
        {
          "output_type": "stream",
          "text": [
            "10000 loops, best of 5: 70.6 µs per loop\n"
          ],
          "name": "stdout"
        }
      ]
    },
    {
      "cell_type": "code",
      "metadata": {
        "colab": {
          "base_uri": "https://localhost:8080/"
        },
        "id": "DZ9I5mlbRtvS",
        "outputId": "3166e283-f60d-436b-c0db-03d73ff2228f"
      },
      "source": [
        "%timeit np_list(a_np)"
      ],
      "execution_count": null,
      "outputs": [
        {
          "output_type": "stream",
          "text": [
            "The slowest run took 27.04 times longer than the fastest. This could mean that an intermediate result is being cached.\n",
            "1000000 loops, best of 5: 1.49 µs per loop\n"
          ],
          "name": "stdout"
        }
      ]
    },
    {
      "cell_type": "markdown",
      "metadata": {
        "id": "NLJX1RGxNEgz"
      },
      "source": [
        "## 4.2 Buat Array"
      ]
    },
    {
      "cell_type": "code",
      "metadata": {
        "id": "CTh7vCFlNEgz"
      },
      "source": [
        "# a = np.zeros((5,4))\n",
        "# print(a)\n",
        "\n",
        "# b = np.ones((3,2))\n",
        "# print(b)\n",
        "\n",
        "# c = np.full((5,2), 7)\n",
        "# print(c)\n",
        "\n",
        "# d = np.eye(6)\n",
        "# print(d)\n",
        "\n",
        "# e = np.random.random((5,5))\n",
        "# print(e)"
      ],
      "execution_count": null,
      "outputs": []
    },
    {
      "cell_type": "markdown",
      "metadata": {
        "id": "dxF68sDjNEgz"
      },
      "source": [
        "## 4.3 Indexing & Slicing"
      ]
    },
    {
      "cell_type": "code",
      "metadata": {
        "id": "16gTjCFWNEgz"
      },
      "source": [
        "import numpy as np\n",
        "\n",
        "a = np.array([[1,2,3,4], [5,6,7,8], [9,10,11,12]])\n",
        "print(a)\n",
        "b = a[:2, 1:3]\n",
        "print(b)\n",
        "# print(a[0, 1])\n",
        "# b[0, 0] = 77\n",
        "# print(b)\n",
        "# print(a[0, 1])"
      ],
      "execution_count": null,
      "outputs": []
    },
    {
      "cell_type": "markdown",
      "metadata": {
        "id": "EICJGsttNEgz"
      },
      "source": [
        "## 4.4 Operasi Vektor & Matriks"
      ]
    },
    {
      "cell_type": "code",
      "metadata": {
        "id": "YQxqW0jiNEgz"
      },
      "source": [
        "import numpy as np\n",
        "\n",
        "x = np.array([[1,2],[3,4]], dtype=np.float64)\n",
        "y = np.array([[5,6],[7,8]], dtype=np.float64)\n",
        "\n",
        "print(x)\n",
        "print(y)\n",
        "\n",
        "# print(x + y)\n",
        "# print(np.add(x, y))\n",
        "\n",
        "# print(x - y)\n",
        "# print(np.subtract(x, y))\n",
        "\n",
        "# print(x * y)\n",
        "# print(np.multiply(x, y))\n",
        "\n",
        "# print(x / y)\n",
        "# print(np.divide(x, y))\n",
        "\n",
        "# print(np.sqrt(x))"
      ],
      "execution_count": null,
      "outputs": []
    },
    {
      "cell_type": "markdown",
      "metadata": {
        "id": "brIarmEANEg0"
      },
      "source": [
        "## 5. Pandas\n",
        "Dengan menggunakan sistem dataframe, kita dapat memuat sebuah file ke dalam tabel virtual ala spreadsheet dengan menggunakan Pandas. Dengan menggunakan Pandas, kita dapat mengolah suatu data dan mengolahnya seperti join, distinct, group by, agregasi, dan teknik seperti pada SQL. Hanya saja dilakukan pada tabel yang dimuat dari file ke RAM. Pandas juga dapat membaca file dari berbagai format seperti .txt, .csv, .tsv, dan lainnya. Anggap saja Pandas adalah spreadsheet namun tidak memiliki GUI dan punya fitur seperti SQL."
      ]
    },
    {
      "cell_type": "code",
      "metadata": {
        "id": "PAt13z4wNEg0"
      },
      "source": [
        "import pandas as pd"
      ],
      "execution_count": null,
      "outputs": []
    },
    {
      "cell_type": "markdown",
      "metadata": {
        "id": "rl8sd0HDNEg0"
      },
      "source": [
        "## 5.1 Membaca File CSV"
      ]
    },
    {
      "cell_type": "code",
      "metadata": {
        "id": "zp9jkhVpNEg0"
      },
      "source": [
        "data_kekeringan = pd.read_csv('data-bencana-kekeringan-2012-2013.csv', delimiter = ',', encoding = \"ISO-8859-1\")"
      ],
      "execution_count": null,
      "outputs": []
    },
    {
      "cell_type": "markdown",
      "metadata": {
        "id": "cMFdt5Z8NEg1"
      },
      "source": [
        "## 5.2 Melihat Data"
      ]
    },
    {
      "cell_type": "code",
      "metadata": {
        "id": "MJrWwZu_NEg1"
      },
      "source": [
        "data_kekeringan"
      ],
      "execution_count": null,
      "outputs": []
    },
    {
      "cell_type": "code",
      "metadata": {
        "id": "kEBJ_aAiNEg1"
      },
      "source": [
        "data_kekeringan.head(1)"
      ],
      "execution_count": null,
      "outputs": []
    },
    {
      "cell_type": "code",
      "metadata": {
        "id": "_qn-m_8ZNEg1"
      },
      "source": [
        "data_kekeringan.tail()"
      ],
      "execution_count": null,
      "outputs": []
    },
    {
      "cell_type": "code",
      "metadata": {
        "id": "bD1emO-kNEg1"
      },
      "source": [
        "data_kekeringan.sample(5)"
      ],
      "execution_count": null,
      "outputs": []
    },
    {
      "cell_type": "code",
      "metadata": {
        "id": "ykOPD78INEg1"
      },
      "source": [
        "data_kekeringan.iloc[10:15,1:3]"
      ],
      "execution_count": null,
      "outputs": []
    },
    {
      "cell_type": "markdown",
      "metadata": {
        "id": "o73dHsC7NEg2"
      },
      "source": [
        "## 5.3 Memilih Beberapa Kolom Saja"
      ]
    },
    {
      "cell_type": "code",
      "metadata": {
        "id": "eli1jM8tNEg2"
      },
      "source": [
        "data_kekeringan.columns"
      ],
      "execution_count": null,
      "outputs": []
    },
    {
      "cell_type": "code",
      "metadata": {
        "id": "I_7JOmaaNEg2"
      },
      "source": [
        "data_kekeringan[['Bencana ','Lokasi ']]"
      ],
      "execution_count": null,
      "outputs": []
    },
    {
      "cell_type": "code",
      "metadata": {
        "id": "_3eh6tB8NEg2"
      },
      "source": [
        "data_kekeringan['Lokasi ']"
      ],
      "execution_count": null,
      "outputs": []
    },
    {
      "cell_type": "code",
      "metadata": {
        "id": "ebbmICx1NEg2"
      },
      "source": [
        "data_kekeringan['Lokasi '][2]"
      ],
      "execution_count": null,
      "outputs": []
    },
    {
      "cell_type": "code",
      "metadata": {
        "id": "63eUAm8HNEg2"
      },
      "source": [
        "# data_kekeringan[data_kekeringan['Tanggal ']=='9/16/2013']\n",
        "data_kekeringan.loc[(data_kekeringan['Tanggal ']=='9/16/2013') & (data_kekeringan['Korban ']=='Pendataan')]"
      ],
      "execution_count": null,
      "outputs": []
    },
    {
      "cell_type": "code",
      "metadata": {
        "id": "j7JNaZhrNEg2"
      },
      "source": [
        "data_kekeringan.loc[(data_kekeringan['Tanggal '] =='9/16/2013') | (data_kekeringan['Korban ']=='Pendataan')]"
      ],
      "execution_count": null,
      "outputs": []
    },
    {
      "cell_type": "markdown",
      "metadata": {
        "id": "pe7342b3NEg3"
      },
      "source": [
        "## 5.4 Contoh Data Lain yang memiliki Kolom Numerik"
      ]
    },
    {
      "cell_type": "code",
      "metadata": {
        "id": "47P_sI7gNEg3"
      },
      "source": [
        "data_pangan = pd.read_csv('jumlah-usaha-pertanian-per-provinsi-per-usaha-2003-2013.csv', delimiter = ',', encoding = \"utf-8\")"
      ],
      "execution_count": null,
      "outputs": []
    },
    {
      "cell_type": "code",
      "metadata": {
        "id": "M_I1yKZdNEg3"
      },
      "source": [
        "data_pangan.head()"
      ],
      "execution_count": null,
      "outputs": []
    },
    {
      "cell_type": "code",
      "metadata": {
        "id": "PMCBqObfNEg3"
      },
      "source": [
        "data_pangan.count()"
      ],
      "execution_count": null,
      "outputs": []
    },
    {
      "cell_type": "code",
      "metadata": {
        "id": "I0I5cq7aNEg3"
      },
      "source": [
        "data_pangan.columns"
      ],
      "execution_count": null,
      "outputs": []
    },
    {
      "cell_type": "markdown",
      "metadata": {
        "id": "XMXC3nZqNEg3"
      },
      "source": [
        "## 5.5 Statistik Sederhana"
      ]
    },
    {
      "cell_type": "code",
      "metadata": {
        "id": "MRIpGtupNEg3"
      },
      "source": [
        "data_pangan.kode_provinsi.count()"
      ],
      "execution_count": null,
      "outputs": []
    },
    {
      "cell_type": "code",
      "metadata": {
        "id": "rJoHqbCpNEg4"
      },
      "source": [
        "s = data_pangan.jumlah.sum()\n",
        "mi = data_pangan.jumlah.min()\n",
        "ma = data_pangan.jumlah.max()\n",
        "\n",
        "print(s,mi,ma)"
      ],
      "execution_count": null,
      "outputs": []
    },
    {
      "cell_type": "code",
      "metadata": {
        "id": "-SlBYOi4NEg4"
      },
      "source": [
        "me = data_pangan.jumlah.mean()\n",
        "md = data_pangan.jumlah.median()\n",
        "\n",
        "print(me,md)"
      ],
      "execution_count": null,
      "outputs": []
    },
    {
      "cell_type": "markdown",
      "metadata": {
        "id": "MmtoKLrUNEg4"
      },
      "source": [
        "## 5.6 Grouping\n",
        "\n",
        "http://pbpython.com/images/groupby-example.png"
      ]
    },
    {
      "cell_type": "code",
      "metadata": {
        "id": "Be1ygc1_NEg4"
      },
      "source": [
        "data_pangan.groupby('tahun').mean()['jumlah']"
      ],
      "execution_count": null,
      "outputs": []
    },
    {
      "cell_type": "code",
      "metadata": {
        "id": "WCt32s7tNEg4"
      },
      "source": [
        "data_pangan.groupby('nama_provinsi').mean()['jumlah']"
      ],
      "execution_count": null,
      "outputs": []
    },
    {
      "cell_type": "code",
      "metadata": {
        "id": "aKOd-NB0NEg4"
      },
      "source": [
        "data_pangan.sort_values('jumlah')"
      ],
      "execution_count": null,
      "outputs": []
    },
    {
      "cell_type": "code",
      "metadata": {
        "id": "fNq_m5huNEg4"
      },
      "source": [
        "data_pangan.groupby(['kode_provinsi','bentuk_usaha']).mean()"
      ],
      "execution_count": null,
      "outputs": []
    },
    {
      "cell_type": "markdown",
      "metadata": {
        "id": "H964FwvgNEg5"
      },
      "source": [
        "## 5.7 Visualisasi Sederhana\n",
        "Panda menyediakan fungsi untuk melakukan visualisasi sederhana, namun jika menginginkan yang lebih lengkap, bisa melihat di library matplotlib"
      ]
    },
    {
      "cell_type": "code",
      "metadata": {
        "id": "DkAy1Nq9NEg5"
      },
      "source": [
        "ax = data_pangan.groupby(('nama_provinsi')).mean()['jumlah']\n",
        "ax = ax.plot(kind='bar', title =\"Rata-Rata Berdasarkan Tahun\", figsize=(15,15), legend=True, fontsize=12)\n",
        "ax.set_xlabel(\"Tahun\", fontsize=12)\n",
        "ax.set_ylabel(\"Jumlah\", fontsize=12)"
      ],
      "execution_count": null,
      "outputs": []
    },
    {
      "cell_type": "markdown",
      "metadata": {
        "id": "irxZIQ8jNEg5"
      },
      "source": [
        "## Projects\n",
        "\n",
        "Temukan data yang menurut kalian menarik pada http://data.go.id . Buat analisa data yang berisi:\n",
        "1. Deskripsi Data\n",
        "2. Statistik tentang data\n",
        "3. Visualisasi sederhana\n",
        "4. Narasi analisis\n",
        "\n",
        "Buat dalam sebuah Notebook dengan judul Analisa Data X, dimana X adalah Deskripsi Data yang dianalisa. Submit link menuju notebooknya di elisa."
      ]
    },
    {
      "cell_type": "code",
      "metadata": {
        "id": "7FiMO2q3NEg5"
      },
      "source": [],
      "execution_count": null,
      "outputs": []
    }
  ]
}