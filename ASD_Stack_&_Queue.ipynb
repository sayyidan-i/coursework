{
  "nbformat": 4,
  "nbformat_minor": 0,
  "metadata": {
    "colab": {
      "provenance": [],
      "authorship_tag": "ABX9TyPrINW70nXykz+4jdFYJtHd",
      "include_colab_link": true
    },
    "kernelspec": {
      "name": "python3",
      "display_name": "Python 3"
    },
    "language_info": {
      "name": "python"
    }
  },
  "cells": [
    {
      "cell_type": "markdown",
      "metadata": {
        "id": "view-in-github",
        "colab_type": "text"
      },
      "source": [
        "<a href=\"https://colab.research.google.com/github/sayyidan-i/coursework/blob/main/ASD_Stack_%26_Queue.ipynb\" target=\"_parent\"><img src=\"https://colab.research.google.com/assets/colab-badge.svg\" alt=\"Open In Colab\"/></a>"
      ]
    },
    {
      "cell_type": "markdown",
      "source": [
        "**Tugas w5 : Stack & Queue**\n",
        "---\n"
      ],
      "metadata": {
        "id": "UHTC-IwqSyEw"
      }
    },
    {
      "cell_type": "markdown",
      "source": [
        "Nama : Sayyidan Muhamad Ikhsan"
      ],
      "metadata": {
        "id": "er5vd6GESJ4R"
      }
    },
    {
      "cell_type": "markdown",
      "source": [
        "NIM : 20/460160/TK/50749"
      ],
      "metadata": {
        "id": "YDl0sYAsSssP"
      }
    },
    {
      "cell_type": "markdown",
      "source": [
        "![no 11 asd.png](data:image/png;base64,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)"
      ],
      "metadata": {
        "id": "1Tn5GvTUVXbz"
      }
    },
    {
      "cell_type": "markdown",
      "source": [
        "Problem no 11 adalah bagaimana kita bisa membuat program yang dapat mengecek ketepatan tag pembuka dan penutup pada suatu kode HTML menggunakan metode stack. Untuk menyelesaikan permasalahan ini, saya menggunakan bahasa python yang source codenya terlihat dibawah ini."
      ],
      "metadata": {
        "id": "I3ozxK4dVdqs"
      }
    },
    {
      "cell_type": "code",
      "source": [
        "pip install pythonds"
      ],
      "metadata": {
        "colab": {
          "base_uri": "https://localhost:8080/"
        },
        "id": "fZQE8_bP7cu0",
        "outputId": "b47a8672-4706-4014-ef9b-3938cee7262b"
      },
      "execution_count": null,
      "outputs": [
        {
          "output_type": "stream",
          "name": "stdout",
          "text": [
            "Collecting pythonds\n",
            "  Downloading pythonds-1.2.1-py3-none-any.whl (14 kB)\n",
            "Installing collected packages: pythonds\n",
            "Successfully installed pythonds-1.2.1\n"
          ]
        }
      ]
    },
    {
      "cell_type": "code",
      "source": [
        "from pythonds.basic.stack import Stack\n",
        "\n",
        "def htmlChecker(html):\n",
        "    s = Stack()\n",
        "    i = 0\n",
        "\n",
        "    while i < len(html):\n",
        "        # memasukkan tag kedalam array\n",
        "        tag = \"\"\n",
        "        if html[i] == \"<\":\n",
        "            tag += html[i]\n",
        "            i += 1\n",
        "\n",
        "            while i < len(html):\n",
        "                if not html[i].isspace():\n",
        "                    tag += html[i]\n",
        "                if html[i] == \">\":\n",
        "\n",
        "                    break\n",
        "                i += 1\n",
        "            if not tag.endswith(\">\"):\n",
        "                print(\"Error: Sintaks HTML Salah. tidak ditemukan '>' untuk pembuka '<'.\")\n",
        "\n",
        "\n",
        "            # closing tag\n",
        "            if tag.startswith(\"</\"):\n",
        "                if tag.replace(\"</\", \"<\", 1) == s.peek():\n",
        "                    s.pop()\n",
        "            # opening tag\n",
        "            else:\n",
        "                s.push(tag)\n",
        "\n",
        "        i+= 1\n",
        "    if s.isEmpty():\n",
        "        print(\"Sukses: Tag HTML seimbang.\")\n",
        "    else:\n",
        "        print(\"Error: Tag HTML tidak seimbang.\")\n",
        "\n",
        "\n",
        "def main ():\n",
        "  html1 = \"\"\"\n",
        "        <html>\n",
        "        <head>\n",
        "            <title>\n",
        "            Example\n",
        "            </title>\n",
        "        </head>\n",
        "        <body>\n",
        "            <h1>Hello, world</h1>\n",
        "        </body>\n",
        "        </html>\n",
        "    \"\"\"\n",
        "  htmlChecker(html1)\n",
        "\n",
        "  html2 = \"\"\"\n",
        "        <html>\n",
        "        <head>\n",
        "            <title>\n",
        "            Example\n",
        "            </title>\n",
        "\n",
        "        <body>\n",
        "            <h1>Hello, world</h1>\n",
        "        </body>\n",
        "        </html>\n",
        "    \"\"\"\n",
        "  htmlChecker(html2)\n",
        "\n",
        "main()"
      ],
      "metadata": {
        "colab": {
          "base_uri": "https://localhost:8080/"
        },
        "id": "MdVHTVY-DFVi",
        "outputId": "b1ae94b8-934a-43a8-d35a-3624dcfaf13b"
      },
      "execution_count": null,
      "outputs": [
        {
          "output_type": "stream",
          "name": "stdout",
          "text": [
            "Sukses: Tag HTML seimbang.\n",
            "Error: Tag HTML tidak seimbang.\n"
          ]
        }
      ]
    },
    {
      "cell_type": "markdown",
      "source": [
        "Untuk melihat apakah kode ini berjalan dengan baik atau tidak, saya menambah percobaan dengan memasukkan kode HTML yang tidak seimbang\n",
        "\n",
        "Terlihat pada percobaan pertama output program adalah \"Sukses: Tag HTML seimbang\" apabila kita cek secara manual, memang benar bahwa kode html sudah seimbang. Sedangkan, pada percobaan kedua output program adalah \"Error: Tag HTML tidak seimbang\". Hal ini karena tag penutup \"head\" sudah saya hilangkan. Dengan demikian, program untuk mengecek apakah kode html seimbang menggunakan metode stack dapat berjalan dengan baik"
      ],
      "metadata": {
        "id": "DJrtr8VeYWDG"
      }
    },
    {
      "cell_type": "markdown",
      "source": [
        "![asd no 12.png](data:image/png;base64,iVBORw0KGgoAAAANSUhEUgAAAqEAAABvCAYAAADc3xmzAAAAAXNSR0IArs4c6QAAAARnQU1BAACxjwv8YQUAAAAJcEhZcwAADsMAAA7DAcdvqGQAABpkSURBVHhe7Z1NjhzHlYB5rDmClgQBn0T7BtrQAXSBWZCAtBodglzYgPbWxgbGkBfaeaOFAI3gmoy/jPcXkVldVVnV5PeAD2JWRLx4fxH1WC1WvzkhCIIgCIIgyMFCE4ogCIIgCIIcLjShCIIgCIIgyOFCE4ogCIIgCIIcLjShCIIgCIIgyOFCE4ogCIIgCIIcLjShCIIgCIIgyOFCE4ogCIIgCIIcLndvQv/zx2+nP3795+n//v3Twt8AAAAA4GH5KfdtqX+7VO7ahCYHkjO///r30++//S8AAAAAPDpL35b6t0sb0bs2oamTpgEFAAAAeGUs/Vvq4y6Ruzah+VPQyDEAAAAAeGhSH3eJ3LkJ/VvoFAAAAAA8NqmPu0RoQgEAAADgbGhCAQAAAOBwaEIBAAAA4HBoQgEAAADgcGhCAQAAAOBwaEIBAAAA4HBoQgEAAADgcGhCAQAAAOBwaEIBAAAA4HBoQgEAAADgcGhCAQAAAOBwaEIBAAAA4HBoQgEAAADgcGhCAQAAAOBwaEIBAAAA4HBoQgEAAADgcGhCAQAAAOBwaEIBAAAA4HAObkL/cvrmzbvTd/+qj1V++f7d6c2bNxU/PpLbNKE/nJ5XWyxfnT78I1oj+fH04d2b0/PHaOwaFPtG+n9+/9XpzdMP6/Onp8Vu8QwzSu5Krr8+fQrn3JCPX5/evPv29HM0trA7l0bPTWvgH9+e3ooz8vb9j/E8S+irjH9jlIfLzlk+J5NYXxu1X47Znrvk2ui745K6ODp+h6NylOIm8nW3/D0I6eyqM9rZff4/E655Dj77MzXgwCY0NaCpUHWTWRrQb5bRKn/9Rj9P5HZN6CUXDE3oqyW/udyh+WxsNKG7uZaeLWoD2mtxXpsr7U3M2pj07babJvR8duZnB1/WGyZNqOKo++UVcM1z8GWdqc4hTehf/lz+lvTuz9+c3qkm9JfTd39aXv/+l/qcpLz2zV/r40Tu1YTmYlFz6ic4T/+tPsnpfys0n/DIQquNz4esMxhfKPvVsaevh28kal7VUZrQsqaN6bUT2wxZ/9LQZp2BrjT+9v23615lzOi3DbH8W/Wy9wfRNO/St9DjXHP3sTRHTefP9c23zB/kVtqxkHTG+5s4q6b1gv0TG5e7/guF1CleV34U2+S6ksMlziKG+tMLHd/nxf/RG27WZewt+k2OV5rNX52en/zabPtwrUTbODxnE13F9uVc7IyDHU8xlbWR0OdK51z565qYQS4DWnxHZ3D7fPT5si4u9mf5cz67abzZr2pR11DZ7wdhaxmXfk3zYWpHrht/eq79T8gYZKovP6850rnJa+tYjkEbM/Zoxvm9LJ+Jse7rxCxg454qmL2VXclm8Z430qXqR8Qlx1/HIcdx9WHrDCx53XtH570WvdIWmz9p/8jmHThdXwjHNKHff7e0lov86zvThEZSPjF95CY0IS8vXTzlAPTiK8/ywKiLrx6oXtjlMLT5+nD1i2NU3Hm+OCRlfvdH69uwzVDWivnV9mZLGZexq5fBqs88m/XrAa7j2/rsnHqRrLloF0vXMfNvvXDqs9+/vWbntOcL99+43PtamzfzbPTIPYu9NubGPlPLNgYzpv4t8fgg69r4ml57+67YV+hx9hTb7Dnre9tnzTwOfm2Zb+Iknsu4rgN7TlZ/83NbW+ZaP+SZlDS74zO4ZbfeS+bqcn+Mzaauwjpzz0JHnt/29zGRtmdbRS3ZZ0la1/XU82nW5nGXI+FL83+Ns4mPwtqun0ucxfhZ+ZzptmMvj5kj5WY619ptn2vchV8Olf8FlQ8zrsbsXjZmNuf1WeiWcVpzvc7X+lXctmze4KwcfEYc0oSusqMJzT+e/1NtWjfkdk1oKsoAWSDtsnCfFJUiVW9urrDSHnVNUKj9EBRd8iJp9vU3LU0uZHEA1YFKyP22bFOvx4dkdrG5Q5kQ+1tbpwd8hIqfj43zP/S5knV1e/3+Uexlji7cfza2MK8LgdEzzZGyOch9zmFcD46glkdEuc12itfyHFs/K8E5m9RaX1fYl1uB0eXyKscDW9R+Ym5+XepZx2O/h3GzOhrKbu2jXHctf8p4XJ/T/dweohbTmPFZjkcxGSJ1Jbvzp+HN9mR3/bOLW/uzHSuMczA/qxflM8jLyjVjZsn7LjZams2RXS6ek7Nmz3Yl27zGpcxpP9UZ3oWJjb3DWpQ1YnIt/etx3GPznIty8op5qCa0/P+hW5+UdrnnJ6GJXDRLQesDoIuxzfHUPaYXWnRY42Jv2KJ3B0zst2lbW1OxutfX6sGRf7ZjfU2Pb7Jt9kYVrxfznL3xBaP2CC/nSo5Nvzzd/tGFtND3uHD/2diCjE25CKv/do3RI9f5mAqbjf+Zgc+OPM/nc8Qst51S67HO4Jw5fb3W+muFaRzEvBy7FmehS+UiIeIU2iJzIuZq/ZK4uci6J2ewvRbbrX2UPlzLnzIex1La7vZztd9zl9etvki0X/q1AdnW3kCk2kq2rPUf+tRt6Tr0Ps4fyeSsypio18y8rN/4GM1rXDVmFpcrTWyXjGHZ29aHnittFrgaXV4b2BLFLNo7zRve0aJe1nGR/+7rTpsnzPL5OfMwTei5DWiSR2lCdZHteXMUTC+06LBeuQk9o+it7vW1qsPqi/X3+LrDvyDtjdbn8RTz9rqK35kXjMVcOG7/IFeJvseF+29c7jI2K9mmGpM2ZvTIdT6mwmbjf2bgs6LaYHM5I64Nj4vfym2b0ByzFNM2x8TB5UKMh7a4N7YyN8zphKzbzJf7ze0OfKy6ruVPGffnICFtd/u52u+5C/cPKTWR/R808bJukg3ZxrR3smX571prLm7CP+dv4E9EXlftq3MvyecsLteNmcHlShPvLWMY14eeOxuvrPHUds9iFulO84d3dF47vhO7rzttnrA/Z58XD9GEln+4tO9fxEu5axPaCrH+D869+EyTmAp6drjVASn0C63o0m/C82LPhSwuNXc5yv22bDNEh0Tqd+ORfnuA1QVcL8SRvig3Kn5nXjCWrKvbG+9vYy9zdOH+s7EFl0uJjLXRM82RsjmIb9ZrXpPk8XE9jjgntrHuHecsOFuNs+NgdLlcyPHAFrWfmOvtmBPN77Zs2a1jLH24lj9lPLq3NvZLe7h8jPefo/20JNvLP8KqOpP9y94fnoQPLm6jsYLzZ4bw56J8zuJy5ZgpXK4M0d4unrO94vrRtDn1H7etsd+IWbB3ivfwjg5yLf3r+dtj85yoFr4E7t6Euq9oOkPu14TqgsvFsx66MtaLvDy7C7fN37rQzIHOYxsXrNzLXY5qvw3bDMVPsbex3R8iq9885/VCX967j3t99gIpzy/+UYsl29N99/u3GJg56/OF+8/GFnouSxylXpVno0eObcU0z13Ha75G58Hm7wyi2Oq94zmdYlvfe6PWDPM42DyWZxkHFe9EcK7W/NQ4rfupuUW3zOXM7zwmbQt0je3W49KH6/lTyWdZvGae3X6u9pOten83v547Fy8xts6X5HFhf4uT1OHiKnwJ/HX+rJjYLci5l+VzpvvKMZOkuSpXFru3fbZ+BWR7ZIy1r8r+Wo9F31bM/N4pZjKGyr+q2/oS2rFh8xYuJ18Id25C23eHetavbZp8b+jtmtDYpkQqqHzQ1YHVh6xdLPbQdT1i7Y4LbdW30L5GZXiA26Gpe1hdfr+JbYZySPTX2kg74kNUY9P0S1sS+eDWsWVt+pqX8IBH87Mfxf6y5swLxpJj0/2P/dH50PG6cH/lm6DOV7lc86znFF0tpyXPcp33ydqs81X+4V1cE1lvnadY9ft4NEax1TrHtZhY87DW1EatCTbjMK0zk4vE9FzVr6Np+9m501xqit3jM3jO+ZA+XNWfhrOlj7n93LlI+432T8jaMHmPbFHImJTXtvzP421N4K9bL5nk97J8pjkmLi6GYmx3zMq66NxmXK4iZmdxQ39lPd+V1ecaE7m+zK3+TWPm9065k7Wg/Ku5Vl/HJXyx98jQ5kS2a3ynWV1fCsc2oVeW2zShMOKIQ+IuBLgv+RKeN4NwHF/qG9XnCvl8cIK/cFzCpyfuUgtNKOzm2hem03flAw/nEn9KMPyEBw6HpuXzgnw+ONd8T0q6uEsdNKGwm+tfmOf+GA1ujvpR1gKX5kNB0/J5QT4fHD4YuTk0oQAAAABwODShAAAAAHA4NKEAAAAAcDg0oQAAAABwODShAAAAAHA4NKEAAAAAcDg0oQAAAABwODShjvKF3eq7Eiv9S7zt91sKzHe+5e+Bi+Yl2ncw2u9mFJTfHjTZb2G1a6JHfgG5Y7hO/naH+a9aexXfd6e+823uzxYP/SXuKZ8iF5fZmuJ03+/Je7H9Jg5fzHcyivP86L997NCczL7z8YbfB/kodTe1w/if59YaeukdeTmX3dHHYu7JK9fT/A68XpzuUas0oY7Bm24uqpbo0hT6pNdmURRLTurWG6h5s/SM9jOM9OQ3pcmBGKwrF1FrRF/ThTDgihcDTehx0ISeR4rXa/nVt4fmZHb+r9w0SB6l7vbbsfP9BgQ0oS+FJtQxftPtl/vkkOaGr3+CmJN67ya0rh++MQ3XyVjMC90Wbz40y/zC/Pfl6rkLk3iVHPyQ/SnzTa7qXxa6vtHFIP2pfr5PuWvrjM1K79enZ3EpJN/fvv8260vjLUY5JmKN/lR52e+j0JljV2wq841famxhFKNcf21e2bNcYIvNYr3K4zBmes8w92ntYvuHlkMRE69PrFnHtsZ1rBO7aiuIQ6nRRd+7vt6eiandhhf7mMcWm6SNyT/jt/Rrn13lnPd5TYd5XdZO2lPm791/6bsg26T3S/FvtTA7u3neci6KT02HrvHnp5ST6O4pbOmX5y5ha1Suf7ucga0mNNvT9Mk4LcxsSYxyVOrO3o3L+P+k/Ms8l9hIH9LaVqNbsbgo1muezT1j5wf1UM6a8EOdPT03+yDjFulbMfHIc5ver5f7WvqT5i56Zne4ioc++yXO9g4352ZYp1pvXhvVk12v4qTzbilxk3e4jNksTmZuHquxa+PCrmGthvm5DjShjlrMQdBTQmhC7ZyCLF5byPZZkotcjtWDOdqnHAoxnudXG+vh62vrJdL014vB+1P+3O2o61rerN5qYxvP/pmaKa+ZOlif7X71Wegol06rGxv78/JpLxJly1bM8t7aN0Vdby90uX+J18799sRa6HZ7SUwcit9Wt4nLyG6LHZPPO3209dX16fyeZddCv6fSc917rSXzXPde5+fnrtvFLNdDGd86u6XupJ2ljvVeRodgn/5BXbfxdX31e1TLzhYdpy1bXE7Es8yf1mPOVtWpc1fG98Xi5bEu482W4nvPuaSMdRvL3utztsv61J+znWstLqh9LcWHYseWP2W8P+v8ufXmudSOtCP2U9muSPrE+mbfaH9RH33+KA4tv7be2vyiO4/VfXvuahxaXDbsGtfq7aAJdZhiaqikjw6pLfx+iUfoggrmrHqq3miOvfiiolG2BwzW6SIUhW7mJWTxyj9Hc+fM9/EXgb8sJMoWddDlPn7PLX+kHX488kHa6cedXyInWb/yeSH7It90BCafTvfGhaf9SbZOasfpiucnG/bk6PxYTzBx8GtlHs60O5+pQfwD1N4uZr6G8/zs8/nxVGORnXL/gS2tNpOu56dFR6ufpM/W4oqMp85bJrDlrHxu6Ve+6Ll+3BCNTXMs9e+7gz6l/xp9MldpXv60VtbJMDZXjrXyX9eARetJduh1Ng7StnnOLMLH5I+xPetSdmibpZ2h7yJGbjzYT/tqMWOBX933OL7ZBhkbgYubirX3XaJ8m9rV50a1eitoQh0loVHD15NcCiCaY4toVlgrYcFL5pfCSj5UgU3Dg1MZrpNFeEahqxhu7F3J69c1433SgZldcgWTw/AASn+8b9Ifr1/nVfu+MLhYu+1+P+eXqIm8f/NFMbgkTD05+0P7BjHLr09yaHXlZ6FHoPMW77cVa71uYlfCxMHlSeZht90NfQfE9TqIqYu/P9+rz2fbpWvJ+5wQOXW2yPVp3lJjaY7Ij/U17yHsauM2l6EtJkcRe/UrXwK/lN/ra5U835ynQEdsi6gjuT5aM6ztVANprxrzOmZzvDcWed45sVa+brzfyFilP6864zh0Hzdy1l5b6fqkjob20e8tx92+CeGHjVd+rjHWzGwVY4Ff3YZia6jf2ijW2lqw+nTczR7Nt6ldxu+BLdeGJtRhiilk8KYRrMuvbyVz8yLeuBQaTk8txIv3T0SF3rGHuFDsLkVtLvhKL/o2Pt9nz2FM+sI3YXUA5T5+T7lOHlI1Xl9zvg8u1m6738/5JXIS7T/F5NOtD+IwjFken5wH6+vA9858v61Yd7Zry8bB5UnmYdPuMdnmbMfOmLq9BvdJ8vkFdsla8j4nRE4j/S1uaSyvTfalOem/PdZZt4q/iOfybHMZ2jK5e87Vr3wJ4yb8Xl+r5PmmjoSOuS3aLktZm9YF89Z901jRnfxKcz49dVtvHWsdL1+Pmj6e9un3VhyHbEu1bZqz9tpK1yd1NLSPfm857vZNiJxrXf55m7S/8CPwq9sQx2lGWtvj3F/z+sqf9989OjZ57qhWbwRNqMMUU0h8SHMy10uikJNqi98yuxwyW5dCJdKTi84XsGJz/8S8KOeHdrQ28mu+jzwwhaIj+xf4MT6Ach+/p1wX+eYOrhqPfBB2BuNJn8qR8GUe2wATBxczGYetmGVbJ+fBXWqR74KN/bZi7ZnsZ/aa52nD7k1eWod9rdw7z88+n2+XqqVki7mT1P7OlkTas/zjhaYn6cz/8GXNw/bZdXkLbInyXXiBfuVLELfQ18nYau+WLSL363hH+pj/rGKQ1i77pn9QU31Jc/I/klnjcutYLyj/o/00WdfTt8X2NWZxHKRt85xZhI/Bmcq61td8vl3cre8iRm48iN+ctL/wI/Cr+z6vlwgXN6VjHifl29SuIGZnxeBl0IQ6TDGFjA5pKQZZBDmRqngCgsLRbF8KmYGeUkyT9Zv7J/whl7jilfqGB9oexvI8szUfGJkfqdvuk59FPtQBlP5437QPZrzpDQ6uWi9s0c9+v+SXupTSHmZ/OR7tuaLWBheYjMNWzPLek/MQXGrWd+Xvrv3OiLXVJ0ljYq6Pmd5ravf6WsXue05MXcz8+c62SJ/32rWga6meqTX/5jnIX3QOiw1yzzJndnZd3dk1ee9ljsrJYO4e/cYXne+23vpaabas+kqMy/7btszqIbRD2J39WPdquvx+Z8XCrpnGuo232JS1PdcBI33ZdhFj82xrufg+yImqc5mP5dnt78+EjrtZb5713ITPk8uxIukTfqh4FlSObJxcjjU2TjqOwndrY34Wcdqwa6tWbwFNqMMUU8jkkLbDIZOankNqsaRCUQfAUosh1LEgC3ugZ3rYN/dPiEIPxsPiXW2cxLPFq/L8cV745cCMvqqi+VlJ9uRDWOeoAyj98b65S0naubyev9ImPLhGR1ujLi+/X7JbXUA2JyZO0X6dor/5LS+ZjIrDRszEeHhBGl0NpXPB+rqOBfvNYn1WbZk4+DzFeei69ZjlxT66mPn7JNsqcnauXTpXJmaTWmiU2hU1G82Teco26bObbZZ7ZVpOEvZrdgzn6g9slHErX2Hkfc3kteara5xuoSu4p/R57zlydVd1rTm09R/U5dmxyJwb62ZD0T2rsTYnvBOyP21fG+9qdx1//phsHOTExkHFoPqz+uxjNjrvbW9pu5/r5+s73NNqLetV8RTjk3oJY1lJa/XXkY3rRdZ89ml692i7Nmv1BtCEwqvCHmQAADia1EyOmsdjyA0T7wWvHppQeFXQhAIA3Jn0CdnoU9VbkD/Nm/80CV4nNKHwqqAJBQC4H+XHvcd/Clr27dCAfh7QhAIAAADA4dCEAgAAAMDh0IQCAAAAwOHQhAIAAADA4dCEAgAAAMDh0IQCAAAAwOHQhAIAAADA4dCEnkPwK6/uR/qy3kexBQAAAOA8aELPgSYUAAAA4CrQhEbUX9rffjPD2/c/ite/Oj0/fdV/c4P51WX2tzrI3+6Txp7fN921gTR7ud9EEdpSfmVZe63/5gj9utw7/Z7dt8vebTytyb97d51PQwsAAADHQRPqsL+TVjy3hnBt7spYa1JzAyqb0vz7bruu0qCK339b9fW9fjx9eCd1TGzJf5aNo51bdDXbSsMp5tvfxet+Ny8AAADA7aAJNeRmzXy6uVI/CZWfGObGcvi7zHVjOJ9bkPtPbTFNaJ5rdWd7S2PpdNF0AgAAwB2hCTVMG8WdTWhu+Jbms7HdhJZmdV1Tm8XtBrfbkudKHSuDJrR96lrn9U9QAQAAAG4PTajhkia0N5/tE8atT0J786l+bP7SJnQ4N2pCO3lttkP7BgAAAHAraEINs2Zt3oSWTxb1J4obTWj6kbjZS+4/tcU0ofO52+P2/yEFAAAAuCU0oQ7dOKrmbEcT2pu4/uPuaRMq/7/M/LzMWZvFiS2mCW1zZRM5bWjt3oFvAAAAALeCJjQiN2Slgcy0xnHjx/F23fPH2ojWcdeEttfamtQk5uZQ7DGyRaxdG087VzSd0Sehau+FuNnt8wEAAACuBU0oAAAAABwOTSgAAAAAHA5NKAAAAAAcDk0oAAAAABwOTSgAAAAAHA5NKAAAAAAcDk0oAAAAABwOTSgAAAAAHA5NKAAAAAAcDk0oAAAAABwOTSgAAAAAHA5NKAAAAAAcDk0oAAAAABwOTSgAAAAAHA5NKAAAAAAcDk0oAAAAABwOTSgAAAAAHA5NKAAAAAAcDk0oAAAAABzOK29CfwqdAgAAAIDHJvVxl8hdm9A/fv3n6fdf/x46BgAAAAAPytK/pT7uErlrE/qfP34rn4bSiAIAAAC8Dpa+LfVvqY+7RO7ahCZJDqROOjmT/t8CAAAAAHhUfsp926UNaJK7N6EIgiAIgiDIlyc0oQiCIAiCIMjhQhOKIAiCIAiCHC40oQiCIAiCIMjhQhOKIAiCIAiCHC40oQiCIAiCIMjhQhOKIAiCIAiCHCyn0/8D+SwU2LSN4C4AAAAASUVORK5CYII=)"
      ],
      "metadata": {
        "id": "39mt9lezZf3Y"
      }
    },
    {
      "cell_type": "markdown",
      "source": [
        "Permasalahan no 12 adalah bagaimana kita bisa membuat program pengecekan palindromes yang sudah disediakan  agar dapat mengecek palindromes yang memiliki blank characters. Untuk menyelesaikannya, saya mengganti library pythonds.basic.deque menjadi library collections untuk memudahkan dalam penyelesaiannya, sehingga didapatkan program seperti dibawah ini"
      ],
      "metadata": {
        "id": "dNNNU9UvZ8s4"
      }
    },
    {
      "cell_type": "code",
      "source": [
        "#Program that detects palindromes.\n",
        "\n",
        "from collections import deque\n",
        "\n",
        "def palchecker(aString):\n",
        "    chardeque = deque()\n",
        "\n",
        "    for ch in aString:\n",
        "        #pushes each char in the string to the deque.\n",
        "        chardeque.append(ch)\n",
        "\n",
        "    stillEqual = True\n",
        "\n",
        "    i = len(chardeque)\n",
        "\n",
        "    while chardeque.count(' ') > 0 :\n",
        "      chardeque.remove(' ') #menghilangkan semua elemen spasi\n",
        "      #print(chardeque)\n",
        "\n",
        "    while i > 1 and stillEqual:\n",
        "      first = chardeque.popleft()\n",
        "      last = chardeque.pop()\n",
        "      #print(chardeque)\n",
        "      if first != last: #if the two opposite positions of the\n",
        "                          #word is not the same, then it is not\n",
        "                          #a palindrome.\n",
        "          stillEqual = False\n",
        "      i = len(chardeque)\n",
        "\n",
        "\n",
        "    return stillEqual\n",
        "\n",
        "def main():\n",
        "    print(palchecker(\"lsdkjfskf\"))\n",
        "    print(palchecker(\"I PREFER PI\"))\n",
        "main()\n"
      ],
      "metadata": {
        "colab": {
          "base_uri": "https://localhost:8080/"
        },
        "id": "Ht5hpbcx1IdD",
        "outputId": "aecf16b1-c3f8-437c-ff52-1bc0e16b5663"
      },
      "execution_count": null,
      "outputs": [
        {
          "output_type": "stream",
          "name": "stdout",
          "text": [
            "False\n",
            "True\n"
          ]
        }
      ]
    },
    {
      "cell_type": "markdown",
      "source": [
        "Pada permasalahan kali ini, saya menggunakan .remove(' ') untuk menghilangkan semua blank character pada deque. Kemudian menjalankan program seperti sebelumnya yaitu menghilangkan dan membandingkan elemen pertama dan terakhir apakah sama atau tidak. Apabila berbeda, akan mengubah nilai stillEqual menjadi FALSE\n",
        "\n",
        "Terlihat pada percobaan kedua dengan input \"I PREFER PI\", program menghasilkan output TRUE. Karena spasi pada \"I PREFER PI\" dihilangkan terlebih dahulu, sehingga menjadi \"IPREFERPI\" yang merupakan palindromes."
      ],
      "metadata": {
        "id": "Q-RwG_Rcai33"
      }
    }
  ]
}