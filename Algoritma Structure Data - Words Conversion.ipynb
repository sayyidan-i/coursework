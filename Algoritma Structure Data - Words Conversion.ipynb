{
  "cells": [
    {
      "cell_type": "markdown",
      "metadata": {
        "id": "view-in-github",
        "colab_type": "text"
      },
      "source": [
        "<a href=\"https://colab.research.google.com/github/sayyidan-i/coursework/blob/main/Algoritma%20Structure%20Data%20-%20Words%20Conversion.ipynb\" target=\"_parent\"><img src=\"https://colab.research.google.com/assets/colab-badge.svg\" alt=\"Open In Colab\"/></a>"
      ]
    },
    {
      "cell_type": "markdown",
      "metadata": {
        "id": "mFMmo0a6REIi"
      },
      "source": [
        "TUGAS ASD WEEK 7"
      ]
    },
    {
      "cell_type": "markdown",
      "metadata": {
        "id": "O71Kno7y8BOH"
      },
      "source": [
        "Nama : Sayyidan Muhamad Ikhsan"
      ]
    },
    {
      "cell_type": "markdown",
      "metadata": {
        "id": "fHT4GQyZ8Kyi"
      },
      "source": [
        "NIM  : 20/460160/TK/50749"
      ]
    },
    {
      "cell_type": "markdown",
      "metadata": {
        "id": "7UY3cbp5_zUF"
      },
      "source": [
        "Program dibawah ini adalah program untuk menukar susunan sebuah kata menjadi terbalik. Misalnya input arek menjadi kera, input malang menjadi ngalam, dan input arek malang menjadi kera ngalam.\n",
        "\n",
        "\n",
        "Pertama, pengguna diminta untuk memasukkan input menu. kemudian apabila pengguna memilih untuk menjalankan program \"word conversion\", pengguna akan diminta untuk memasukkan sebuah kata atau kalimat yang ingin di konversi menjadi terbalik. Setelah kata atau kalimat tersebut dikonversi, pengguna dapat memilih apakah ingin mengulangi program ataukah selesai.\n",
        "\n",
        "Berikut adalah simulasi program dengan input arek, malang, dan arek malang"
      ]
    },
    {
      "cell_type": "code",
      "execution_count": 3,
      "metadata": {
        "colab": {
          "base_uri": "https://localhost:8080/"
        },
        "id": "fS_ejKJcaspV",
        "outputId": "2e41cf13-4b6c-4681-c3bd-8870a29c97db"
      },
      "outputs": [
        {
          "output_type": "stream",
          "name": "stdout",
          "text": [
            "Menu:\n",
            "1. Words Conversion\n",
            "2. Exit\n",
            "1\n",
            "Enter your words: malang\n",
            "Reversed string is ngalam\n",
            "Your reverse words have been created\n",
            "\n",
            "Menu:\n",
            "1. Start Again\n",
            "2. Exit\n",
            "2\n",
            "Thanks for using our program\n"
          ]
        }
      ],
      "source": [
        "\n",
        "import sys\n",
        "\n",
        "def main():\n",
        "  print(\"Menu:\")\n",
        "  print(\"1. Words Conversion\")\n",
        "  print(\"2. Exit\")\n",
        "  option = int(input())\n",
        "  if(option==1):\n",
        "    string=input('Enter your words: ')\n",
        "    reverseSentence = rev_sentence(string)\n",
        "    string = reverse(reverseSentence)\n",
        "    print(\"Reversed string is \" + string)\n",
        "    print (\"Your reverse words have been created\")\n",
        "  elif(option==2):\n",
        "     sys.exit(\"Thanks for using our program\")\n",
        "  else:\n",
        "    print(\"Invalid input\")\n",
        "  repeat()\n",
        "\n",
        "def repeat():\n",
        "\n",
        "    print (\"\\nMenu:\")\n",
        "    print(\"1. Start Again\")\n",
        "    print(\"2. Exit\")\n",
        "    option2=int(input())\n",
        "    if(option2==1):\n",
        "        main()\n",
        "    elif(option2==2):\n",
        "        print(\"Thanks for using our program\")\n",
        "        quit()\n",
        "    else:\n",
        "        print(\"Invalid input\")\n",
        "\n",
        "def createStack():\n",
        "    stack=[]\n",
        "    return stack\n",
        "\n",
        "# Function to determine the size of the stack\n",
        "def size(stack):\n",
        "    return len(stack)\n",
        "\n",
        "# Stack is empty if the size is 0\n",
        "def isEmpty(stack):\n",
        "    if size(stack) == 0:\n",
        "        return True\n",
        "\n",
        "# Function to add an item to stack .\n",
        "# It increases size by 1\n",
        "def push(stack,item):\n",
        "    stack.append(item)\n",
        "\n",
        "#Function to remove an item from stack.\n",
        "# It decreases size by 1\n",
        "def pop(stack):\n",
        "    if isEmpty(stack): return\n",
        "    return stack.pop()\n",
        "\n",
        "\n",
        "def rev_sentence(sentence):\n",
        "\n",
        "    # first split the string into words\n",
        "    words = sentence.split(' ')\n",
        "\n",
        "    # then reverse the split string list and join using space\n",
        "    reverse_sentence = ' '.join(reversed(words))\n",
        "\n",
        "    # finally return the joined string\n",
        "    return reverse_sentence\n",
        "\n",
        "\n",
        "# A stack based function to reverse a string\n",
        "def reverse(string):\n",
        "    n = len(string)\n",
        "\n",
        "    # Create a empty stack\n",
        "    stack = createStack()\n",
        "\n",
        "    for i in range(0,n,1):\n",
        "        push(stack,string[i])\n",
        "    # Push all characters of string to stack\n",
        "\n",
        "    for i in range(0,n-1,1):\n",
        "        if((stack[i]==\"n\" or stack[i]==\"N\") and (stack[i+1]==\"g\" or stack[i+1]==\"G\")):\n",
        "            stack[i], stack[i+1] = stack[i+1], stack[i]\n",
        "\n",
        "\n",
        "    # Making the string empty since all\n",
        "    #characters are saved in stack\n",
        "    string=\"\"\n",
        "\n",
        "    # Pop all characters of string and\n",
        "    # put them back to string\n",
        "    for i in range(0,n,1):\n",
        "        string+=pop(stack)\n",
        "\n",
        "    return string\n",
        "\n",
        "main()"
      ]
    },
    {
      "cell_type": "markdown",
      "metadata": {
        "id": "pMt2K62yCKem"
      },
      "source": [
        "Terlihat bahwa saat inputnya adalah kata \"arek\", program akan mengeluarkan output \"kera\", saat inputnya adalah kata \"malang\", program akan mengeluarkan output \"ngalam\". Terakhir, saat inputnya \"arek malang\", program akan mengeluarkan output \"kera ngalam\". Dengan demikian, dapat kita simpulkan bahwa program dapat berjalan baik sesuai dengan yang kita inginkan."
      ]
    }
  ],
  "metadata": {
    "colab": {
      "provenance": [],
      "include_colab_link": true
    },
    "kernelspec": {
      "display_name": "Python 3",
      "name": "python3"
    },
    "language_info": {
      "name": "python"
    }
  },
  "nbformat": 4,
  "nbformat_minor": 0
}