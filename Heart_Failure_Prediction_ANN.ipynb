{
  "nbformat": 4,
  "nbformat_minor": 0,
  "metadata": {
    "colab": {
      "provenance": [],
      "mount_file_id": "1EOdl_zjeoAnjtckie-m2pf5GaNrEOiFP",
      "authorship_tag": "ABX9TyPb5WlMZz2rhrQi9isAYURP"
    },
    "kernelspec": {
      "name": "python3",
      "display_name": "Python 3"
    },
    "language_info": {
      "name": "python"
    }
  },
  "cells": [
    {
      "cell_type": "markdown",
      "source": [
        "#Supervised: ANN"
      ],
      "metadata": {
        "id": "z85qCRPZ7tV1"
      }
    },
    {
      "cell_type": "markdown",
      "source": [
        "Karena pada metode Decision Tree sebelumnya sudah dilakukan eksplorasi dan pengolahan data, pada notebook ini akan langsung menggunakan data yang sudah dibersihkan sebelumnya."
      ],
      "metadata": {
        "id": "RA_PSiA370dD"
      }
    },
    {
      "cell_type": "code",
      "source": [
        "# Mengambil data yang sudah clean\n",
        "data_dir = \"/content/drive/MyDrive/BAI/heart disease dataset/Clean_Heart_Failure_Prediction.csv\""
      ],
      "metadata": {
        "id": "ngCKzJIt8Rlo"
      },
      "execution_count": null,
      "outputs": []
    },
    {
      "cell_type": "code",
      "source": [
        "import pandas as pd\n",
        "\n",
        "#load data\n",
        "df = pd.read_csv(data_dir)"
      ],
      "metadata": {
        "id": "IYNLBNLZ9KVT"
      },
      "execution_count": null,
      "outputs": []
    },
    {
      "cell_type": "code",
      "source": [
        "df.head()"
      ],
      "metadata": {
        "colab": {
          "base_uri": "https://localhost:8080/",
          "height": 226
        },
        "id": "4-so78Al9Qii",
        "outputId": "97e270b5-653e-4b91-d4c3-8aabb8dd6c22"
      },
      "execution_count": null,
      "outputs": [
        {
          "output_type": "execute_result",
          "data": {
            "text/plain": [
              "        Age  RestingBP  Cholesterol  FastingBS     MaxHR   Oldpeak  \\\n",
              "0  0.244898       0.70     0.479270          0  0.788732  0.295455   \n",
              "1  0.428571       0.80     0.298507          0  0.676056  0.409091   \n",
              "2  0.183673       0.65     0.469320          0  0.267606  0.295455   \n",
              "3  0.408163       0.69     0.354892          0  0.338028  0.465909   \n",
              "4  0.530612       0.75     0.323383          0  0.436620  0.295455   \n",
              "\n",
              "   HeartDisease  Sex_M  ChestPainType_ATA  ChestPainType_NAP  \\\n",
              "0             0      1                  1                  0   \n",
              "1             1      0                  0                  1   \n",
              "2             0      1                  1                  0   \n",
              "3             1      0                  0                  0   \n",
              "4             0      1                  0                  1   \n",
              "\n",
              "   ChestPainType_TA  RestingECG_Normal  RestingECG_ST  ExerciseAngina_Y  \\\n",
              "0                 0                  1              0                 0   \n",
              "1                 0                  1              0                 0   \n",
              "2                 0                  0              1                 0   \n",
              "3                 0                  1              0                 1   \n",
              "4                 0                  1              0                 0   \n",
              "\n",
              "   ST_Slope_Flat  ST_Slope_Up  \n",
              "0              0            1  \n",
              "1              1            0  \n",
              "2              0            1  \n",
              "3              1            0  \n",
              "4              0            1  "
            ],
            "text/html": [
              "\n",
              "  <div id=\"df-f594e945-9f16-49c9-88e3-f7b4725c0175\" class=\"colab-df-container\">\n",
              "    <div>\n",
              "<style scoped>\n",
              "    .dataframe tbody tr th:only-of-type {\n",
              "        vertical-align: middle;\n",
              "    }\n",
              "\n",
              "    .dataframe tbody tr th {\n",
              "        vertical-align: top;\n",
              "    }\n",
              "\n",
              "    .dataframe thead th {\n",
              "        text-align: right;\n",
              "    }\n",
              "</style>\n",
              "<table border=\"1\" class=\"dataframe\">\n",
              "  <thead>\n",
              "    <tr style=\"text-align: right;\">\n",
              "      <th></th>\n",
              "      <th>Age</th>\n",
              "      <th>RestingBP</th>\n",
              "      <th>Cholesterol</th>\n",
              "      <th>FastingBS</th>\n",
              "      <th>MaxHR</th>\n",
              "      <th>Oldpeak</th>\n",
              "      <th>HeartDisease</th>\n",
              "      <th>Sex_M</th>\n",
              "      <th>ChestPainType_ATA</th>\n",
              "      <th>ChestPainType_NAP</th>\n",
              "      <th>ChestPainType_TA</th>\n",
              "      <th>RestingECG_Normal</th>\n",
              "      <th>RestingECG_ST</th>\n",
              "      <th>ExerciseAngina_Y</th>\n",
              "      <th>ST_Slope_Flat</th>\n",
              "      <th>ST_Slope_Up</th>\n",
              "    </tr>\n",
              "  </thead>\n",
              "  <tbody>\n",
              "    <tr>\n",
              "      <th>0</th>\n",
              "      <td>0.244898</td>\n",
              "      <td>0.70</td>\n",
              "      <td>0.479270</td>\n",
              "      <td>0</td>\n",
              "      <td>0.788732</td>\n",
              "      <td>0.295455</td>\n",
              "      <td>0</td>\n",
              "      <td>1</td>\n",
              "      <td>1</td>\n",
              "      <td>0</td>\n",
              "      <td>0</td>\n",
              "      <td>1</td>\n",
              "      <td>0</td>\n",
              "      <td>0</td>\n",
              "      <td>0</td>\n",
              "      <td>1</td>\n",
              "    </tr>\n",
              "    <tr>\n",
              "      <th>1</th>\n",
              "      <td>0.428571</td>\n",
              "      <td>0.80</td>\n",
              "      <td>0.298507</td>\n",
              "      <td>0</td>\n",
              "      <td>0.676056</td>\n",
              "      <td>0.409091</td>\n",
              "      <td>1</td>\n",
              "      <td>0</td>\n",
              "      <td>0</td>\n",
              "      <td>1</td>\n",
              "      <td>0</td>\n",
              "      <td>1</td>\n",
              "      <td>0</td>\n",
              "      <td>0</td>\n",
              "      <td>1</td>\n",
              "      <td>0</td>\n",
              "    </tr>\n",
              "    <tr>\n",
              "      <th>2</th>\n",
              "      <td>0.183673</td>\n",
              "      <td>0.65</td>\n",
              "      <td>0.469320</td>\n",
              "      <td>0</td>\n",
              "      <td>0.267606</td>\n",
              "      <td>0.295455</td>\n",
              "      <td>0</td>\n",
              "      <td>1</td>\n",
              "      <td>1</td>\n",
              "      <td>0</td>\n",
              "      <td>0</td>\n",
              "      <td>0</td>\n",
              "      <td>1</td>\n",
              "      <td>0</td>\n",
              "      <td>0</td>\n",
              "      <td>1</td>\n",
              "    </tr>\n",
              "    <tr>\n",
              "      <th>3</th>\n",
              "      <td>0.408163</td>\n",
              "      <td>0.69</td>\n",
              "      <td>0.354892</td>\n",
              "      <td>0</td>\n",
              "      <td>0.338028</td>\n",
              "      <td>0.465909</td>\n",
              "      <td>1</td>\n",
              "      <td>0</td>\n",
              "      <td>0</td>\n",
              "      <td>0</td>\n",
              "      <td>0</td>\n",
              "      <td>1</td>\n",
              "      <td>0</td>\n",
              "      <td>1</td>\n",
              "      <td>1</td>\n",
              "      <td>0</td>\n",
              "    </tr>\n",
              "    <tr>\n",
              "      <th>4</th>\n",
              "      <td>0.530612</td>\n",
              "      <td>0.75</td>\n",
              "      <td>0.323383</td>\n",
              "      <td>0</td>\n",
              "      <td>0.436620</td>\n",
              "      <td>0.295455</td>\n",
              "      <td>0</td>\n",
              "      <td>1</td>\n",
              "      <td>0</td>\n",
              "      <td>1</td>\n",
              "      <td>0</td>\n",
              "      <td>1</td>\n",
              "      <td>0</td>\n",
              "      <td>0</td>\n",
              "      <td>0</td>\n",
              "      <td>1</td>\n",
              "    </tr>\n",
              "  </tbody>\n",
              "</table>\n",
              "</div>\n",
              "    <div class=\"colab-df-buttons\">\n",
              "\n",
              "  <div class=\"colab-df-container\">\n",
              "    <button class=\"colab-df-convert\" onclick=\"convertToInteractive('df-f594e945-9f16-49c9-88e3-f7b4725c0175')\"\n",
              "            title=\"Convert this dataframe to an interactive table.\"\n",
              "            style=\"display:none;\">\n",
              "\n",
              "  <svg xmlns=\"http://www.w3.org/2000/svg\" height=\"24px\" viewBox=\"0 -960 960 960\">\n",
              "    <path d=\"M120-120v-720h720v720H120Zm60-500h600v-160H180v160Zm220 220h160v-160H400v160Zm0 220h160v-160H400v160ZM180-400h160v-160H180v160Zm440 0h160v-160H620v160ZM180-180h160v-160H180v160Zm440 0h160v-160H620v160Z\"/>\n",
              "  </svg>\n",
              "    </button>\n",
              "\n",
              "  <style>\n",
              "    .colab-df-container {\n",
              "      display:flex;\n",
              "      gap: 12px;\n",
              "    }\n",
              "\n",
              "    .colab-df-convert {\n",
              "      background-color: #E8F0FE;\n",
              "      border: none;\n",
              "      border-radius: 50%;\n",
              "      cursor: pointer;\n",
              "      display: none;\n",
              "      fill: #1967D2;\n",
              "      height: 32px;\n",
              "      padding: 0 0 0 0;\n",
              "      width: 32px;\n",
              "    }\n",
              "\n",
              "    .colab-df-convert:hover {\n",
              "      background-color: #E2EBFA;\n",
              "      box-shadow: 0px 1px 2px rgba(60, 64, 67, 0.3), 0px 1px 3px 1px rgba(60, 64, 67, 0.15);\n",
              "      fill: #174EA6;\n",
              "    }\n",
              "\n",
              "    .colab-df-buttons div {\n",
              "      margin-bottom: 4px;\n",
              "    }\n",
              "\n",
              "    [theme=dark] .colab-df-convert {\n",
              "      background-color: #3B4455;\n",
              "      fill: #D2E3FC;\n",
              "    }\n",
              "\n",
              "    [theme=dark] .colab-df-convert:hover {\n",
              "      background-color: #434B5C;\n",
              "      box-shadow: 0px 1px 3px 1px rgba(0, 0, 0, 0.15);\n",
              "      filter: drop-shadow(0px 1px 2px rgba(0, 0, 0, 0.3));\n",
              "      fill: #FFFFFF;\n",
              "    }\n",
              "  </style>\n",
              "\n",
              "    <script>\n",
              "      const buttonEl =\n",
              "        document.querySelector('#df-f594e945-9f16-49c9-88e3-f7b4725c0175 button.colab-df-convert');\n",
              "      buttonEl.style.display =\n",
              "        google.colab.kernel.accessAllowed ? 'block' : 'none';\n",
              "\n",
              "      async function convertToInteractive(key) {\n",
              "        const element = document.querySelector('#df-f594e945-9f16-49c9-88e3-f7b4725c0175');\n",
              "        const dataTable =\n",
              "          await google.colab.kernel.invokeFunction('convertToInteractive',\n",
              "                                                    [key], {});\n",
              "        if (!dataTable) return;\n",
              "\n",
              "        const docLinkHtml = 'Like what you see? Visit the ' +\n",
              "          '<a target=\"_blank\" href=https://colab.research.google.com/notebooks/data_table.ipynb>data table notebook</a>'\n",
              "          + ' to learn more about interactive tables.';\n",
              "        element.innerHTML = '';\n",
              "        dataTable['output_type'] = 'display_data';\n",
              "        await google.colab.output.renderOutput(dataTable, element);\n",
              "        const docLink = document.createElement('div');\n",
              "        docLink.innerHTML = docLinkHtml;\n",
              "        element.appendChild(docLink);\n",
              "      }\n",
              "    </script>\n",
              "  </div>\n",
              "\n",
              "\n",
              "<div id=\"df-1c7f15aa-b597-47db-89bb-27ddf6440dff\">\n",
              "  <button class=\"colab-df-quickchart\" onclick=\"quickchart('df-1c7f15aa-b597-47db-89bb-27ddf6440dff')\"\n",
              "            title=\"Suggest charts.\"\n",
              "            style=\"display:none;\">\n",
              "\n",
              "<svg xmlns=\"http://www.w3.org/2000/svg\" height=\"24px\"viewBox=\"0 0 24 24\"\n",
              "     width=\"24px\">\n",
              "    <g>\n",
              "        <path d=\"M19 3H5c-1.1 0-2 .9-2 2v14c0 1.1.9 2 2 2h14c1.1 0 2-.9 2-2V5c0-1.1-.9-2-2-2zM9 17H7v-7h2v7zm4 0h-2V7h2v10zm4 0h-2v-4h2v4z\"/>\n",
              "    </g>\n",
              "</svg>\n",
              "  </button>\n",
              "\n",
              "<style>\n",
              "  .colab-df-quickchart {\n",
              "      --bg-color: #E8F0FE;\n",
              "      --fill-color: #1967D2;\n",
              "      --hover-bg-color: #E2EBFA;\n",
              "      --hover-fill-color: #174EA6;\n",
              "      --disabled-fill-color: #AAA;\n",
              "      --disabled-bg-color: #DDD;\n",
              "  }\n",
              "\n",
              "  [theme=dark] .colab-df-quickchart {\n",
              "      --bg-color: #3B4455;\n",
              "      --fill-color: #D2E3FC;\n",
              "      --hover-bg-color: #434B5C;\n",
              "      --hover-fill-color: #FFFFFF;\n",
              "      --disabled-bg-color: #3B4455;\n",
              "      --disabled-fill-color: #666;\n",
              "  }\n",
              "\n",
              "  .colab-df-quickchart {\n",
              "    background-color: var(--bg-color);\n",
              "    border: none;\n",
              "    border-radius: 50%;\n",
              "    cursor: pointer;\n",
              "    display: none;\n",
              "    fill: var(--fill-color);\n",
              "    height: 32px;\n",
              "    padding: 0;\n",
              "    width: 32px;\n",
              "  }\n",
              "\n",
              "  .colab-df-quickchart:hover {\n",
              "    background-color: var(--hover-bg-color);\n",
              "    box-shadow: 0 1px 2px rgba(60, 64, 67, 0.3), 0 1px 3px 1px rgba(60, 64, 67, 0.15);\n",
              "    fill: var(--button-hover-fill-color);\n",
              "  }\n",
              "\n",
              "  .colab-df-quickchart-complete:disabled,\n",
              "  .colab-df-quickchart-complete:disabled:hover {\n",
              "    background-color: var(--disabled-bg-color);\n",
              "    fill: var(--disabled-fill-color);\n",
              "    box-shadow: none;\n",
              "  }\n",
              "\n",
              "  .colab-df-spinner {\n",
              "    border: 2px solid var(--fill-color);\n",
              "    border-color: transparent;\n",
              "    border-bottom-color: var(--fill-color);\n",
              "    animation:\n",
              "      spin 1s steps(1) infinite;\n",
              "  }\n",
              "\n",
              "  @keyframes spin {\n",
              "    0% {\n",
              "      border-color: transparent;\n",
              "      border-bottom-color: var(--fill-color);\n",
              "      border-left-color: var(--fill-color);\n",
              "    }\n",
              "    20% {\n",
              "      border-color: transparent;\n",
              "      border-left-color: var(--fill-color);\n",
              "      border-top-color: var(--fill-color);\n",
              "    }\n",
              "    30% {\n",
              "      border-color: transparent;\n",
              "      border-left-color: var(--fill-color);\n",
              "      border-top-color: var(--fill-color);\n",
              "      border-right-color: var(--fill-color);\n",
              "    }\n",
              "    40% {\n",
              "      border-color: transparent;\n",
              "      border-right-color: var(--fill-color);\n",
              "      border-top-color: var(--fill-color);\n",
              "    }\n",
              "    60% {\n",
              "      border-color: transparent;\n",
              "      border-right-color: var(--fill-color);\n",
              "    }\n",
              "    80% {\n",
              "      border-color: transparent;\n",
              "      border-right-color: var(--fill-color);\n",
              "      border-bottom-color: var(--fill-color);\n",
              "    }\n",
              "    90% {\n",
              "      border-color: transparent;\n",
              "      border-bottom-color: var(--fill-color);\n",
              "    }\n",
              "  }\n",
              "</style>\n",
              "\n",
              "  <script>\n",
              "    async function quickchart(key) {\n",
              "      const quickchartButtonEl =\n",
              "        document.querySelector('#' + key + ' button');\n",
              "      quickchartButtonEl.disabled = true;  // To prevent multiple clicks.\n",
              "      quickchartButtonEl.classList.add('colab-df-spinner');\n",
              "      try {\n",
              "        const charts = await google.colab.kernel.invokeFunction(\n",
              "            'suggestCharts', [key], {});\n",
              "      } catch (error) {\n",
              "        console.error('Error during call to suggestCharts:', error);\n",
              "      }\n",
              "      quickchartButtonEl.classList.remove('colab-df-spinner');\n",
              "      quickchartButtonEl.classList.add('colab-df-quickchart-complete');\n",
              "    }\n",
              "    (() => {\n",
              "      let quickchartButtonEl =\n",
              "        document.querySelector('#df-1c7f15aa-b597-47db-89bb-27ddf6440dff button');\n",
              "      quickchartButtonEl.style.display =\n",
              "        google.colab.kernel.accessAllowed ? 'block' : 'none';\n",
              "    })();\n",
              "  </script>\n",
              "</div>\n",
              "    </div>\n",
              "  </div>\n"
            ]
          },
          "metadata": {},
          "execution_count": 3
        }
      ]
    },
    {
      "cell_type": "code",
      "source": [
        "df.info()"
      ],
      "metadata": {
        "colab": {
          "base_uri": "https://localhost:8080/"
        },
        "id": "5SKxtQhO9R9r",
        "outputId": "a801b8b3-43b2-435b-d7d3-17407be2a75b"
      },
      "execution_count": null,
      "outputs": [
        {
          "output_type": "stream",
          "name": "stdout",
          "text": [
            "<class 'pandas.core.frame.DataFrame'>\n",
            "RangeIndex: 918 entries, 0 to 917\n",
            "Data columns (total 16 columns):\n",
            " #   Column             Non-Null Count  Dtype  \n",
            "---  ------             --------------  -----  \n",
            " 0   Age                918 non-null    float64\n",
            " 1   RestingBP          918 non-null    float64\n",
            " 2   Cholesterol        918 non-null    float64\n",
            " 3   FastingBS          918 non-null    int64  \n",
            " 4   MaxHR              918 non-null    float64\n",
            " 5   Oldpeak            918 non-null    float64\n",
            " 6   HeartDisease       918 non-null    int64  \n",
            " 7   Sex_M              918 non-null    int64  \n",
            " 8   ChestPainType_ATA  918 non-null    int64  \n",
            " 9   ChestPainType_NAP  918 non-null    int64  \n",
            " 10  ChestPainType_TA   918 non-null    int64  \n",
            " 11  RestingECG_Normal  918 non-null    int64  \n",
            " 12  RestingECG_ST      918 non-null    int64  \n",
            " 13  ExerciseAngina_Y   918 non-null    int64  \n",
            " 14  ST_Slope_Flat      918 non-null    int64  \n",
            " 15  ST_Slope_Up        918 non-null    int64  \n",
            "dtypes: float64(5), int64(11)\n",
            "memory usage: 114.9 KB\n"
          ]
        }
      ]
    },
    {
      "cell_type": "markdown",
      "source": [
        "## Data Preparation"
      ],
      "metadata": {
        "id": "rG3TZBvg9jyg"
      }
    },
    {
      "cell_type": "code",
      "source": [
        "# Memisahkan feature dan label\n",
        "features = [x for x in df if x not in \"HeartDisease\"]\n",
        "\n",
        "#Split Dataset\n",
        "\n",
        "from sklearn.model_selection import train_test_split\n",
        "X_train, X_val, y_train, y_val = train_test_split(df[features], df['HeartDisease'], train_size = 0.8)"
      ],
      "metadata": {
        "id": "SzP0Y7mI9TVv"
      },
      "execution_count": null,
      "outputs": []
    },
    {
      "cell_type": "code",
      "source": [
        "print(X_train.shape)\n",
        "print(y_train.shape)\n",
        "print(X_val.shape)\n",
        "print(y_val.shape)"
      ],
      "metadata": {
        "colab": {
          "base_uri": "https://localhost:8080/"
        },
        "id": "vTwLyNUj-QyN",
        "outputId": "c618dc05-e111-40cc-d9c0-4e10a6afcd8d"
      },
      "execution_count": null,
      "outputs": [
        {
          "output_type": "stream",
          "name": "stdout",
          "text": [
            "(734, 15)\n",
            "(734,)\n",
            "(184, 15)\n",
            "(184,)\n"
          ]
        }
      ]
    },
    {
      "cell_type": "markdown",
      "source": [
        "## Building ANN Model"
      ],
      "metadata": {
        "id": "vd1sWBPK-edO"
      }
    },
    {
      "cell_type": "code",
      "source": [
        "# Import Library\n",
        "import tensorflow as tf\n",
        "from keras.layers import Dense, Dropout, Flatten\n",
        "from keras.models import Sequential\n",
        "import matplotlib.pyplot as plt\n",
        "import seaborn as sns\n",
        "from sklearn.metrics import accuracy_score, precision_score, recall_score, classification_report, roc_auc_score, roc_curve, confusion_matrix\n"
      ],
      "metadata": {
        "id": "R-VCjgu_-bfr"
      },
      "execution_count": null,
      "outputs": []
    },
    {
      "cell_type": "code",
      "source": [
        "model = Sequential([\n",
        "                      Flatten(input_dim=X_train.shape[1]),\n",
        "                      Dense(256, activation='relu'),\n",
        "                      Dense(32, activation='relu'),\n",
        "                      Dropout(0.2),\n",
        "                      Dense(1, activation='sigmoid')\n",
        "])\n",
        "\n",
        "model.compile(optimizer='adam', loss='binary_crossentropy', metrics=['accuracy'])\n",
        "\n",
        "model.summary()"
      ],
      "metadata": {
        "colab": {
          "base_uri": "https://localhost:8080/"
        },
        "id": "7v1ZWaum-uQ6",
        "outputId": "76d410cb-a741-4fb0-a0d4-c514289e7886"
      },
      "execution_count": null,
      "outputs": [
        {
          "output_type": "stream",
          "name": "stdout",
          "text": [
            "Model: \"sequential\"\n",
            "_________________________________________________________________\n",
            " Layer (type)                Output Shape              Param #   \n",
            "=================================================================\n",
            " flatten (Flatten)           (None, 15)                0         \n",
            "                                                                 \n",
            " dense (Dense)               (None, 256)               4096      \n",
            "                                                                 \n",
            " dense_1 (Dense)             (None, 32)                8224      \n",
            "                                                                 \n",
            " dropout (Dropout)           (None, 32)                0         \n",
            "                                                                 \n",
            " dense_2 (Dense)             (None, 1)                 33        \n",
            "                                                                 \n",
            "=================================================================\n",
            "Total params: 12353 (48.25 KB)\n",
            "Trainable params: 12353 (48.25 KB)\n",
            "Non-trainable params: 0 (0.00 Byte)\n",
            "_________________________________________________________________\n"
          ]
        }
      ]
    },
    {
      "cell_type": "code",
      "source": [
        "hist = model.fit(X_train, y_train, epochs = 30, batch_size=32, validation_data=(X_val, y_val))"
      ],
      "metadata": {
        "colab": {
          "base_uri": "https://localhost:8080/"
        },
        "id": "5e2mknuw_7ph",
        "outputId": "659ce4b1-f012-4c47-99e9-b554e8e82655"
      },
      "execution_count": null,
      "outputs": [
        {
          "output_type": "stream",
          "name": "stdout",
          "text": [
            "Epoch 1/30\n",
            "23/23 [==============================] - 2s 20ms/step - loss: 0.5643 - accuracy: 0.7834 - val_loss: 0.4405 - val_accuracy: 0.8587\n",
            "Epoch 2/30\n",
            "23/23 [==============================] - 0s 6ms/step - loss: 0.4121 - accuracy: 0.8433 - val_loss: 0.3405 - val_accuracy: 0.8750\n",
            "Epoch 3/30\n",
            "23/23 [==============================] - 0s 6ms/step - loss: 0.3760 - accuracy: 0.8501 - val_loss: 0.3173 - val_accuracy: 0.8967\n",
            "Epoch 4/30\n",
            "23/23 [==============================] - 0s 6ms/step - loss: 0.3655 - accuracy: 0.8488 - val_loss: 0.2954 - val_accuracy: 0.9076\n",
            "Epoch 5/30\n",
            "23/23 [==============================] - 0s 5ms/step - loss: 0.3605 - accuracy: 0.8583 - val_loss: 0.2939 - val_accuracy: 0.9076\n",
            "Epoch 6/30\n",
            "23/23 [==============================] - 0s 5ms/step - loss: 0.3476 - accuracy: 0.8569 - val_loss: 0.2867 - val_accuracy: 0.9022\n",
            "Epoch 7/30\n",
            "23/23 [==============================] - 0s 6ms/step - loss: 0.3465 - accuracy: 0.8638 - val_loss: 0.2860 - val_accuracy: 0.9022\n",
            "Epoch 8/30\n",
            "23/23 [==============================] - 0s 6ms/step - loss: 0.3433 - accuracy: 0.8651 - val_loss: 0.2834 - val_accuracy: 0.9022\n",
            "Epoch 9/30\n",
            "23/23 [==============================] - 0s 6ms/step - loss: 0.3497 - accuracy: 0.8597 - val_loss: 0.2859 - val_accuracy: 0.8913\n",
            "Epoch 10/30\n",
            "23/23 [==============================] - 0s 5ms/step - loss: 0.3364 - accuracy: 0.8733 - val_loss: 0.2856 - val_accuracy: 0.9022\n",
            "Epoch 11/30\n",
            "23/23 [==============================] - 0s 6ms/step - loss: 0.3331 - accuracy: 0.8638 - val_loss: 0.2940 - val_accuracy: 0.8913\n",
            "Epoch 12/30\n",
            "23/23 [==============================] - 0s 6ms/step - loss: 0.3326 - accuracy: 0.8651 - val_loss: 0.2833 - val_accuracy: 0.8967\n",
            "Epoch 13/30\n",
            "23/23 [==============================] - 0s 5ms/step - loss: 0.3307 - accuracy: 0.8583 - val_loss: 0.2811 - val_accuracy: 0.9022\n",
            "Epoch 14/30\n",
            "23/23 [==============================] - 0s 6ms/step - loss: 0.3229 - accuracy: 0.8692 - val_loss: 0.2826 - val_accuracy: 0.8967\n",
            "Epoch 15/30\n",
            "23/23 [==============================] - 0s 6ms/step - loss: 0.3163 - accuracy: 0.8706 - val_loss: 0.2792 - val_accuracy: 0.8913\n",
            "Epoch 16/30\n",
            "23/23 [==============================] - 0s 6ms/step - loss: 0.3152 - accuracy: 0.8774 - val_loss: 0.2886 - val_accuracy: 0.8913\n",
            "Epoch 17/30\n",
            "23/23 [==============================] - 0s 6ms/step - loss: 0.3019 - accuracy: 0.8815 - val_loss: 0.2795 - val_accuracy: 0.8804\n",
            "Epoch 18/30\n",
            "23/23 [==============================] - 0s 4ms/step - loss: 0.3142 - accuracy: 0.8774 - val_loss: 0.2831 - val_accuracy: 0.8913\n",
            "Epoch 19/30\n",
            "23/23 [==============================] - 0s 3ms/step - loss: 0.3049 - accuracy: 0.8733 - val_loss: 0.2932 - val_accuracy: 0.8913\n",
            "Epoch 20/30\n",
            "23/23 [==============================] - 0s 4ms/step - loss: 0.2933 - accuracy: 0.8856 - val_loss: 0.2850 - val_accuracy: 0.8913\n",
            "Epoch 21/30\n",
            "23/23 [==============================] - 0s 3ms/step - loss: 0.2916 - accuracy: 0.8828 - val_loss: 0.2892 - val_accuracy: 0.8913\n",
            "Epoch 22/30\n",
            "23/23 [==============================] - 0s 4ms/step - loss: 0.2923 - accuracy: 0.8774 - val_loss: 0.2872 - val_accuracy: 0.8913\n",
            "Epoch 23/30\n",
            "23/23 [==============================] - 0s 4ms/step - loss: 0.2921 - accuracy: 0.8883 - val_loss: 0.2898 - val_accuracy: 0.8804\n",
            "Epoch 24/30\n",
            "23/23 [==============================] - 0s 4ms/step - loss: 0.2930 - accuracy: 0.8828 - val_loss: 0.2930 - val_accuracy: 0.8750\n",
            "Epoch 25/30\n",
            "23/23 [==============================] - 0s 4ms/step - loss: 0.2750 - accuracy: 0.8924 - val_loss: 0.2922 - val_accuracy: 0.8859\n",
            "Epoch 26/30\n",
            "23/23 [==============================] - 0s 4ms/step - loss: 0.2843 - accuracy: 0.8801 - val_loss: 0.3094 - val_accuracy: 0.8859\n",
            "Epoch 27/30\n",
            "23/23 [==============================] - 0s 4ms/step - loss: 0.2798 - accuracy: 0.8869 - val_loss: 0.2963 - val_accuracy: 0.8804\n",
            "Epoch 28/30\n",
            "23/23 [==============================] - 0s 4ms/step - loss: 0.2852 - accuracy: 0.8951 - val_loss: 0.2948 - val_accuracy: 0.8804\n",
            "Epoch 29/30\n",
            "23/23 [==============================] - 0s 4ms/step - loss: 0.2879 - accuracy: 0.8910 - val_loss: 0.3098 - val_accuracy: 0.8750\n",
            "Epoch 30/30\n",
            "23/23 [==============================] - 0s 3ms/step - loss: 0.2671 - accuracy: 0.8951 - val_loss: 0.2967 - val_accuracy: 0.8913\n"
          ]
        }
      ]
    },
    {
      "cell_type": "code",
      "source": [
        "\n",
        "fig, ax = plt.subplots(2,1)\n",
        "ax[0].plot(hist.history['loss'], color='b', label=\"Training loss\")\n",
        "ax[0].plot(hist.history['val_loss'], color='r', label=\"validation loss\",axes =ax[0])\n",
        "legend = ax[0].legend(loc='best', shadow=True)\n",
        "\n",
        "ax[1].plot(hist.history['accuracy'], color='b', label=\"Training accuracy\")\n",
        "ax[1].plot(hist.history['val_accuracy'], color='r',label=\"Validation accuracy\")\n",
        "legend = ax[1].legend(loc='best', shadow=True)"
      ],
      "metadata": {
        "colab": {
          "base_uri": "https://localhost:8080/",
          "height": 430
        },
        "id": "ErpNssKXAINt",
        "outputId": "1f46efc6-281b-487b-ad42-4fc93f52eb64"
      },
      "execution_count": null,
      "outputs": [
        {
          "output_type": "display_data",
          "data": {
            "text/plain": [
              "<Figure size 640x480 with 2 Axes>"
            ],
            "image/png": "[encoded data removed]"
          },
          "metadata": {}
        }
      ]
    },
    {
      "cell_type": "code",
      "source": [
        "y_predict = model.predict(X_val)"
      ],
      "metadata": {
        "colab": {
          "base_uri": "https://localhost:8080/"
        },
        "id": "9ETOoUikBAE6",
        "outputId": "e3e571b6-f3ba-47aa-ee63-252cd704d3aa"
      },
      "execution_count": null,
      "outputs": [
        {
          "output_type": "stream",
          "name": "stdout",
          "text": [
            "6/6 [==============================] - 0s 5ms/step\n"
          ]
        }
      ]
    },
    {
      "cell_type": "code",
      "source": [
        "y_pred_labels = (y_predict > 0.5).astype(int)"
      ],
      "metadata": {
        "id": "bIrNDVEqBTU7"
      },
      "execution_count": null,
      "outputs": []
    },
    {
      "cell_type": "code",
      "source": [
        "acc = accuracy_score(y_pred_labels, y_val)\n",
        "print(acc)"
      ],
      "metadata": {
        "colab": {
          "base_uri": "https://localhost:8080/"
        },
        "id": "_3CTGGw9B4Si",
        "outputId": "d393de31-6f16-499f-e442-e3a3b5b8fa98"
      },
      "execution_count": null,
      "outputs": [
        {
          "output_type": "stream",
          "name": "stdout",
          "text": [
            "0.8913043478260869\n"
          ]
        }
      ]
    },
    {
      "cell_type": "code",
      "source": [
        "ann_cm = confusion_matrix(y_val, y_pred_labels)\n",
        "sns.heatmap(ann_cm,fmt='',annot=True)"
      ],
      "metadata": {
        "colab": {
          "base_uri": "https://localhost:8080/",
          "height": 447
        },
        "id": "jusmJqVMB5ss",
        "outputId": "52c44c2a-1840-4820-b076-7081ec0318a0"
      },
      "execution_count": null,
      "outputs": [
        {
          "output_type": "execute_result",
          "data": {
            "text/plain": [
              "<Axes: >"
            ]
          },
          "metadata": {},
          "execution_count": 32
        },
        {
          "output_type": "display_data",
          "data": {
            "text/plain": [
              "<Figure size 640x480 with 2 Axes>"
            ],
            "image/png": "[encoded data removed]"
          },
          "metadata": {}
        }
      ]
    },
    {
      "cell_type": "code",
      "source": [],
      "metadata": {
        "id": "CFnYyFriDmWP"
      },
      "execution_count": null,
      "outputs": []
    }
  ]
}