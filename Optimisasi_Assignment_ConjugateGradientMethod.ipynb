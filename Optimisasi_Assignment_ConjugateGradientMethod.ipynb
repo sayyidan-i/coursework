{
  "nbformat": 4,
  "nbformat_minor": 0,
  "metadata": {
    "colab": {
      "provenance": []
    },
    "kernelspec": {
      "name": "python3",
      "display_name": "Python 3"
    },
    "language_info": {
      "name": "python"
    }
  },
  "cells": [
    {
      "cell_type": "code",
      "execution_count": null,
      "metadata": {
        "id": "khc1xIoI2uap"
      },
      "outputs": [],
      "source": [
        "# This is the second coding assignment for Optimization Method\n",
        "# You are to implement the Conjugate gradient method,\n",
        "# given the objective function of an optimization problem written in the class.\n",
        "#\n",
        "# Some of the function template for a portion of the code are already provided,\n",
        "# such as the computation of the gradient, Hessian, alpha, and beta\n",
        "#\n",
        "# copyright @ Ahmad Nasikun\n",
        "import numpy as np\n",
        "\n",
        "# [TASK 1]\n",
        "# Setup sistem matrix and vector (Hessian matrix Q and vector b)\n",
        "Q = np.array([[3,0,1],[0,4,2],[1,2,3]])\n",
        "b = np.array([3,0,1])\n",
        "xk=np.array([0,0,0])\n",
        "\n",
        "\n",
        "\n",
        "iterCount = 0\n",
        "maxIters = 3\n",
        "\n",
        "\n",
        "\n"
      ]
    },
    {
      "cell_type": "code",
      "source": [
        "# For now, we set the number of iterations to be 3, as the number of inputs\n",
        "while iterCount < maxIters:\n",
        "  # [TASK 2]\n",
        "  # Implement the conjugate gradient in here\n",
        "  # using the functions that you implement in the following blocks\n",
        "  grad = computeGradient(Q,xk,b)\n",
        "  print(\"grad=\", grad)\n",
        "  if (iterCount)==0:\n",
        "    dk = -grad\n",
        "    a = computeAlpha(grad, dk, Q)\n",
        "    print(\"alpha =\" %a)\n",
        "\n",
        "    b = computeBeta(grad, dk, Q)\n",
        "    print(\"beta = \" %b)\n",
        "\n",
        "    xk1 = xk + a*dk\n",
        "    print(\"xk1 = \" %xk1)\n",
        "\n",
        "  else:\n",
        "    dk1 = -grad+b*dk\n",
        "    a = computeAlpha(grad, dk1, Q)\n",
        "    a = computeAlpha(grad, dk, Q)\n",
        "    print(\"alpha =\" %a)\n",
        "\n",
        "    b = computeBeta(grad, dk1, Q)\n",
        "    b = computeBeta(grad, dk, Q)\n",
        "    print(\"beta = \" %b)\n",
        "\n",
        "    xk1 = xk + a*dk1\n",
        "    print(\"xk1 = \" %xk1)\n",
        "\n",
        "  print(\"xk\")\n",
        "  print(xk1)\n",
        "  xk = xk1\n",
        "\n",
        "\n",
        "  iterCount = iterCount +1"
      ],
      "metadata": {
        "id": "htNVIQJq5CpO"
      },
      "execution_count": null,
      "outputs": []
    },
    {
      "cell_type": "code",
      "source": [
        "# [TASK 3]\n",
        "# You need to implement the computation of gradient\n",
        "# given the Hessian Q, the values of x at iteration k, and the vector b\n",
        "## grad(0) = Qx(0)-b\n",
        "def computeGradient(Q,xk,b):\n",
        "  grad = np.dot(Q,xk)-b\n",
        "  #print(\"grad=\",grad)\n",
        "  return grad\n"
      ],
      "metadata": {
        "id": "AscSca-829Mi"
      },
      "execution_count": null,
      "outputs": []
    },
    {
      "cell_type": "code",
      "source": [
        "# [TASK 4]\n",
        "# You need to implement the computation of alpha\n",
        "# given the gradient and direction (d) at iteration k\n",
        "def computeAlpha(grad, dk, Q):\n",
        "  alpha = -(np.dot(grad,dk))/(np.dot(np.dot(dk,Q),dk))\n",
        "  #print(\"alpha=\",alpha)\n",
        "  return alpha"
      ],
      "metadata": {
        "id": "9HITjCY14PbR"
      },
      "execution_count": null,
      "outputs": []
    },
    {
      "cell_type": "code",
      "source": [
        "# [TASK 5]\n",
        "# You need to implement the computation of beta\n",
        "# given the gradient and direction (d) at iteration k\n",
        "def computeBeta(grad, dk, Q):\n",
        "  Beta = (np.dot(np.dot(grad,Q),dk))/(np.dot(dk,Q))\n",
        "  #print(\"beta=\",Beta)\n",
        "  return Beta"
      ],
      "metadata": {
        "id": "sKN0CSEn52DE"
      },
      "execution_count": null,
      "outputs": []
    },
    {
      "cell_type": "code",
      "source": [],
      "metadata": {
        "id": "-uPAG58R7flp"
      },
      "execution_count": null,
      "outputs": []
    },
    {
      "cell_type": "code",
      "source": [
        "# For now, we set the number of iterations to be 3, as the number of inputs\n",
        "while iterCount < maxIters:\n",
        "  # [TASK 2]\n",
        "  # Implement the conjugate gradient in here\n",
        "  # using the functions that you implement in the following blocks\n",
        "  grad = computeGradient(Q,xk,b)\n",
        "  print(\"grad=\", grad)\n",
        "  if (iterCount)==0:\n",
        "    dk = -grad\n",
        "    a = computeAlpha(grad, dk, Q)\n",
        "    print(\"alpha =\" %a)\n",
        "\n",
        "    b = computeBeta(grad, dk, Q)\n",
        "    print(\"beta = \" %b)\n",
        "\n",
        "    xk1 = xk + a*dk\n",
        "    print(\"xk1 = \" %xk1)\n",
        "\n",
        "  else:\n",
        "    dk1 = -grad+b*dk\n",
        "    a = computeAlpha(grad, dk1, Q)\n",
        "    a = computeAlpha(grad, dk, Q)\n",
        "    print(\"alpha =\" %a)\n",
        "\n",
        "    b = computeBeta(grad, dk1, Q)\n",
        "    b = computeBeta(grad, dk, Q)\n",
        "    print(\"beta = \" %b)\n",
        "\n",
        "    xk1 = xk + a*dk1\n",
        "    print(\"xk1 = \" %xk1)\n",
        "\n",
        "  print(\"xk\")\n",
        "  print(xk1)\n",
        "  xk = xk1\n",
        "\n",
        "\n",
        "  iterCount = iterCount +1"
      ],
      "metadata": {
        "id": "I7g-wO9Q63Bk"
      },
      "execution_count": null,
      "outputs": []
    }
  ]
}