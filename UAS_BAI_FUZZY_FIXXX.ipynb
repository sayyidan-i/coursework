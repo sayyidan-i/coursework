{
  "nbformat": 4,
  "nbformat_minor": 0,
  "metadata": {
    "colab": {
      "provenance": [],
      "authorship_tag": "ABX9TyNBEYyoBU0z94lYsIiqYzHK"
    },
    "kernelspec": {
      "name": "python3",
      "display_name": "Python 3"
    },
    "language_info": {
      "name": "python"
    }
  },
  "cells": [
    {
      "cell_type": "markdown",
      "source": [
        "### Import Package"
      ],
      "metadata": {
        "id": "dLsOZ_L66VVM"
      }
    },
    {
      "cell_type": "code",
      "execution_count": null,
      "metadata": {
        "colab": {
          "base_uri": "https://localhost:8080/"
        },
        "id": "OLtKje8D5i6F",
        "outputId": "655c6a5b-50bd-45d1-8646-4431fb471e3e"
      },
      "outputs": [
        {
          "output_type": "stream",
          "name": "stdout",
          "text": [
            "Requirement already satisfied: rulekit in /usr/local/lib/python3.10/dist-packages (1.6.4)\n",
            "Requirement already satisfied: pandas~=1.5.2 in /usr/local/lib/python3.10/dist-packages (from rulekit) (1.5.3)\n",
            "Requirement already satisfied: scikit-learn~=1.2.0 in /usr/local/lib/python3.10/dist-packages (from rulekit) (1.2.2)\n",
            "Requirement already satisfied: requests~=2.25.1 in /usr/local/lib/python3.10/dist-packages (from rulekit) (2.25.1)\n",
            "Requirement already satisfied: scipy~=1.9.3 in /usr/local/lib/python3.10/dist-packages (from rulekit) (1.9.3)\n",
            "Requirement already satisfied: joblib<1.3,>=1.0 in /usr/local/lib/python3.10/dist-packages (from rulekit) (1.2.0)\n",
            "Requirement already satisfied: JPype1~=1.4.1 in /usr/local/lib/python3.10/dist-packages (from rulekit) (1.4.1)\n",
            "Requirement already satisfied: pydantic~=2.0.3 in /usr/local/lib/python3.10/dist-packages (from rulekit) (2.0.3)\n",
            "Requirement already satisfied: packaging in /usr/local/lib/python3.10/dist-packages (from JPype1~=1.4.1->rulekit) (23.2)\n",
            "Requirement already satisfied: python-dateutil>=2.8.1 in /usr/local/lib/python3.10/dist-packages (from pandas~=1.5.2->rulekit) (2.8.2)\n",
            "Requirement already satisfied: pytz>=2020.1 in /usr/local/lib/python3.10/dist-packages (from pandas~=1.5.2->rulekit) (2023.3.post1)\n",
            "Requirement already satisfied: numpy>=1.21.0 in /usr/local/lib/python3.10/dist-packages (from pandas~=1.5.2->rulekit) (1.23.5)\n",
            "Requirement already satisfied: annotated-types>=0.4.0 in /usr/local/lib/python3.10/dist-packages (from pydantic~=2.0.3->rulekit) (0.6.0)\n",
            "Requirement already satisfied: pydantic-core==2.3.0 in /usr/local/lib/python3.10/dist-packages (from pydantic~=2.0.3->rulekit) (2.3.0)\n",
            "Requirement already satisfied: typing-extensions>=4.6.1 in /usr/local/lib/python3.10/dist-packages (from pydantic~=2.0.3->rulekit) (4.8.0)\n",
            "Requirement already satisfied: chardet<5,>=3.0.2 in /usr/local/lib/python3.10/dist-packages (from requests~=2.25.1->rulekit) (4.0.0)\n",
            "Requirement already satisfied: idna<3,>=2.5 in /usr/local/lib/python3.10/dist-packages (from requests~=2.25.1->rulekit) (2.10)\n",
            "Requirement already satisfied: urllib3<1.27,>=1.21.1 in /usr/local/lib/python3.10/dist-packages (from requests~=2.25.1->rulekit) (1.26.18)\n",
            "Requirement already satisfied: certifi>=2017.4.17 in /usr/local/lib/python3.10/dist-packages (from requests~=2.25.1->rulekit) (2023.11.17)\n",
            "Requirement already satisfied: threadpoolctl>=2.0.0 in /usr/local/lib/python3.10/dist-packages (from scikit-learn~=1.2.0->rulekit) (3.2.0)\n",
            "Requirement already satisfied: six>=1.5 in /usr/local/lib/python3.10/dist-packages (from python-dateutil>=2.8.1->pandas~=1.5.2->rulekit) (1.16.0)\n"
          ]
        }
      ],
      "source": [
        "#iImport Fuzzy\n",
        "!pip install rulekit"
      ]
    },
    {
      "cell_type": "code",
      "source": [
        "# after installation\n",
        "!python -m rulekit download_jar"
      ],
      "metadata": {
        "colab": {
          "base_uri": "https://localhost:8080/"
        },
        "id": "LWYiiPbT5u3V",
        "outputId": "dc4d7a02-12e8-40f7-b693-4813c855e1be"
      },
      "execution_count": null,
      "outputs": [
        {
          "output_type": "stream",
          "name": "stdout",
          "text": [
            "Fetching latest RuleKit release version:  v1.5.2\n",
            "Old RuleKit jar file/files (['rulekit-1.5.2-all.jar']) detected,do you want to remove it/them? Type \"yes\" or \"no\"\n",
            "Traceback (most recent call last):\n",
            "  File \"/usr/lib/python3.10/runpy.py\", line 196, in _run_module_as_main\n",
            "  File \"/usr/lib/python3.10/runpy.py\", line 86, in _run_code\n",
            "    exec(code, run_globals)\n",
            "  File \"/usr/local/lib/python3.10/dist-packages/rulekit/__main__.py\", line 70, in <module>\n",
            "    _main()\n",
            "  File \"/usr/local/lib/python3.10/dist-packages/rulekit/__main__.py\", line 61, in _main\n",
            "    _download_rulekit_jar()\n",
            "  File \"/usr/local/lib/python3.10/dist-packages/rulekit/__main__.py\", line 38, in _download_rulekit_jar\n",
            "    user_input: str = input(\n",
            "KeyboardInterrupt\n",
            "^C\n"
          ]
        }
      ]
    },
    {
      "cell_type": "markdown",
      "source": [
        "### Import Dataset"
      ],
      "metadata": {
        "id": "jL1AMNGJ6bNK"
      }
    },
    {
      "cell_type": "code",
      "source": [
        "!pip install ucimlrepo"
      ],
      "metadata": {
        "colab": {
          "base_uri": "https://localhost:8080/"
        },
        "id": "xyn-BQ6-54ie",
        "outputId": "05f29549-19ed-4c61-aa78-71213d2a96c7"
      },
      "execution_count": null,
      "outputs": [
        {
          "output_type": "stream",
          "name": "stdout",
          "text": [
            "Requirement already satisfied: ucimlrepo in /usr/local/lib/python3.10/dist-packages (0.0.3)\n"
          ]
        }
      ]
    },
    {
      "cell_type": "code",
      "source": [
        "from ucimlrepo import fetch_ucirepo\n",
        "\n",
        "# fetch dataset\n",
        "cirrhosis_patient_survival_prediction = fetch_ucirepo(id=878)\n",
        "\n",
        "# data (as pandas dataframes)\n",
        "x = cirrhosis_patient_survival_prediction.data.features\n",
        "y = cirrhosis_patient_survival_prediction.data.targets"
      ],
      "metadata": {
        "id": "wgEBoc_758z7"
      },
      "execution_count": null,
      "outputs": []
    },
    {
      "cell_type": "code",
      "source": [
        "import pandas as pd\n",
        "df = pd.DataFrame(x)\n",
        "df"
      ],
      "metadata": {
        "colab": {
          "base_uri": "https://localhost:8080/",
          "height": 513
        },
        "id": "nCn2H80j5_Gf",
        "outputId": "b44fd29c-0802-480e-c78d-1d45efd4a4b3"
      },
      "execution_count": null,
      "outputs": [
        {
          "output_type": "execute_result",
          "data": {
            "text/plain": [
              "                Drug    Age Sex Ascites Hepatomegaly Spiders Edema  Bilirubin  \\\n",
              "0    D-penicillamine  21464   F       Y            Y       Y     Y       14.5   \n",
              "1    D-penicillamine  20617   F       N            Y       Y     N        1.1   \n",
              "2    D-penicillamine  25594   M       N            N       N     S        1.4   \n",
              "3    D-penicillamine  19994   F       N            Y       Y     S        1.8   \n",
              "4            Placebo  13918   F       N            Y       Y     N        3.4   \n",
              "..               ...    ...  ..     ...          ...     ...   ...        ...   \n",
              "413              NaN  24472   F     NaN          NaN     NaN     N        1.2   \n",
              "414              NaN  14245   F     NaN          NaN     NaN     N        0.9   \n",
              "415              NaN  20819   F     NaN          NaN     NaN     N        1.6   \n",
              "416              NaN  21185   F     NaN          NaN     NaN     N        0.8   \n",
              "417              NaN  19358   F     NaN          NaN     NaN     N        0.7   \n",
              "\n",
              "    Cholesterol  Albumin Copper  Alk_Phos    SGOT Tryglicerides Platelets  \\\n",
              "0           261     2.60    156    1718.0  137.95           172       190   \n",
              "1           302     4.14     54    7394.8  113.52            88       221   \n",
              "2           176     3.48    210     516.0   96.10            55       151   \n",
              "3           244     2.54     64    6121.8   60.63            92       183   \n",
              "4           279     3.53    143     671.0  113.15            72       136   \n",
              "..          ...      ...    ...       ...     ...           ...       ...   \n",
              "413         NaN     2.96    NaN       NaN     NaN           NaN       174   \n",
              "414         NaN     3.83    NaN       NaN     NaN           NaN       180   \n",
              "415         NaN     3.42    NaN       NaN     NaN           NaN       143   \n",
              "416         NaN     3.75    NaN       NaN     NaN           NaN       269   \n",
              "417         NaN     3.29    NaN       NaN     NaN           NaN       350   \n",
              "\n",
              "     Prothrombin  Stage  \n",
              "0           12.2    4.0  \n",
              "1           10.6    3.0  \n",
              "2           12.0    4.0  \n",
              "3           10.3    4.0  \n",
              "4           10.9    3.0  \n",
              "..           ...    ...  \n",
              "413         10.9    3.0  \n",
              "414         11.2    4.0  \n",
              "415          9.9    3.0  \n",
              "416         10.4    3.0  \n",
              "417         10.6    4.0  \n",
              "\n",
              "[418 rows x 17 columns]"
            ],
            "text/html": [
              "\n",
              "  <div id=\"df-165bbed2-97e7-4a75-9a8b-740921a31fa5\" class=\"colab-df-container\">\n",
              "    <div>\n",
              "<style scoped>\n",
              "    .dataframe tbody tr th:only-of-type {\n",
              "        vertical-align: middle;\n",
              "    }\n",
              "\n",
              "    .dataframe tbody tr th {\n",
              "        vertical-align: top;\n",
              "    }\n",
              "\n",
              "    .dataframe thead th {\n",
              "        text-align: right;\n",
              "    }\n",
              "</style>\n",
              "<table border=\"1\" class=\"dataframe\">\n",
              "  <thead>\n",
              "    <tr style=\"text-align: right;\">\n",
              "      <th></th>\n",
              "      <th>Drug</th>\n",
              "      <th>Age</th>\n",
              "      <th>Sex</th>\n",
              "      <th>Ascites</th>\n",
              "      <th>Hepatomegaly</th>\n",
              "      <th>Spiders</th>\n",
              "      <th>Edema</th>\n",
              "      <th>Bilirubin</th>\n",
              "      <th>Cholesterol</th>\n",
              "      <th>Albumin</th>\n",
              "      <th>Copper</th>\n",
              "      <th>Alk_Phos</th>\n",
              "      <th>SGOT</th>\n",
              "      <th>Tryglicerides</th>\n",
              "      <th>Platelets</th>\n",
              "      <th>Prothrombin</th>\n",
              "      <th>Stage</th>\n",
              "    </tr>\n",
              "  </thead>\n",
              "  <tbody>\n",
              "    <tr>\n",
              "      <th>0</th>\n",
              "      <td>D-penicillamine</td>\n",
              "      <td>21464</td>\n",
              "      <td>F</td>\n",
              "      <td>Y</td>\n",
              "      <td>Y</td>\n",
              "      <td>Y</td>\n",
              "      <td>Y</td>\n",
              "      <td>14.5</td>\n",
              "      <td>261</td>\n",
              "      <td>2.60</td>\n",
              "      <td>156</td>\n",
              "      <td>1718.0</td>\n",
              "      <td>137.95</td>\n",
              "      <td>172</td>\n",
              "      <td>190</td>\n",
              "      <td>12.2</td>\n",
              "      <td>4.0</td>\n",
              "    </tr>\n",
              "    <tr>\n",
              "      <th>1</th>\n",
              "      <td>D-penicillamine</td>\n",
              "      <td>20617</td>\n",
              "      <td>F</td>\n",
              "      <td>N</td>\n",
              "      <td>Y</td>\n",
              "      <td>Y</td>\n",
              "      <td>N</td>\n",
              "      <td>1.1</td>\n",
              "      <td>302</td>\n",
              "      <td>4.14</td>\n",
              "      <td>54</td>\n",
              "      <td>7394.8</td>\n",
              "      <td>113.52</td>\n",
              "      <td>88</td>\n",
              "      <td>221</td>\n",
              "      <td>10.6</td>\n",
              "      <td>3.0</td>\n",
              "    </tr>\n",
              "    <tr>\n",
              "      <th>2</th>\n",
              "      <td>D-penicillamine</td>\n",
              "      <td>25594</td>\n",
              "      <td>M</td>\n",
              "      <td>N</td>\n",
              "      <td>N</td>\n",
              "      <td>N</td>\n",
              "      <td>S</td>\n",
              "      <td>1.4</td>\n",
              "      <td>176</td>\n",
              "      <td>3.48</td>\n",
              "      <td>210</td>\n",
              "      <td>516.0</td>\n",
              "      <td>96.10</td>\n",
              "      <td>55</td>\n",
              "      <td>151</td>\n",
              "      <td>12.0</td>\n",
              "      <td>4.0</td>\n",
              "    </tr>\n",
              "    <tr>\n",
              "      <th>3</th>\n",
              "      <td>D-penicillamine</td>\n",
              "      <td>19994</td>\n",
              "      <td>F</td>\n",
              "      <td>N</td>\n",
              "      <td>Y</td>\n",
              "      <td>Y</td>\n",
              "      <td>S</td>\n",
              "      <td>1.8</td>\n",
              "      <td>244</td>\n",
              "      <td>2.54</td>\n",
              "      <td>64</td>\n",
              "      <td>6121.8</td>\n",
              "      <td>60.63</td>\n",
              "      <td>92</td>\n",
              "      <td>183</td>\n",
              "      <td>10.3</td>\n",
              "      <td>4.0</td>\n",
              "    </tr>\n",
              "    <tr>\n",
              "      <th>4</th>\n",
              "      <td>Placebo</td>\n",
              "      <td>13918</td>\n",
              "      <td>F</td>\n",
              "      <td>N</td>\n",
              "      <td>Y</td>\n",
              "      <td>Y</td>\n",
              "      <td>N</td>\n",
              "      <td>3.4</td>\n",
              "      <td>279</td>\n",
              "      <td>3.53</td>\n",
              "      <td>143</td>\n",
              "      <td>671.0</td>\n",
              "      <td>113.15</td>\n",
              "      <td>72</td>\n",
              "      <td>136</td>\n",
              "      <td>10.9</td>\n",
              "      <td>3.0</td>\n",
              "    </tr>\n",
              "    <tr>\n",
              "      <th>...</th>\n",
              "      <td>...</td>\n",
              "      <td>...</td>\n",
              "      <td>...</td>\n",
              "      <td>...</td>\n",
              "      <td>...</td>\n",
              "      <td>...</td>\n",
              "      <td>...</td>\n",
              "      <td>...</td>\n",
              "      <td>...</td>\n",
              "      <td>...</td>\n",
              "      <td>...</td>\n",
              "      <td>...</td>\n",
              "      <td>...</td>\n",
              "      <td>...</td>\n",
              "      <td>...</td>\n",
              "      <td>...</td>\n",
              "      <td>...</td>\n",
              "    </tr>\n",
              "    <tr>\n",
              "      <th>413</th>\n",
              "      <td>NaN</td>\n",
              "      <td>24472</td>\n",
              "      <td>F</td>\n",
              "      <td>NaN</td>\n",
              "      <td>NaN</td>\n",
              "      <td>NaN</td>\n",
              "      <td>N</td>\n",
              "      <td>1.2</td>\n",
              "      <td>NaN</td>\n",
              "      <td>2.96</td>\n",
              "      <td>NaN</td>\n",
              "      <td>NaN</td>\n",
              "      <td>NaN</td>\n",
              "      <td>NaN</td>\n",
              "      <td>174</td>\n",
              "      <td>10.9</td>\n",
              "      <td>3.0</td>\n",
              "    </tr>\n",
              "    <tr>\n",
              "      <th>414</th>\n",
              "      <td>NaN</td>\n",
              "      <td>14245</td>\n",
              "      <td>F</td>\n",
              "      <td>NaN</td>\n",
              "      <td>NaN</td>\n",
              "      <td>NaN</td>\n",
              "      <td>N</td>\n",
              "      <td>0.9</td>\n",
              "      <td>NaN</td>\n",
              "      <td>3.83</td>\n",
              "      <td>NaN</td>\n",
              "      <td>NaN</td>\n",
              "      <td>NaN</td>\n",
              "      <td>NaN</td>\n",
              "      <td>180</td>\n",
              "      <td>11.2</td>\n",
              "      <td>4.0</td>\n",
              "    </tr>\n",
              "    <tr>\n",
              "      <th>415</th>\n",
              "      <td>NaN</td>\n",
              "      <td>20819</td>\n",
              "      <td>F</td>\n",
              "      <td>NaN</td>\n",
              "      <td>NaN</td>\n",
              "      <td>NaN</td>\n",
              "      <td>N</td>\n",
              "      <td>1.6</td>\n",
              "      <td>NaN</td>\n",
              "      <td>3.42</td>\n",
              "      <td>NaN</td>\n",
              "      <td>NaN</td>\n",
              "      <td>NaN</td>\n",
              "      <td>NaN</td>\n",
              "      <td>143</td>\n",
              "      <td>9.9</td>\n",
              "      <td>3.0</td>\n",
              "    </tr>\n",
              "    <tr>\n",
              "      <th>416</th>\n",
              "      <td>NaN</td>\n",
              "      <td>21185</td>\n",
              "      <td>F</td>\n",
              "      <td>NaN</td>\n",
              "      <td>NaN</td>\n",
              "      <td>NaN</td>\n",
              "      <td>N</td>\n",
              "      <td>0.8</td>\n",
              "      <td>NaN</td>\n",
              "      <td>3.75</td>\n",
              "      <td>NaN</td>\n",
              "      <td>NaN</td>\n",
              "      <td>NaN</td>\n",
              "      <td>NaN</td>\n",
              "      <td>269</td>\n",
              "      <td>10.4</td>\n",
              "      <td>3.0</td>\n",
              "    </tr>\n",
              "    <tr>\n",
              "      <th>417</th>\n",
              "      <td>NaN</td>\n",
              "      <td>19358</td>\n",
              "      <td>F</td>\n",
              "      <td>NaN</td>\n",
              "      <td>NaN</td>\n",
              "      <td>NaN</td>\n",
              "      <td>N</td>\n",
              "      <td>0.7</td>\n",
              "      <td>NaN</td>\n",
              "      <td>3.29</td>\n",
              "      <td>NaN</td>\n",
              "      <td>NaN</td>\n",
              "      <td>NaN</td>\n",
              "      <td>NaN</td>\n",
              "      <td>350</td>\n",
              "      <td>10.6</td>\n",
              "      <td>4.0</td>\n",
              "    </tr>\n",
              "  </tbody>\n",
              "</table>\n",
              "<p>418 rows × 17 columns</p>\n",
              "</div>\n",
              "    <div class=\"colab-df-buttons\">\n",
              "\n",
              "  <div class=\"colab-df-container\">\n",
              "    <button class=\"colab-df-convert\" onclick=\"convertToInteractive('df-165bbed2-97e7-4a75-9a8b-740921a31fa5')\"\n",
              "            title=\"Convert this dataframe to an interactive table.\"\n",
              "            style=\"display:none;\">\n",
              "\n",
              "  <svg xmlns=\"http://www.w3.org/2000/svg\" height=\"24px\" viewBox=\"0 -960 960 960\">\n",
              "    <path d=\"M120-120v-720h720v720H120Zm60-500h600v-160H180v160Zm220 220h160v-160H400v160Zm0 220h160v-160H400v160ZM180-400h160v-160H180v160Zm440 0h160v-160H620v160ZM180-180h160v-160H180v160Zm440 0h160v-160H620v160Z\"/>\n",
              "  </svg>\n",
              "    </button>\n",
              "\n",
              "  <style>\n",
              "    .colab-df-container {\n",
              "      display:flex;\n",
              "      gap: 12px;\n",
              "    }\n",
              "\n",
              "    .colab-df-convert {\n",
              "      background-color: #E8F0FE;\n",
              "      border: none;\n",
              "      border-radius: 50%;\n",
              "      cursor: pointer;\n",
              "      display: none;\n",
              "      fill: #1967D2;\n",
              "      height: 32px;\n",
              "      padding: 0 0 0 0;\n",
              "      width: 32px;\n",
              "    }\n",
              "\n",
              "    .colab-df-convert:hover {\n",
              "      background-color: #E2EBFA;\n",
              "      box-shadow: 0px 1px 2px rgba(60, 64, 67, 0.3), 0px 1px 3px 1px rgba(60, 64, 67, 0.15);\n",
              "      fill: #174EA6;\n",
              "    }\n",
              "\n",
              "    .colab-df-buttons div {\n",
              "      margin-bottom: 4px;\n",
              "    }\n",
              "\n",
              "    [theme=dark] .colab-df-convert {\n",
              "      background-color: #3B4455;\n",
              "      fill: #D2E3FC;\n",
              "    }\n",
              "\n",
              "    [theme=dark] .colab-df-convert:hover {\n",
              "      background-color: #434B5C;\n",
              "      box-shadow: 0px 1px 3px 1px rgba(0, 0, 0, 0.15);\n",
              "      filter: drop-shadow(0px 1px 2px rgba(0, 0, 0, 0.3));\n",
              "      fill: #FFFFFF;\n",
              "    }\n",
              "  </style>\n",
              "\n",
              "    <script>\n",
              "      const buttonEl =\n",
              "        document.querySelector('#df-165bbed2-97e7-4a75-9a8b-740921a31fa5 button.colab-df-convert');\n",
              "      buttonEl.style.display =\n",
              "        google.colab.kernel.accessAllowed ? 'block' : 'none';\n",
              "\n",
              "      async function convertToInteractive(key) {\n",
              "        const element = document.querySelector('#df-165bbed2-97e7-4a75-9a8b-740921a31fa5');\n",
              "        const dataTable =\n",
              "          await google.colab.kernel.invokeFunction('convertToInteractive',\n",
              "                                                    [key], {});\n",
              "        if (!dataTable) return;\n",
              "\n",
              "        const docLinkHtml = 'Like what you see? Visit the ' +\n",
              "          '<a target=\"_blank\" href=https://colab.research.google.com/notebooks/data_table.ipynb>data table notebook</a>'\n",
              "          + ' to learn more about interactive tables.';\n",
              "        element.innerHTML = '';\n",
              "        dataTable['output_type'] = 'display_data';\n",
              "        await google.colab.output.renderOutput(dataTable, element);\n",
              "        const docLink = document.createElement('div');\n",
              "        docLink.innerHTML = docLinkHtml;\n",
              "        element.appendChild(docLink);\n",
              "      }\n",
              "    </script>\n",
              "  </div>\n",
              "\n",
              "\n",
              "<div id=\"df-32ec3032-e65b-438e-994d-5d5deed6db8c\">\n",
              "  <button class=\"colab-df-quickchart\" onclick=\"quickchart('df-32ec3032-e65b-438e-994d-5d5deed6db8c')\"\n",
              "            title=\"Suggest charts\"\n",
              "            style=\"display:none;\">\n",
              "\n",
              "<svg xmlns=\"http://www.w3.org/2000/svg\" height=\"24px\"viewBox=\"0 0 24 24\"\n",
              "     width=\"24px\">\n",
              "    <g>\n",
              "        <path d=\"M19 3H5c-1.1 0-2 .9-2 2v14c0 1.1.9 2 2 2h14c1.1 0 2-.9 2-2V5c0-1.1-.9-2-2-2zM9 17H7v-7h2v7zm4 0h-2V7h2v10zm4 0h-2v-4h2v4z\"/>\n",
              "    </g>\n",
              "</svg>\n",
              "  </button>\n",
              "\n",
              "<style>\n",
              "  .colab-df-quickchart {\n",
              "      --bg-color: #E8F0FE;\n",
              "      --fill-color: #1967D2;\n",
              "      --hover-bg-color: #E2EBFA;\n",
              "      --hover-fill-color: #174EA6;\n",
              "      --disabled-fill-color: #AAA;\n",
              "      --disabled-bg-color: #DDD;\n",
              "  }\n",
              "\n",
              "  [theme=dark] .colab-df-quickchart {\n",
              "      --bg-color: #3B4455;\n",
              "      --fill-color: #D2E3FC;\n",
              "      --hover-bg-color: #434B5C;\n",
              "      --hover-fill-color: #FFFFFF;\n",
              "      --disabled-bg-color: #3B4455;\n",
              "      --disabled-fill-color: #666;\n",
              "  }\n",
              "\n",
              "  .colab-df-quickchart {\n",
              "    background-color: var(--bg-color);\n",
              "    border: none;\n",
              "    border-radius: 50%;\n",
              "    cursor: pointer;\n",
              "    display: none;\n",
              "    fill: var(--fill-color);\n",
              "    height: 32px;\n",
              "    padding: 0;\n",
              "    width: 32px;\n",
              "  }\n",
              "\n",
              "  .colab-df-quickchart:hover {\n",
              "    background-color: var(--hover-bg-color);\n",
              "    box-shadow: 0 1px 2px rgba(60, 64, 67, 0.3), 0 1px 3px 1px rgba(60, 64, 67, 0.15);\n",
              "    fill: var(--button-hover-fill-color);\n",
              "  }\n",
              "\n",
              "  .colab-df-quickchart-complete:disabled,\n",
              "  .colab-df-quickchart-complete:disabled:hover {\n",
              "    background-color: var(--disabled-bg-color);\n",
              "    fill: var(--disabled-fill-color);\n",
              "    box-shadow: none;\n",
              "  }\n",
              "\n",
              "  .colab-df-spinner {\n",
              "    border: 2px solid var(--fill-color);\n",
              "    border-color: transparent;\n",
              "    border-bottom-color: var(--fill-color);\n",
              "    animation:\n",
              "      spin 1s steps(1) infinite;\n",
              "  }\n",
              "\n",
              "  @keyframes spin {\n",
              "    0% {\n",
              "      border-color: transparent;\n",
              "      border-bottom-color: var(--fill-color);\n",
              "      border-left-color: var(--fill-color);\n",
              "    }\n",
              "    20% {\n",
              "      border-color: transparent;\n",
              "      border-left-color: var(--fill-color);\n",
              "      border-top-color: var(--fill-color);\n",
              "    }\n",
              "    30% {\n",
              "      border-color: transparent;\n",
              "      border-left-color: var(--fill-color);\n",
              "      border-top-color: var(--fill-color);\n",
              "      border-right-color: var(--fill-color);\n",
              "    }\n",
              "    40% {\n",
              "      border-color: transparent;\n",
              "      border-right-color: var(--fill-color);\n",
              "      border-top-color: var(--fill-color);\n",
              "    }\n",
              "    60% {\n",
              "      border-color: transparent;\n",
              "      border-right-color: var(--fill-color);\n",
              "    }\n",
              "    80% {\n",
              "      border-color: transparent;\n",
              "      border-right-color: var(--fill-color);\n",
              "      border-bottom-color: var(--fill-color);\n",
              "    }\n",
              "    90% {\n",
              "      border-color: transparent;\n",
              "      border-bottom-color: var(--fill-color);\n",
              "    }\n",
              "  }\n",
              "</style>\n",
              "\n",
              "  <script>\n",
              "    async function quickchart(key) {\n",
              "      const quickchartButtonEl =\n",
              "        document.querySelector('#' + key + ' button');\n",
              "      quickchartButtonEl.disabled = true;  // To prevent multiple clicks.\n",
              "      quickchartButtonEl.classList.add('colab-df-spinner');\n",
              "      try {\n",
              "        const charts = await google.colab.kernel.invokeFunction(\n",
              "            'suggestCharts', [key], {});\n",
              "      } catch (error) {\n",
              "        console.error('Error during call to suggestCharts:', error);\n",
              "      }\n",
              "      quickchartButtonEl.classList.remove('colab-df-spinner');\n",
              "      quickchartButtonEl.classList.add('colab-df-quickchart-complete');\n",
              "    }\n",
              "    (() => {\n",
              "      let quickchartButtonEl =\n",
              "        document.querySelector('#df-32ec3032-e65b-438e-994d-5d5deed6db8c button');\n",
              "      quickchartButtonEl.style.display =\n",
              "        google.colab.kernel.accessAllowed ? 'block' : 'none';\n",
              "    })();\n",
              "  </script>\n",
              "</div>\n",
              "    </div>\n",
              "  </div>\n"
            ]
          },
          "metadata": {},
          "execution_count": 5
        }
      ]
    },
    {
      "cell_type": "code",
      "source": [
        "# Mengambil kolom dengan tipe data 'object' (kategorikal)\n",
        "kolom_kategorikal = x.select_dtypes(include=['object'])\n",
        "\n",
        "# Menampilkan nilai unik dari setiap kolom kategorikal\n",
        "for kolom in kolom_kategorikal:\n",
        "    nilai_unik = x[kolom].unique()\n",
        "    print(f\"Kolom '{kolom}' adalah kategorikal, nilai uniknya: {nilai_unik}\")\n"
      ],
      "metadata": {
        "colab": {
          "base_uri": "https://localhost:8080/"
        },
        "id": "fGvag_i_7NOn",
        "outputId": "f56731ab-1720-4f4b-9fd1-2aff91bbf00a"
      },
      "execution_count": null,
      "outputs": [
        {
          "output_type": "stream",
          "name": "stdout",
          "text": [
            "Kolom 'Drug' adalah kategorikal, nilai uniknya: ['D-penicillamine' 'Placebo' 'NaNN' nan]\n",
            "Kolom 'Sex' adalah kategorikal, nilai uniknya: ['F' 'M']\n",
            "Kolom 'Ascites' adalah kategorikal, nilai uniknya: ['Y' 'N' 'NaNN' nan]\n",
            "Kolom 'Hepatomegaly' adalah kategorikal, nilai uniknya: ['Y' 'N' 'NaNN' nan]\n",
            "Kolom 'Spiders' adalah kategorikal, nilai uniknya: ['Y' 'N' 'NaNN' nan]\n",
            "Kolom 'Edema' adalah kategorikal, nilai uniknya: ['Y' 'N' 'S']\n",
            "Kolom 'Cholesterol' adalah kategorikal, nilai uniknya: ['261' '302' '176' '244' '279' '248' '322' '280' '562' '200' '259' '236'\n",
            " '281' 'NaNN' '231' '204' '274' '178' '235' '374' '252' '271' '395' '456'\n",
            " '298' '1128' '175' '222' '370' '260' '296' '262' '210' '364' '314' '172'\n",
            " '334' '383' '282' '361' '299' '482' '316' '257' '276' '614' '288' '416'\n",
            " '498' '242' '329' '604' '216' '932' '373' '256' '427' '466' '174' '652'\n",
            " '258' '320' '132' '558' '674' '394' '436' '315' '247' '448' '472' '250'\n",
            " '263' '1600' '345' '408' '660' '325' '206' '353' '201' '420' '239' '460'\n",
            " '400' '188' '303' '464' '212' '127' '120' '486' '528' '267' '458' '950'\n",
            " '390' '636' '151' '251' '269' '268' '1775' '331' '578' '399' '426' '328'\n",
            " '290' '346' '332' '556' '309' '1015' '586' '217' '168' '220' '358' '286'\n",
            " '450' '317' '502' '233' '196' '1480' '376' '205' '283' '396' '478' '225'\n",
            " '808' '187' '360' '1092' '308' '293' '347' '226' '266' '392' '223' '149'\n",
            " '255' '382' '213' '232' '404' '1276' '608' '215' '372' '191' '518' '514'\n",
            " '1336' '253' '442' '300' '354' '468' '350' '273' '387' '1712' '324' '227'\n",
            " '246' '243' '193' '336' '414' '277' '375' '432' '356' '348' '318' '344'\n",
            " '321' '572' '219' '338' '198' '304' '412' '291' '310' '294' '339' '546'\n",
            " '194' '1000' '646' '275' '340' '342' '393' '335' '434' '576' nan]\n",
            "Kolom 'Copper' adalah kategorikal, nilai uniknya: ['156' '54' '210' '64' '143' '50' '52' '79' '140' '46' '94' '40' '43'\n",
            " '173' '28' '159' '588' '39' '41' '464' '558' '124' '53' '221' '209' '24'\n",
            " '172' '114' '101' '82' '37' '201' '18' '150' '102' '105' '96' '122' '36'\n",
            " '131' '19' '161' '68' '281' '58' '158' '262' '121' '88' '231' '73' '49'\n",
            " '95' '74' '84' '20' '51' '17' '280' '207' '111' '199' '75' '13' '269'\n",
            " '34' '154' '48' '29' '110' '178' '182' '33' '62' '77' '148' '145' '31'\n",
            " '57' '38' '10' '14' '89' '103' '208' '81' '67' '129' '444' '25' 'NaNN'\n",
            " '9' '42' '30' '205' '60' '35' '123' '27' '59' '86' '152' '32' '247' '290'\n",
            " '243' '225' '219' '217' '4' '91' '80' '200' '44' '65' '76' '63' '358'\n",
            " '251' '233' '267' '112' '26' '15' '227' '23' '108' '12' '11' '141' '72'\n",
            " '115' '47' '412' '78' '71' '308' '139' '116' '380' '188' '45' '138' '16'\n",
            " '22' '136' '130' '69' '220' '97' '70' '155' '107' '177' '196' '100' '90'\n",
            " '234' '186' nan]\n",
            "Kolom 'Tryglicerides' adalah kategorikal, nilai uniknya: ['172' '88' '55' '92' '72' '63' '213' '189' '143' '79' '95' '130' 'NaNN'\n",
            " '96' '58' '128' '200' '123' '135' '83' '191' '230' '66' '166' '168' '195'\n",
            " '86' '158' '101' '113' '64' '151' '118' '87' '111' '89' '50' '165' '71'\n",
            " '178' '73' '93' '125' '219' '319' '94' '124' '188' '112' '133' '108'\n",
            " '171' '185' '46' '184' '76' '80' '56' '309' '598' '243' '91' '104' '70'\n",
            " '318' '272' '100' '74' '84' '174' '98' '155' '68' '69' '122' '102' '53'\n",
            " '77' '52' '109' '78' '90' '156' '382' '149' '114' '210' '49' '85' '107'\n",
            " '137' '232' '97' '175' '99' '105' '121' '152' '218' '134' '146' '103'\n",
            " '106' '280' '126' '75' '205' '206' '140' '119' '180' '142' '154' '110'\n",
            " '145' '62' '164' '432' '157' '194' '67' '57' '131' '224' '44' '177' '81'\n",
            " '139' '322' '231' '214' '33' '120' '209' '260' '179' '117' '116' '193'\n",
            " '229' '169' '242' '153' '127' '144' '59' '82' nan]\n",
            "Kolom 'Platelets' adalah kategorikal, nilai uniknya: ['190' '221' '151' '183' '136' 'NaNN' '204' '373' '251' '302' '258' '71'\n",
            " '244' '156' '295' '198' '224' '283' '209' '322' '336' '173' '214' '70'\n",
            " '324' '421' '80' '144' '390' '124' '195' '286' '180' '273' '431' '311'\n",
            " '102' '234' '563' '358' '226' '344' '203' '199' '474' '518' '356' '233'\n",
            " '128' '362' '254' '213' '365' '216' '321' '228' '211' '329' '165' '178'\n",
            " '430' '123' '261' '227' '265' '410' '225' '278' '268' '132' '236' '426'\n",
            " '360' '385' '412' '81' '181' '447' '442' '200' '337' '145' '380' '188'\n",
            " '401' '338' '312' '172' '119' '327' '110' '349' '348' '137' '316' '334'\n",
            " '271' '141' '467' '266' '307' '438' '354' '207' '306' '256' '104' '182'\n",
            " '238' '166' '453' '418' '121' '427' '445' '206' '252' '142' '318' '277'\n",
            " '335' '253' '239' '330' '140' '301' '339' '270' '108' '487' '313' '269'\n",
            " '160' '88' '212' '263' '361' '217' '493' '340' '149' '325' '175' '79'\n",
            " '539' '471' '192' '164' '399' '382' '129' '117' '201' '381' '328' '332'\n",
            " '514' '281' '126' '240' '259' '309' '298' '114' '223' '146' '423' '176'\n",
            " '210' '231' '394' '139' '95' '284' '341' '319' '326' '282' '305' '185'\n",
            " '297' '371' '303' '249' '317' '97' '264' '242' '248' '375' '296' '279'\n",
            " '289' '153' '202' '372' '215' '280' '62' '255' '422' '143' '304' '291'\n",
            " '122' '299' '293' '243' '246' '275' '288' '378' '331' nan '260' '130'\n",
            " '721' '155' '475' '388' '191' '150' '167' '125' '171' '109' '314' '419'\n",
            " '517' '432' '384' '274' '292' '92' '76' '120' '402' '425' '189' '193'\n",
            " '219' '220' '162' '174' '350']\n"
          ]
        }
      ]
    },
    {
      "cell_type": "markdown",
      "source": [
        "### Preprosess data\n",
        "1. Drop Row with null value\n",
        "2. Change miss data type -> categorical to numerik\n",
        "3. Flatten y agar sesuai dengan input untuk rulekit"
      ],
      "metadata": {
        "id": "mY8Fjjtv6e2Z"
      }
    },
    {
      "cell_type": "code",
      "source": [
        "# Kolom yang ingin diubah menjadi numerik\n",
        "kolom_numerik = ['Cholesterol', 'Copper', 'Tryglicerides', 'Platelets']\n",
        "\n",
        "# Konversi kolom tertentu menjadi tipe data numerik\n",
        "x[kolom_numerik] = x[kolom_numerik].apply(pd.to_numeric, errors='coerce')\n",
        "\n",
        "# Menghapus baris yang memiliki nilai NaN di kolom tersebut\n",
        "x.dropna(subset=kolom_numerik, inplace=True)\n",
        "y = y.loc[x.index]"
      ],
      "metadata": {
        "colab": {
          "base_uri": "https://localhost:8080/"
        },
        "id": "8uemEYUJ6OIK",
        "outputId": "31d47699-97f0-4b97-f01a-e0f39b33811b"
      },
      "execution_count": null,
      "outputs": [
        {
          "output_type": "stream",
          "name": "stderr",
          "text": [
            "<ipython-input-7-26263365be3a>:5: SettingWithCopyWarning: \n",
            "A value is trying to be set on a copy of a slice from a DataFrame.\n",
            "Try using .loc[row_indexer,col_indexer] = value instead\n",
            "\n",
            "See the caveats in the documentation: https://pandas.pydata.org/pandas-docs/stable/user_guide/indexing.html#returning-a-view-versus-a-copy\n",
            "  x[kolom_numerik] = x[kolom_numerik].apply(pd.to_numeric, errors='coerce')\n",
            "<ipython-input-7-26263365be3a>:8: SettingWithCopyWarning: \n",
            "A value is trying to be set on a copy of a slice from a DataFrame\n",
            "\n",
            "See the caveats in the documentation: https://pandas.pydata.org/pandas-docs/stable/user_guide/indexing.html#returning-a-view-versus-a-copy\n",
            "  x.dropna(subset=kolom_numerik, inplace=True)\n"
          ]
        }
      ]
    },
    {
      "cell_type": "code",
      "source": [
        "x.shape"
      ],
      "metadata": {
        "colab": {
          "base_uri": "https://localhost:8080/"
        },
        "id": "mstK0f707jAM",
        "outputId": "c47d7e29-cccf-48f1-9302-fdcd5cf747a9"
      },
      "execution_count": null,
      "outputs": [
        {
          "output_type": "execute_result",
          "data": {
            "text/plain": [
              "(276, 17)"
            ]
          },
          "metadata": {},
          "execution_count": 8
        }
      ]
    },
    {
      "cell_type": "code",
      "source": [
        "y.shape"
      ],
      "metadata": {
        "colab": {
          "base_uri": "https://localhost:8080/"
        },
        "id": "wKwGNlqr7x1q",
        "outputId": "25ae95d4-111e-4163-b05f-48a4dff019c8"
      },
      "execution_count": null,
      "outputs": [
        {
          "output_type": "execute_result",
          "data": {
            "text/plain": [
              "(276, 1)"
            ]
          },
          "metadata": {},
          "execution_count": 9
        }
      ]
    },
    {
      "cell_type": "code",
      "source": [
        "# Mengambil kolom dengan tipe data 'object' (kategorikal)\n",
        "kolom_kategorikal = x.select_dtypes(include=['object'])\n",
        "\n",
        "# Menampilkan nilai unik dari setiap kolom kategorikal\n",
        "for kolom in kolom_kategorikal:\n",
        "    nilai_unik = x[kolom].unique()\n",
        "    print(f\"Kolom '{kolom}' adalah kategorikal, nilai uniknya: {nilai_unik}\")\n"
      ],
      "metadata": {
        "colab": {
          "base_uri": "https://localhost:8080/"
        },
        "id": "w2ktNirO7zqq",
        "outputId": "64eb9b3a-2ffd-4da8-e2bb-8b6918f2f077"
      },
      "execution_count": null,
      "outputs": [
        {
          "output_type": "stream",
          "name": "stdout",
          "text": [
            "Kolom 'Drug' adalah kategorikal, nilai uniknya: ['D-penicillamine' 'Placebo']\n",
            "Kolom 'Sex' adalah kategorikal, nilai uniknya: ['F' 'M']\n",
            "Kolom 'Ascites' adalah kategorikal, nilai uniknya: ['Y' 'N']\n",
            "Kolom 'Hepatomegaly' adalah kategorikal, nilai uniknya: ['Y' 'N']\n",
            "Kolom 'Spiders' adalah kategorikal, nilai uniknya: ['Y' 'N']\n",
            "Kolom 'Edema' adalah kategorikal, nilai uniknya: ['Y' 'N' 'S']\n"
          ]
        }
      ]
    },
    {
      "cell_type": "code",
      "source": [
        "import numpy as np\n",
        "y = np.array(y)\n",
        "y = y.flatten()\n",
        "print(y)"
      ],
      "metadata": {
        "colab": {
          "base_uri": "https://localhost:8080/"
        },
        "id": "o_ZM_5zu8NeX",
        "outputId": "193d0e27-6486-44fe-ac12-a58ba00117a9"
      },
      "execution_count": null,
      "outputs": [
        {
          "output_type": "stream",
          "name": "stdout",
          "text": [
            "['D' 'C' 'D' 'D' 'CL' 'C' 'D' 'D' 'D' 'D' 'D' 'C' 'D' 'C' 'D' 'D' 'C' 'D'\n",
            " 'C' 'D' 'D' 'D' 'C' 'D' 'D' 'D' 'C' 'D' 'D' 'C' 'D' 'C' 'D' 'C' 'D' 'D'\n",
            " 'D' 'C' 'D' 'D' 'C' 'C' 'D' 'D' 'D' 'D' 'D' 'D' 'D' 'D' 'C' 'C' 'D' 'D'\n",
            " 'D' 'C' 'D' 'D' 'C' 'D' 'C' 'C' 'C' 'D' 'D' 'D' 'D' 'D' 'C' 'D' 'D' 'D'\n",
            " 'C' 'C' 'D' 'D' 'D' 'C' 'D' 'D' 'D' 'D' 'C' 'D' 'D' 'C' 'C' 'D' 'C' 'C'\n",
            " 'D' 'D' 'CL' 'C' 'D' 'C' 'D' 'CL' 'D' 'D' 'D' 'C' 'C' 'D' 'D' 'D' 'CL'\n",
            " 'D' 'C' 'C' 'CL' 'C' 'D' 'D' 'C' 'D' 'C' 'C' 'C' 'C' 'D' 'C' 'C' 'C' 'D'\n",
            " 'D' 'D' 'C' 'C' 'D' 'D' 'C' 'D' 'C' 'D' 'C' 'D' 'C' 'CL' 'D' 'C' 'C' 'D'\n",
            " 'D' 'D' 'C' 'D' 'D' 'C' 'C' 'C' 'C' 'C' 'C' 'C' 'C' 'CL' 'D' 'C' 'D' 'D'\n",
            " 'C' 'C' 'D' 'C' 'D' 'C' 'C' 'C' 'C' 'C' 'C' 'C' 'C' 'C' 'C' 'D' 'C' 'D'\n",
            " 'C' 'C' 'C' 'C' 'D' 'D' 'D' 'C' 'D' 'C' 'D' 'D' 'C' 'C' 'C' 'D' 'C' 'D'\n",
            " 'C' 'D' 'C' 'C' 'C' 'C' 'C' 'C' 'D' 'C' 'CL' 'C' 'D' 'D' 'C' 'CL' 'CL'\n",
            " 'C' 'C' 'C' 'C' 'C' 'C' 'CL' 'C' 'C' 'C' 'C' 'C' 'C' 'C' 'CL' 'CL' 'CL'\n",
            " 'C' 'D' 'D' 'C' 'C' 'C' 'C' 'C' 'C' 'C' 'C' 'C' 'C' 'C' 'D' 'C' 'C' 'C'\n",
            " 'C' 'C' 'C' 'CL' 'D' 'C' 'CL' 'C' 'C' 'C' 'CL' 'C' 'CL' 'C' 'C' 'C' 'C'\n",
            " 'C' 'C' 'C' 'C' 'C' 'C' 'C' 'C' 'C' 'C']\n"
          ]
        }
      ]
    },
    {
      "cell_type": "markdown",
      "source": [
        "### Menjalankan Rulekit"
      ],
      "metadata": {
        "id": "PJ7Khu-48851"
      }
    },
    {
      "cell_type": "code",
      "source": [
        "from rulekit import RuleKit\n",
        "from rulekit.classification import RuleClassifier\n",
        "from rulekit.params import Measures\n",
        "\n",
        "RuleKit.init()"
      ],
      "metadata": {
        "id": "z1tISHhM88Ra"
      },
      "execution_count": null,
      "outputs": []
    },
    {
      "cell_type": "code",
      "source": [
        "import sklearn.tree as scikit\n",
        "from sklearn.datasets import load_iris\n",
        "import math\n",
        "from sklearn.preprocessing import MultiLabelBinarizer\n",
        "from sklearn import metrics\n",
        "import pandas as pd\n",
        "import numpy as np\n",
        "from typing import Tuple\n",
        "\n",
        "\n",
        "def get_prediction_metrics(measure: str, y_pred, y_true, classification_metrics: dict) -> Tuple[pd.DataFrame, np.ndarray]:\n",
        "    confusion_matrix = metrics.confusion_matrix(y_true, y_pred)\n",
        "    tn, fp, fn, tp = confusion_matrix.ravel()\n",
        "    sensitivity = tp  / (tp + fn)\n",
        "    specificity = tn  / (tn + fp)\n",
        "    npv = tn  / (tn + fn)\n",
        "    ppv = tp  / (tp + fp)\n",
        "\n",
        "    dictionary = {\n",
        "        'Measure': measure,\n",
        "        'Accuracy': metrics.accuracy_score(y_true, y_pred),\n",
        "        'MAE': metrics.mean_absolute_error(y_true, y_pred),\n",
        "        'Kappa': metrics.cohen_kappa_score(y_true, y_pred),\n",
        "        'Balanced accuracy': metrics.balanced_accuracy_score(y_true, y_pred),\n",
        "        'Logistic loss': metrics.log_loss(y_true, y_pred),\n",
        "        'Precision': metrics.log_loss(y_true, y_pred),\n",
        "        'Sensitivity': sensitivity,\n",
        "        'Specificity': specificity,\n",
        "        'NPV': npv,\n",
        "        'PPV': ppv,\n",
        "        'psep': ppv + npv - 1,\n",
        "        'Fall-out': fp  / (fp + tn),\n",
        "        \"Youden's J statistic\": sensitivity + specificity - 1,\n",
        "        'Lift': (tp / (tp + fp)) / ((tp + fn) / (tp + tn + fp + fn)),\n",
        "        'F-measure': 2 * tp / (2 * tp + fp + fn),\n",
        "        'Fowlkes-Mallows index': metrics.fowlkes_mallows_score(y_true, y_pred),\n",
        "        'False positive': fp,\n",
        "        'False negative': fn,\n",
        "        'True positive': tp,\n",
        "        'True negative': tn,\n",
        "        'Rules per example': classification_metrics['rules_per_example'],\n",
        "        'Voting conflicts': classification_metrics['voting_conflicts'],\n",
        "        'Negative voting conflicts': classification_metrics['negative_voting_conflicts'],\n",
        "        'Geometric mean': math.sqrt(specificity * sensitivity),\n",
        "        'Geometric mean': math.sqrt(specificity * sensitivity),\n",
        "    }\n",
        "    return pd.DataFrame.from_records([dictionary], index='Measure'), confusion_matrix\n",
        "\n",
        "def get_ruleset_stats(measure: str, model) -> pd.DataFrame:\n",
        "    return pd.DataFrame.from_records([{'Measure': measure, **model.stats.__dict__}], index='Measure')"
      ],
      "metadata": {
        "id": "VE14bZ1VFP3_"
      },
      "execution_count": null,
      "outputs": []
    },
    {
      "cell_type": "code",
      "source": [
        "from rulekit.params import Measures\n",
        "from IPython.display import display\n",
        "\n",
        "# C2\n",
        "clf = RuleClassifier(\n",
        "    induction_measure=Measures.C2,\n",
        "    pruning_measure=Measures.C2,\n",
        "    voting_measure=Measures.C2,\n",
        ")\n",
        "clf.fit(x, y)\n",
        "c2_ruleset = clf.model\n",
        "prediction, classification_metrics = clf.predict(x, return_metrics=True)\n",
        "\n",
        "# prediction_metric, c2_confusion_matrix = get_prediction_metrics('C2', prediction, y, classification_metrics)\n",
        "# model_stats = get_ruleset_stats('C2', clf.model)\n",
        "\n",
        "# Correlation\n",
        "clf = RuleClassifier(\n",
        "    induction_measure=Measures.Correlation,\n",
        "    pruning_measure=Measures.Correlation,\n",
        "    voting_measure=Measures.Correlation,\n",
        ")\n",
        "clf.fit(x, y)\n",
        "# corr_ruleset = clf.model\n",
        "# prediction, classification_metrics = clf.predict(x, return_metrics=True)\n",
        "\n",
        "# tmp, corr_confusion_matrix = get_prediction_metrics('Correlation', prediction, y, classification_metrics)\n",
        "# prediction_metric = pd.concat([prediction_metric, tmp])\n",
        "# model_stats = pd.concat([model_stats, get_ruleset_stats('Correlation', clf.model)])\n",
        "\n",
        "# RSS\n",
        "clf = RuleClassifier(\n",
        "    induction_measure=Measures.RSS,\n",
        "    pruning_measure=Measures.RSS,\n",
        "    voting_measure=Measures.RSS,\n",
        ")\n",
        "clf.fit(x, y)\n",
        "# rss_ruleset = clf.model\n",
        "# prediction, classification_metrics = clf.predict(x, return_metrics=True)\n",
        "# tmp, rss_confusion_matrix = get_prediction_metrics('RSS', prediction, y, classification_metrics)\n",
        "# prediction_metric = pd.concat([prediction_metric, tmp])\n",
        "# model_stats = pd.concat([model_stats, get_ruleset_stats('RSS', clf.model)])\n",
        "\n",
        "# display(model_stats)\n",
        "# display(prediction_metric)\n",
        "\n",
        "# print('Confusion matrix - C2')\n",
        "# display(pd.DataFrame(c2_confusion_matrix))\n",
        "\n",
        "# print('Confusion matrix - Correlation')\n",
        "# display(pd.DataFrame(corr_confusion_matrix))\n",
        "\n",
        "# print('Confusion matrix - RSS')\n",
        "# display(pd.DataFrame(rss_confusion_matrix))"
      ],
      "metadata": {
        "colab": {
          "base_uri": "https://localhost:8080/",
          "height": 366
        },
        "id": "wQ-7q_zhFXRd",
        "outputId": "84728cc8-b12e-41a1-e8e2-f2487cb144cd"
      },
      "execution_count": null,
      "outputs": [
        {
          "output_type": "error",
          "ename": "ValueError",
          "evalue": "ignored",
          "traceback": [
            "\u001b[0;31m---------------------------------------------------------------------------\u001b[0m",
            "\u001b[0;31mValueError\u001b[0m                                Traceback (most recent call last)",
            "\u001b[0;32m<ipython-input-15-44697c2dd15b>\u001b[0m in \u001b[0;36m<cell line: 27>\u001b[0;34m()\u001b[0m\n\u001b[1;32m     25\u001b[0m \u001b[0mprediction\u001b[0m\u001b[0;34m,\u001b[0m \u001b[0mclassification_metrics\u001b[0m \u001b[0;34m=\u001b[0m \u001b[0mclf\u001b[0m\u001b[0;34m.\u001b[0m\u001b[0mpredict\u001b[0m\u001b[0;34m(\u001b[0m\u001b[0mx\u001b[0m\u001b[0;34m,\u001b[0m \u001b[0mreturn_metrics\u001b[0m\u001b[0;34m=\u001b[0m\u001b[0;32mTrue\u001b[0m\u001b[0;34m)\u001b[0m\u001b[0;34m\u001b[0m\u001b[0;34m\u001b[0m\u001b[0m\n\u001b[1;32m     26\u001b[0m \u001b[0;34m\u001b[0m\u001b[0m\n\u001b[0;32m---> 27\u001b[0;31m \u001b[0mtmp\u001b[0m\u001b[0;34m,\u001b[0m \u001b[0mcorr_confusion_matrix\u001b[0m \u001b[0;34m=\u001b[0m \u001b[0mget_prediction_metrics\u001b[0m\u001b[0;34m(\u001b[0m\u001b[0;34m'Correlation'\u001b[0m\u001b[0;34m,\u001b[0m \u001b[0mprediction\u001b[0m\u001b[0;34m,\u001b[0m \u001b[0my\u001b[0m\u001b[0;34m,\u001b[0m \u001b[0mclassification_metrics\u001b[0m\u001b[0;34m)\u001b[0m\u001b[0;34m\u001b[0m\u001b[0;34m\u001b[0m\u001b[0m\n\u001b[0m\u001b[1;32m     28\u001b[0m \u001b[0mprediction_metric\u001b[0m \u001b[0;34m=\u001b[0m \u001b[0mpd\u001b[0m\u001b[0;34m.\u001b[0m\u001b[0mconcat\u001b[0m\u001b[0;34m(\u001b[0m\u001b[0;34m[\u001b[0m\u001b[0mprediction_metric\u001b[0m\u001b[0;34m,\u001b[0m \u001b[0mtmp\u001b[0m\u001b[0;34m]\u001b[0m\u001b[0;34m)\u001b[0m\u001b[0;34m\u001b[0m\u001b[0;34m\u001b[0m\u001b[0m\n\u001b[1;32m     29\u001b[0m \u001b[0mmodel_stats\u001b[0m \u001b[0;34m=\u001b[0m \u001b[0mpd\u001b[0m\u001b[0;34m.\u001b[0m\u001b[0mconcat\u001b[0m\u001b[0;34m(\u001b[0m\u001b[0;34m[\u001b[0m\u001b[0mmodel_stats\u001b[0m\u001b[0;34m,\u001b[0m \u001b[0mget_ruleset_stats\u001b[0m\u001b[0;34m(\u001b[0m\u001b[0;34m'Correlation'\u001b[0m\u001b[0;34m,\u001b[0m \u001b[0mclf\u001b[0m\u001b[0;34m.\u001b[0m\u001b[0mmodel\u001b[0m\u001b[0;34m)\u001b[0m\u001b[0;34m]\u001b[0m\u001b[0;34m)\u001b[0m\u001b[0;34m\u001b[0m\u001b[0;34m\u001b[0m\u001b[0m\n",
            "\u001b[0;32m<ipython-input-13-7cdb3f381943>\u001b[0m in \u001b[0;36mget_prediction_metrics\u001b[0;34m(measure, y_pred, y_true, classification_metrics)\u001b[0m\n\u001b[1;32m     11\u001b[0m \u001b[0;32mdef\u001b[0m \u001b[0mget_prediction_metrics\u001b[0m\u001b[0;34m(\u001b[0m\u001b[0mmeasure\u001b[0m\u001b[0;34m:\u001b[0m \u001b[0mstr\u001b[0m\u001b[0;34m,\u001b[0m \u001b[0my_pred\u001b[0m\u001b[0;34m,\u001b[0m \u001b[0my_true\u001b[0m\u001b[0;34m,\u001b[0m \u001b[0mclassification_metrics\u001b[0m\u001b[0;34m:\u001b[0m \u001b[0mdict\u001b[0m\u001b[0;34m)\u001b[0m \u001b[0;34m->\u001b[0m \u001b[0mTuple\u001b[0m\u001b[0;34m[\u001b[0m\u001b[0mpd\u001b[0m\u001b[0;34m.\u001b[0m\u001b[0mDataFrame\u001b[0m\u001b[0;34m,\u001b[0m \u001b[0mnp\u001b[0m\u001b[0;34m.\u001b[0m\u001b[0mndarray\u001b[0m\u001b[0;34m]\u001b[0m\u001b[0;34m:\u001b[0m\u001b[0;34m\u001b[0m\u001b[0;34m\u001b[0m\u001b[0m\n\u001b[1;32m     12\u001b[0m     \u001b[0mconfusion_matrix\u001b[0m \u001b[0;34m=\u001b[0m \u001b[0mmetrics\u001b[0m\u001b[0;34m.\u001b[0m\u001b[0mconfusion_matrix\u001b[0m\u001b[0;34m(\u001b[0m\u001b[0my_true\u001b[0m\u001b[0;34m,\u001b[0m \u001b[0my_pred\u001b[0m\u001b[0;34m)\u001b[0m\u001b[0;34m\u001b[0m\u001b[0;34m\u001b[0m\u001b[0m\n\u001b[0;32m---> 13\u001b[0;31m     \u001b[0mtn\u001b[0m\u001b[0;34m,\u001b[0m \u001b[0mfp\u001b[0m\u001b[0;34m,\u001b[0m \u001b[0mfn\u001b[0m\u001b[0;34m,\u001b[0m \u001b[0mtp\u001b[0m \u001b[0;34m=\u001b[0m \u001b[0mconfusion_matrix\u001b[0m\u001b[0;34m.\u001b[0m\u001b[0mravel\u001b[0m\u001b[0;34m(\u001b[0m\u001b[0;34m)\u001b[0m\u001b[0;34m\u001b[0m\u001b[0;34m\u001b[0m\u001b[0m\n\u001b[0m\u001b[1;32m     14\u001b[0m     \u001b[0msensitivity\u001b[0m \u001b[0;34m=\u001b[0m \u001b[0mtp\u001b[0m  \u001b[0;34m/\u001b[0m \u001b[0;34m(\u001b[0m\u001b[0mtp\u001b[0m \u001b[0;34m+\u001b[0m \u001b[0mfn\u001b[0m\u001b[0;34m)\u001b[0m\u001b[0;34m\u001b[0m\u001b[0;34m\u001b[0m\u001b[0m\n\u001b[1;32m     15\u001b[0m     \u001b[0mspecificity\u001b[0m \u001b[0;34m=\u001b[0m \u001b[0mtn\u001b[0m  \u001b[0;34m/\u001b[0m \u001b[0;34m(\u001b[0m\u001b[0mtn\u001b[0m \u001b[0;34m+\u001b[0m \u001b[0mfp\u001b[0m\u001b[0;34m)\u001b[0m\u001b[0;34m\u001b[0m\u001b[0;34m\u001b[0m\u001b[0m\n",
            "\u001b[0;31mValueError\u001b[0m: too many values to unpack (expected 4)"
          ]
        }
      ]
    },
    {
      "cell_type": "code",
      "source": [
        "for rule in c2_ruleset.rules:\n",
        "    print(rule)"
      ],
      "metadata": {
        "id": "G7NF_bmvF0bf"
      },
      "execution_count": null,
      "outputs": []
    },
    {
      "cell_type": "code",
      "source": [
        "for rule in corr_ruleset.rules:\n",
        "    print(rule)"
      ],
      "metadata": {
        "id": "-vJ9M9qbF1pM"
      },
      "execution_count": null,
      "outputs": []
    },
    {
      "cell_type": "code",
      "source": [
        "for rule in rss_ruleset.rules:\n",
        "    print(rule)"
      ],
      "metadata": {
        "id": "iKfpeROHF2-2"
      },
      "execution_count": null,
      "outputs": []
    },
    {
      "cell_type": "markdown",
      "source": [
        "### Prediksi Dataset dengan Rule yang sudah dibuat"
      ],
      "metadata": {
        "id": "dE9Ljp_P9Fvs"
      }
    },
    {
      "cell_type": "code",
      "source": [
        "prediction = clf.predict(X)\n",
        "print(prediction)"
      ],
      "metadata": {
        "id": "V4uo6FrR83ea"
      },
      "execution_count": null,
      "outputs": []
    },
    {
      "cell_type": "code",
      "source": [
        "#Cek akurasi\n",
        "from sklearn.metrics import accuracy_score\n",
        "\n",
        "accuracy = accuracy_score(y, prediction)\n",
        "print(accuracy)"
      ],
      "metadata": {
        "id": "NFb6ZrXa9Kb4"
      },
      "execution_count": null,
      "outputs": []
    },
    {
      "cell_type": "markdown",
      "source": [
        "### Simulasi sistem dengan rule yang telah dibuat"
      ],
      "metadata": {
        "id": "hBSoj8nV9Tyk"
      }
    },
    {
      "cell_type": "code",
      "source": [
        "tes = [\n",
        "    ['D-PENICILLAMINE', 25, 'F', 'N', 'N', 'N', 'N', 1.2, 180, 4.5, 90, 187, 18, 45, 163, 12.3, 1]\n",
        "]"
      ],
      "metadata": {
        "id": "_MJJhMWT-q5i"
      },
      "execution_count": null,
      "outputs": []
    },
    {
      "cell_type": "code",
      "source": [
        "data = []\n",
        "pasien = input(\"nama pasien: \")\n",
        "columns = [\n",
        "    'Drug', 'Age', 'Sex', 'Ascites', 'Hepatomegaly', 'Spiders', 'Edema',\n",
        "    'Bilirubin', 'Cholesterol', 'Albumin', 'Copper', 'Alk_Phos', 'SGOT',\n",
        "    'Tryglicerides', 'Platelets', 'Prothrombin', 'Stage'\n",
        "]\n",
        "\n",
        "categorical_column = {\n",
        "    'Drug': {'D-PENICILLAMINE', 'Placebo'},\n",
        "    'Sex': {'F', 'M'},\n",
        "    'Ascites': {'N', 'Y'},\n",
        "    'Hepatomegaly': {'N', 'Y'},\n",
        "    'Spiders': {'N', 'Y'},\n",
        "    'Edema': {'N', 'S', 'Y'}\n",
        "}\n",
        "\n",
        "for column in columns:\n",
        "    if column in categorical_column:\n",
        "        print(f\"Masukkan data '{column}' dari opsi: {', '.join(categorical_column[column])}\")\n",
        "    else:\n",
        "        print(f\"Masukkan data '{column}':\")\n",
        "    user_input_data = input()\n",
        "\n",
        "    if column in categorical_column and user_input_data not in categorical_column[column]:\n",
        "        print(\"Input tidak valid. Coba lagi.\")\n",
        "        user_input_data = input()\n",
        "\n",
        "    data.append(user_input_data)\n",
        "\n",
        "data=[data]\n",
        "\n",
        "print(\"Data yang telah diinputkan:\")\n",
        "print(data)\n",
        "\n"
      ],
      "metadata": {
        "id": "4w6Dc1979TAQ"
      },
      "execution_count": null,
      "outputs": []
    },
    {
      "cell_type": "code",
      "source": [
        "predict = clf.predict(data)\n",
        "if predict == 'C':\n",
        "  kelas = 'Cencored'\n",
        "elif predict == 'CL':\n",
        "  kelas = 'Cencored due to Liver Transplantation'\n",
        "elif predict == 'D':\n",
        "  kelas = 'Death'\n",
        "\n",
        "print(f\"Pasien {pasien} termasuk ke dalam kelas {kelas}\")"
      ],
      "metadata": {
        "id": "u5LgE5Xu9PnT"
      },
      "execution_count": null,
      "outputs": []
    },
    {
      "cell_type": "code",
      "source": [],
      "metadata": {
        "id": "EUqOWkcDBDeH"
      },
      "execution_count": null,
      "outputs": []
    }
  ]
}